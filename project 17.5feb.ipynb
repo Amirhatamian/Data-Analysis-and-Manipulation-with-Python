{
  "nbformat": 4,
  "nbformat_minor": 0,
  "metadata": {
    "colab": {
      "provenance": [],
      "authorship_tag": "ABX9TyO5I3Bw9EHXKnFi31RmdK5H",
      "include_colab_link": true
    },
    "kernelspec": {
      "name": "python3",
      "display_name": "Python 3"
    },
    "language_info": {
      "name": "python"
    }
  },
  "cells": [
    {
      "cell_type": "markdown",
      "metadata": {
        "id": "view-in-github",
        "colab_type": "text"
      },
      "source": [
        "<a href=\"https://colab.research.google.com/github/Amirhatamian/PY/blob/main/project%2017.5feb.ipynb\" target=\"_parent\"><img src=\"https://colab.research.google.com/assets/colab-badge.svg\" alt=\"Open In Colab\"/></a>"
      ]
    },
    {
      "cell_type": "markdown",
      "source": [
        "# **Importing** **libraries** **and** **Create** **Dataframe**"
      ],
      "metadata": {
        "id": "YV19Fb-D4F1j"
      }
    },
    {
      "cell_type": "code",
      "execution_count": 1,
      "metadata": {
        "id": "gPJtbYs_ThL4"
      },
      "outputs": [],
      "source": [
        "# importing required libraries\n",
        "import pandas as pd\n",
        "pd.set_option('display.max_columns', None)\n",
        "import numpy as np\n",
        "import matplotlib.pyplot as plt\n",
        "import seaborn as sns\n"
      ]
    },
    {
      "cell_type": "code",
      "source": [
        "# creating netflix_movie dataframe\n",
        "netflix_movies_df = pd.read_csv('netflix_titles.csv')"
      ],
      "metadata": {
        "id": "leXu2k6EVqax"
      },
      "execution_count": 2,
      "outputs": []
    },
    {
      "cell_type": "markdown",
      "source": [
        "# **Data Exploration, Data Wrangling and Data Cleaning**"
      ],
      "metadata": {
        "id": "-dVOd50tA43w"
      }
    },
    {
      "cell_type": "code",
      "source": [
        "netflix_movies_df"
      ],
      "metadata": {
        "colab": {
          "base_uri": "https://localhost:8080/",
          "height": 1000
        },
        "id": "rOB4lBX4VqdM",
        "outputId": "b2ea1930-103c-4f4b-b752-a72c9a1745cc"
      },
      "execution_count": null,
      "outputs": [
        {
          "output_type": "execute_result",
          "data": {
            "text/plain": [
              "     show_id     type                  title         director  \\\n",
              "0         s1    Movie   Dick Johnson Is Dead  Kirsten Johnson   \n",
              "1         s2  TV Show          Blood & Water              NaN   \n",
              "2         s3  TV Show              Ganglands  Julien Leclercq   \n",
              "3         s4  TV Show  Jailbirds New Orleans              NaN   \n",
              "4         s5  TV Show           Kota Factory              NaN   \n",
              "...      ...      ...                    ...              ...   \n",
              "8802   s8803    Movie                 Zodiac    David Fincher   \n",
              "8803   s8804  TV Show            Zombie Dumb              NaN   \n",
              "8804   s8805    Movie             Zombieland  Ruben Fleischer   \n",
              "8805   s8806    Movie                   Zoom     Peter Hewitt   \n",
              "8806   s8807    Movie                 Zubaan      Mozez Singh   \n",
              "\n",
              "                                                   cast        country  \\\n",
              "0                                                   NaN  United States   \n",
              "1     Ama Qamata, Khosi Ngema, Gail Mabalane, Thaban...   South Africa   \n",
              "2     Sami Bouajila, Tracy Gotoas, Samuel Jouy, Nabi...            NaN   \n",
              "3                                                   NaN            NaN   \n",
              "4     Mayur More, Jitendra Kumar, Ranjan Raj, Alam K...          India   \n",
              "...                                                 ...            ...   \n",
              "8802  Mark Ruffalo, Jake Gyllenhaal, Robert Downey J...  United States   \n",
              "8803                                                NaN            NaN   \n",
              "8804  Jesse Eisenberg, Woody Harrelson, Emma Stone, ...  United States   \n",
              "8805  Tim Allen, Courteney Cox, Chevy Chase, Kate Ma...  United States   \n",
              "8806  Vicky Kaushal, Sarah-Jane Dias, Raaghav Chanan...          India   \n",
              "\n",
              "              date_added  release_year rating   duration  \\\n",
              "0     September 25, 2021          2020  PG-13     90 min   \n",
              "1     September 24, 2021          2021  TV-MA  2 Seasons   \n",
              "2     September 24, 2021          2021  TV-MA   1 Season   \n",
              "3     September 24, 2021          2021  TV-MA   1 Season   \n",
              "4     September 24, 2021          2021  TV-MA  2 Seasons   \n",
              "...                  ...           ...    ...        ...   \n",
              "8802   November 20, 2019          2007      R    158 min   \n",
              "8803        July 1, 2019          2018  TV-Y7  2 Seasons   \n",
              "8804    November 1, 2019          2009      R     88 min   \n",
              "8805    January 11, 2020          2006     PG     88 min   \n",
              "8806       March 2, 2019          2015  TV-14    111 min   \n",
              "\n",
              "                                              listed_in  \\\n",
              "0                                         Documentaries   \n",
              "1       International TV Shows, TV Dramas, TV Mysteries   \n",
              "2     Crime TV Shows, International TV Shows, TV Act...   \n",
              "3                                Docuseries, Reality TV   \n",
              "4     International TV Shows, Romantic TV Shows, TV ...   \n",
              "...                                                 ...   \n",
              "8802                     Cult Movies, Dramas, Thrillers   \n",
              "8803             Kids' TV, Korean TV Shows, TV Comedies   \n",
              "8804                            Comedies, Horror Movies   \n",
              "8805                 Children & Family Movies, Comedies   \n",
              "8806     Dramas, International Movies, Music & Musicals   \n",
              "\n",
              "                                            description  \n",
              "0     As her father nears the end of his life, filmm...  \n",
              "1     After crossing paths at a party, a Cape Town t...  \n",
              "2     To protect his family from a powerful drug lor...  \n",
              "3     Feuds, flirtations and toilet talk go down amo...  \n",
              "4     In a city of coaching centers known to train I...  \n",
              "...                                                 ...  \n",
              "8802  A political cartoonist, a crime reporter and a...  \n",
              "8803  While living alone in a spooky town, a young g...  \n",
              "8804  Looking to survive in a world taken over by zo...  \n",
              "8805  Dragged from civilian life, a former superhero...  \n",
              "8806  A scrappy but poor boy worms his way into a ty...  \n",
              "\n",
              "[8807 rows x 12 columns]"
            ],
            "text/html": [
              "\n",
              "  <div id=\"df-32875adb-b1f5-4929-9bef-c9939acf4362\">\n",
              "    <div class=\"colab-df-container\">\n",
              "      <div>\n",
              "<style scoped>\n",
              "    .dataframe tbody tr th:only-of-type {\n",
              "        vertical-align: middle;\n",
              "    }\n",
              "\n",
              "    .dataframe tbody tr th {\n",
              "        vertical-align: top;\n",
              "    }\n",
              "\n",
              "    .dataframe thead th {\n",
              "        text-align: right;\n",
              "    }\n",
              "</style>\n",
              "<table border=\"1\" class=\"dataframe\">\n",
              "  <thead>\n",
              "    <tr style=\"text-align: right;\">\n",
              "      <th></th>\n",
              "      <th>show_id</th>\n",
              "      <th>type</th>\n",
              "      <th>title</th>\n",
              "      <th>director</th>\n",
              "      <th>cast</th>\n",
              "      <th>country</th>\n",
              "      <th>date_added</th>\n",
              "      <th>release_year</th>\n",
              "      <th>rating</th>\n",
              "      <th>duration</th>\n",
              "      <th>listed_in</th>\n",
              "      <th>description</th>\n",
              "    </tr>\n",
              "  </thead>\n",
              "  <tbody>\n",
              "    <tr>\n",
              "      <th>0</th>\n",
              "      <td>s1</td>\n",
              "      <td>Movie</td>\n",
              "      <td>Dick Johnson Is Dead</td>\n",
              "      <td>Kirsten Johnson</td>\n",
              "      <td>NaN</td>\n",
              "      <td>United States</td>\n",
              "      <td>September 25, 2021</td>\n",
              "      <td>2020</td>\n",
              "      <td>PG-13</td>\n",
              "      <td>90 min</td>\n",
              "      <td>Documentaries</td>\n",
              "      <td>As her father nears the end of his life, filmm...</td>\n",
              "    </tr>\n",
              "    <tr>\n",
              "      <th>1</th>\n",
              "      <td>s2</td>\n",
              "      <td>TV Show</td>\n",
              "      <td>Blood &amp; Water</td>\n",
              "      <td>NaN</td>\n",
              "      <td>Ama Qamata, Khosi Ngema, Gail Mabalane, Thaban...</td>\n",
              "      <td>South Africa</td>\n",
              "      <td>September 24, 2021</td>\n",
              "      <td>2021</td>\n",
              "      <td>TV-MA</td>\n",
              "      <td>2 Seasons</td>\n",
              "      <td>International TV Shows, TV Dramas, TV Mysteries</td>\n",
              "      <td>After crossing paths at a party, a Cape Town t...</td>\n",
              "    </tr>\n",
              "    <tr>\n",
              "      <th>2</th>\n",
              "      <td>s3</td>\n",
              "      <td>TV Show</td>\n",
              "      <td>Ganglands</td>\n",
              "      <td>Julien Leclercq</td>\n",
              "      <td>Sami Bouajila, Tracy Gotoas, Samuel Jouy, Nabi...</td>\n",
              "      <td>NaN</td>\n",
              "      <td>September 24, 2021</td>\n",
              "      <td>2021</td>\n",
              "      <td>TV-MA</td>\n",
              "      <td>1 Season</td>\n",
              "      <td>Crime TV Shows, International TV Shows, TV Act...</td>\n",
              "      <td>To protect his family from a powerful drug lor...</td>\n",
              "    </tr>\n",
              "    <tr>\n",
              "      <th>3</th>\n",
              "      <td>s4</td>\n",
              "      <td>TV Show</td>\n",
              "      <td>Jailbirds New Orleans</td>\n",
              "      <td>NaN</td>\n",
              "      <td>NaN</td>\n",
              "      <td>NaN</td>\n",
              "      <td>September 24, 2021</td>\n",
              "      <td>2021</td>\n",
              "      <td>TV-MA</td>\n",
              "      <td>1 Season</td>\n",
              "      <td>Docuseries, Reality TV</td>\n",
              "      <td>Feuds, flirtations and toilet talk go down amo...</td>\n",
              "    </tr>\n",
              "    <tr>\n",
              "      <th>4</th>\n",
              "      <td>s5</td>\n",
              "      <td>TV Show</td>\n",
              "      <td>Kota Factory</td>\n",
              "      <td>NaN</td>\n",
              "      <td>Mayur More, Jitendra Kumar, Ranjan Raj, Alam K...</td>\n",
              "      <td>India</td>\n",
              "      <td>September 24, 2021</td>\n",
              "      <td>2021</td>\n",
              "      <td>TV-MA</td>\n",
              "      <td>2 Seasons</td>\n",
              "      <td>International TV Shows, Romantic TV Shows, TV ...</td>\n",
              "      <td>In a city of coaching centers known to train I...</td>\n",
              "    </tr>\n",
              "    <tr>\n",
              "      <th>...</th>\n",
              "      <td>...</td>\n",
              "      <td>...</td>\n",
              "      <td>...</td>\n",
              "      <td>...</td>\n",
              "      <td>...</td>\n",
              "      <td>...</td>\n",
              "      <td>...</td>\n",
              "      <td>...</td>\n",
              "      <td>...</td>\n",
              "      <td>...</td>\n",
              "      <td>...</td>\n",
              "      <td>...</td>\n",
              "    </tr>\n",
              "    <tr>\n",
              "      <th>8802</th>\n",
              "      <td>s8803</td>\n",
              "      <td>Movie</td>\n",
              "      <td>Zodiac</td>\n",
              "      <td>David Fincher</td>\n",
              "      <td>Mark Ruffalo, Jake Gyllenhaal, Robert Downey J...</td>\n",
              "      <td>United States</td>\n",
              "      <td>November 20, 2019</td>\n",
              "      <td>2007</td>\n",
              "      <td>R</td>\n",
              "      <td>158 min</td>\n",
              "      <td>Cult Movies, Dramas, Thrillers</td>\n",
              "      <td>A political cartoonist, a crime reporter and a...</td>\n",
              "    </tr>\n",
              "    <tr>\n",
              "      <th>8803</th>\n",
              "      <td>s8804</td>\n",
              "      <td>TV Show</td>\n",
              "      <td>Zombie Dumb</td>\n",
              "      <td>NaN</td>\n",
              "      <td>NaN</td>\n",
              "      <td>NaN</td>\n",
              "      <td>July 1, 2019</td>\n",
              "      <td>2018</td>\n",
              "      <td>TV-Y7</td>\n",
              "      <td>2 Seasons</td>\n",
              "      <td>Kids' TV, Korean TV Shows, TV Comedies</td>\n",
              "      <td>While living alone in a spooky town, a young g...</td>\n",
              "    </tr>\n",
              "    <tr>\n",
              "      <th>8804</th>\n",
              "      <td>s8805</td>\n",
              "      <td>Movie</td>\n",
              "      <td>Zombieland</td>\n",
              "      <td>Ruben Fleischer</td>\n",
              "      <td>Jesse Eisenberg, Woody Harrelson, Emma Stone, ...</td>\n",
              "      <td>United States</td>\n",
              "      <td>November 1, 2019</td>\n",
              "      <td>2009</td>\n",
              "      <td>R</td>\n",
              "      <td>88 min</td>\n",
              "      <td>Comedies, Horror Movies</td>\n",
              "      <td>Looking to survive in a world taken over by zo...</td>\n",
              "    </tr>\n",
              "    <tr>\n",
              "      <th>8805</th>\n",
              "      <td>s8806</td>\n",
              "      <td>Movie</td>\n",
              "      <td>Zoom</td>\n",
              "      <td>Peter Hewitt</td>\n",
              "      <td>Tim Allen, Courteney Cox, Chevy Chase, Kate Ma...</td>\n",
              "      <td>United States</td>\n",
              "      <td>January 11, 2020</td>\n",
              "      <td>2006</td>\n",
              "      <td>PG</td>\n",
              "      <td>88 min</td>\n",
              "      <td>Children &amp; Family Movies, Comedies</td>\n",
              "      <td>Dragged from civilian life, a former superhero...</td>\n",
              "    </tr>\n",
              "    <tr>\n",
              "      <th>8806</th>\n",
              "      <td>s8807</td>\n",
              "      <td>Movie</td>\n",
              "      <td>Zubaan</td>\n",
              "      <td>Mozez Singh</td>\n",
              "      <td>Vicky Kaushal, Sarah-Jane Dias, Raaghav Chanan...</td>\n",
              "      <td>India</td>\n",
              "      <td>March 2, 2019</td>\n",
              "      <td>2015</td>\n",
              "      <td>TV-14</td>\n",
              "      <td>111 min</td>\n",
              "      <td>Dramas, International Movies, Music &amp; Musicals</td>\n",
              "      <td>A scrappy but poor boy worms his way into a ty...</td>\n",
              "    </tr>\n",
              "  </tbody>\n",
              "</table>\n",
              "<p>8807 rows × 12 columns</p>\n",
              "</div>\n",
              "      <button class=\"colab-df-convert\" onclick=\"convertToInteractive('df-32875adb-b1f5-4929-9bef-c9939acf4362')\"\n",
              "              title=\"Convert this dataframe to an interactive table.\"\n",
              "              style=\"display:none;\">\n",
              "        \n",
              "  <svg xmlns=\"http://www.w3.org/2000/svg\" height=\"24px\"viewBox=\"0 0 24 24\"\n",
              "       width=\"24px\">\n",
              "    <path d=\"M0 0h24v24H0V0z\" fill=\"none\"/>\n",
              "    <path d=\"M18.56 5.44l.94 2.06.94-2.06 2.06-.94-2.06-.94-.94-2.06-.94 2.06-2.06.94zm-11 1L8.5 8.5l.94-2.06 2.06-.94-2.06-.94L8.5 2.5l-.94 2.06-2.06.94zm10 10l.94 2.06.94-2.06 2.06-.94-2.06-.94-.94-2.06-.94 2.06-2.06.94z\"/><path d=\"M17.41 7.96l-1.37-1.37c-.4-.4-.92-.59-1.43-.59-.52 0-1.04.2-1.43.59L10.3 9.45l-7.72 7.72c-.78.78-.78 2.05 0 2.83L4 21.41c.39.39.9.59 1.41.59.51 0 1.02-.2 1.41-.59l7.78-7.78 2.81-2.81c.8-.78.8-2.07 0-2.86zM5.41 20L4 18.59l7.72-7.72 1.47 1.35L5.41 20z\"/>\n",
              "  </svg>\n",
              "      </button>\n",
              "      \n",
              "  <style>\n",
              "    .colab-df-container {\n",
              "      display:flex;\n",
              "      flex-wrap:wrap;\n",
              "      gap: 12px;\n",
              "    }\n",
              "\n",
              "    .colab-df-convert {\n",
              "      background-color: #E8F0FE;\n",
              "      border: none;\n",
              "      border-radius: 50%;\n",
              "      cursor: pointer;\n",
              "      display: none;\n",
              "      fill: #1967D2;\n",
              "      height: 32px;\n",
              "      padding: 0 0 0 0;\n",
              "      width: 32px;\n",
              "    }\n",
              "\n",
              "    .colab-df-convert:hover {\n",
              "      background-color: #E2EBFA;\n",
              "      box-shadow: 0px 1px 2px rgba(60, 64, 67, 0.3), 0px 1px 3px 1px rgba(60, 64, 67, 0.15);\n",
              "      fill: #174EA6;\n",
              "    }\n",
              "\n",
              "    [theme=dark] .colab-df-convert {\n",
              "      background-color: #3B4455;\n",
              "      fill: #D2E3FC;\n",
              "    }\n",
              "\n",
              "    [theme=dark] .colab-df-convert:hover {\n",
              "      background-color: #434B5C;\n",
              "      box-shadow: 0px 1px 3px 1px rgba(0, 0, 0, 0.15);\n",
              "      filter: drop-shadow(0px 1px 2px rgba(0, 0, 0, 0.3));\n",
              "      fill: #FFFFFF;\n",
              "    }\n",
              "  </style>\n",
              "\n",
              "      <script>\n",
              "        const buttonEl =\n",
              "          document.querySelector('#df-32875adb-b1f5-4929-9bef-c9939acf4362 button.colab-df-convert');\n",
              "        buttonEl.style.display =\n",
              "          google.colab.kernel.accessAllowed ? 'block' : 'none';\n",
              "\n",
              "        async function convertToInteractive(key) {\n",
              "          const element = document.querySelector('#df-32875adb-b1f5-4929-9bef-c9939acf4362');\n",
              "          const dataTable =\n",
              "            await google.colab.kernel.invokeFunction('convertToInteractive',\n",
              "                                                     [key], {});\n",
              "          if (!dataTable) return;\n",
              "\n",
              "          const docLinkHtml = 'Like what you see? Visit the ' +\n",
              "            '<a target=\"_blank\" href=https://colab.research.google.com/notebooks/data_table.ipynb>data table notebook</a>'\n",
              "            + ' to learn more about interactive tables.';\n",
              "          element.innerHTML = '';\n",
              "          dataTable['output_type'] = 'display_data';\n",
              "          await google.colab.output.renderOutput(dataTable, element);\n",
              "          const docLink = document.createElement('div');\n",
              "          docLink.innerHTML = docLinkHtml;\n",
              "          element.appendChild(docLink);\n",
              "        }\n",
              "      </script>\n",
              "    </div>\n",
              "  </div>\n",
              "  "
            ]
          },
          "metadata": {},
          "execution_count": 3
        }
      ]
    },
    {
      "cell_type": "code",
      "source": [
        "netflix_movies_df.head()"
      ],
      "metadata": {
        "colab": {
          "base_uri": "https://localhost:8080/",
          "height": 475
        },
        "id": "-7EueB4J94Uo",
        "outputId": "81077741-04ab-46fa-d1f3-ce5002f4e631"
      },
      "execution_count": null,
      "outputs": [
        {
          "output_type": "execute_result",
          "data": {
            "text/plain": [
              "  show_id     type                  title         director  \\\n",
              "0      s1    Movie   Dick Johnson Is Dead  Kirsten Johnson   \n",
              "1      s2  TV Show          Blood & Water              NaN   \n",
              "2      s3  TV Show              Ganglands  Julien Leclercq   \n",
              "3      s4  TV Show  Jailbirds New Orleans              NaN   \n",
              "4      s5  TV Show           Kota Factory              NaN   \n",
              "\n",
              "                                                cast        country  \\\n",
              "0                                                NaN  United States   \n",
              "1  Ama Qamata, Khosi Ngema, Gail Mabalane, Thaban...   South Africa   \n",
              "2  Sami Bouajila, Tracy Gotoas, Samuel Jouy, Nabi...            NaN   \n",
              "3                                                NaN            NaN   \n",
              "4  Mayur More, Jitendra Kumar, Ranjan Raj, Alam K...          India   \n",
              "\n",
              "           date_added  release_year rating   duration  \\\n",
              "0  September 25, 2021          2020  PG-13     90 min   \n",
              "1  September 24, 2021          2021  TV-MA  2 Seasons   \n",
              "2  September 24, 2021          2021  TV-MA   1 Season   \n",
              "3  September 24, 2021          2021  TV-MA   1 Season   \n",
              "4  September 24, 2021          2021  TV-MA  2 Seasons   \n",
              "\n",
              "                                           listed_in  \\\n",
              "0                                      Documentaries   \n",
              "1    International TV Shows, TV Dramas, TV Mysteries   \n",
              "2  Crime TV Shows, International TV Shows, TV Act...   \n",
              "3                             Docuseries, Reality TV   \n",
              "4  International TV Shows, Romantic TV Shows, TV ...   \n",
              "\n",
              "                                         description  \n",
              "0  As her father nears the end of his life, filmm...  \n",
              "1  After crossing paths at a party, a Cape Town t...  \n",
              "2  To protect his family from a powerful drug lor...  \n",
              "3  Feuds, flirtations and toilet talk go down amo...  \n",
              "4  In a city of coaching centers known to train I...  "
            ],
            "text/html": [
              "\n",
              "  <div id=\"df-50010a1e-0c97-4dc8-934b-5ae3225a7fed\">\n",
              "    <div class=\"colab-df-container\">\n",
              "      <div>\n",
              "<style scoped>\n",
              "    .dataframe tbody tr th:only-of-type {\n",
              "        vertical-align: middle;\n",
              "    }\n",
              "\n",
              "    .dataframe tbody tr th {\n",
              "        vertical-align: top;\n",
              "    }\n",
              "\n",
              "    .dataframe thead th {\n",
              "        text-align: right;\n",
              "    }\n",
              "</style>\n",
              "<table border=\"1\" class=\"dataframe\">\n",
              "  <thead>\n",
              "    <tr style=\"text-align: right;\">\n",
              "      <th></th>\n",
              "      <th>show_id</th>\n",
              "      <th>type</th>\n",
              "      <th>title</th>\n",
              "      <th>director</th>\n",
              "      <th>cast</th>\n",
              "      <th>country</th>\n",
              "      <th>date_added</th>\n",
              "      <th>release_year</th>\n",
              "      <th>rating</th>\n",
              "      <th>duration</th>\n",
              "      <th>listed_in</th>\n",
              "      <th>description</th>\n",
              "    </tr>\n",
              "  </thead>\n",
              "  <tbody>\n",
              "    <tr>\n",
              "      <th>0</th>\n",
              "      <td>s1</td>\n",
              "      <td>Movie</td>\n",
              "      <td>Dick Johnson Is Dead</td>\n",
              "      <td>Kirsten Johnson</td>\n",
              "      <td>NaN</td>\n",
              "      <td>United States</td>\n",
              "      <td>September 25, 2021</td>\n",
              "      <td>2020</td>\n",
              "      <td>PG-13</td>\n",
              "      <td>90 min</td>\n",
              "      <td>Documentaries</td>\n",
              "      <td>As her father nears the end of his life, filmm...</td>\n",
              "    </tr>\n",
              "    <tr>\n",
              "      <th>1</th>\n",
              "      <td>s2</td>\n",
              "      <td>TV Show</td>\n",
              "      <td>Blood &amp; Water</td>\n",
              "      <td>NaN</td>\n",
              "      <td>Ama Qamata, Khosi Ngema, Gail Mabalane, Thaban...</td>\n",
              "      <td>South Africa</td>\n",
              "      <td>September 24, 2021</td>\n",
              "      <td>2021</td>\n",
              "      <td>TV-MA</td>\n",
              "      <td>2 Seasons</td>\n",
              "      <td>International TV Shows, TV Dramas, TV Mysteries</td>\n",
              "      <td>After crossing paths at a party, a Cape Town t...</td>\n",
              "    </tr>\n",
              "    <tr>\n",
              "      <th>2</th>\n",
              "      <td>s3</td>\n",
              "      <td>TV Show</td>\n",
              "      <td>Ganglands</td>\n",
              "      <td>Julien Leclercq</td>\n",
              "      <td>Sami Bouajila, Tracy Gotoas, Samuel Jouy, Nabi...</td>\n",
              "      <td>NaN</td>\n",
              "      <td>September 24, 2021</td>\n",
              "      <td>2021</td>\n",
              "      <td>TV-MA</td>\n",
              "      <td>1 Season</td>\n",
              "      <td>Crime TV Shows, International TV Shows, TV Act...</td>\n",
              "      <td>To protect his family from a powerful drug lor...</td>\n",
              "    </tr>\n",
              "    <tr>\n",
              "      <th>3</th>\n",
              "      <td>s4</td>\n",
              "      <td>TV Show</td>\n",
              "      <td>Jailbirds New Orleans</td>\n",
              "      <td>NaN</td>\n",
              "      <td>NaN</td>\n",
              "      <td>NaN</td>\n",
              "      <td>September 24, 2021</td>\n",
              "      <td>2021</td>\n",
              "      <td>TV-MA</td>\n",
              "      <td>1 Season</td>\n",
              "      <td>Docuseries, Reality TV</td>\n",
              "      <td>Feuds, flirtations and toilet talk go down amo...</td>\n",
              "    </tr>\n",
              "    <tr>\n",
              "      <th>4</th>\n",
              "      <td>s5</td>\n",
              "      <td>TV Show</td>\n",
              "      <td>Kota Factory</td>\n",
              "      <td>NaN</td>\n",
              "      <td>Mayur More, Jitendra Kumar, Ranjan Raj, Alam K...</td>\n",
              "      <td>India</td>\n",
              "      <td>September 24, 2021</td>\n",
              "      <td>2021</td>\n",
              "      <td>TV-MA</td>\n",
              "      <td>2 Seasons</td>\n",
              "      <td>International TV Shows, Romantic TV Shows, TV ...</td>\n",
              "      <td>In a city of coaching centers known to train I...</td>\n",
              "    </tr>\n",
              "  </tbody>\n",
              "</table>\n",
              "</div>\n",
              "      <button class=\"colab-df-convert\" onclick=\"convertToInteractive('df-50010a1e-0c97-4dc8-934b-5ae3225a7fed')\"\n",
              "              title=\"Convert this dataframe to an interactive table.\"\n",
              "              style=\"display:none;\">\n",
              "        \n",
              "  <svg xmlns=\"http://www.w3.org/2000/svg\" height=\"24px\"viewBox=\"0 0 24 24\"\n",
              "       width=\"24px\">\n",
              "    <path d=\"M0 0h24v24H0V0z\" fill=\"none\"/>\n",
              "    <path d=\"M18.56 5.44l.94 2.06.94-2.06 2.06-.94-2.06-.94-.94-2.06-.94 2.06-2.06.94zm-11 1L8.5 8.5l.94-2.06 2.06-.94-2.06-.94L8.5 2.5l-.94 2.06-2.06.94zm10 10l.94 2.06.94-2.06 2.06-.94-2.06-.94-.94-2.06-.94 2.06-2.06.94z\"/><path d=\"M17.41 7.96l-1.37-1.37c-.4-.4-.92-.59-1.43-.59-.52 0-1.04.2-1.43.59L10.3 9.45l-7.72 7.72c-.78.78-.78 2.05 0 2.83L4 21.41c.39.39.9.59 1.41.59.51 0 1.02-.2 1.41-.59l7.78-7.78 2.81-2.81c.8-.78.8-2.07 0-2.86zM5.41 20L4 18.59l7.72-7.72 1.47 1.35L5.41 20z\"/>\n",
              "  </svg>\n",
              "      </button>\n",
              "      \n",
              "  <style>\n",
              "    .colab-df-container {\n",
              "      display:flex;\n",
              "      flex-wrap:wrap;\n",
              "      gap: 12px;\n",
              "    }\n",
              "\n",
              "    .colab-df-convert {\n",
              "      background-color: #E8F0FE;\n",
              "      border: none;\n",
              "      border-radius: 50%;\n",
              "      cursor: pointer;\n",
              "      display: none;\n",
              "      fill: #1967D2;\n",
              "      height: 32px;\n",
              "      padding: 0 0 0 0;\n",
              "      width: 32px;\n",
              "    }\n",
              "\n",
              "    .colab-df-convert:hover {\n",
              "      background-color: #E2EBFA;\n",
              "      box-shadow: 0px 1px 2px rgba(60, 64, 67, 0.3), 0px 1px 3px 1px rgba(60, 64, 67, 0.15);\n",
              "      fill: #174EA6;\n",
              "    }\n",
              "\n",
              "    [theme=dark] .colab-df-convert {\n",
              "      background-color: #3B4455;\n",
              "      fill: #D2E3FC;\n",
              "    }\n",
              "\n",
              "    [theme=dark] .colab-df-convert:hover {\n",
              "      background-color: #434B5C;\n",
              "      box-shadow: 0px 1px 3px 1px rgba(0, 0, 0, 0.15);\n",
              "      filter: drop-shadow(0px 1px 2px rgba(0, 0, 0, 0.3));\n",
              "      fill: #FFFFFF;\n",
              "    }\n",
              "  </style>\n",
              "\n",
              "      <script>\n",
              "        const buttonEl =\n",
              "          document.querySelector('#df-50010a1e-0c97-4dc8-934b-5ae3225a7fed button.colab-df-convert');\n",
              "        buttonEl.style.display =\n",
              "          google.colab.kernel.accessAllowed ? 'block' : 'none';\n",
              "\n",
              "        async function convertToInteractive(key) {\n",
              "          const element = document.querySelector('#df-50010a1e-0c97-4dc8-934b-5ae3225a7fed');\n",
              "          const dataTable =\n",
              "            await google.colab.kernel.invokeFunction('convertToInteractive',\n",
              "                                                     [key], {});\n",
              "          if (!dataTable) return;\n",
              "\n",
              "          const docLinkHtml = 'Like what you see? Visit the ' +\n",
              "            '<a target=\"_blank\" href=https://colab.research.google.com/notebooks/data_table.ipynb>data table notebook</a>'\n",
              "            + ' to learn more about interactive tables.';\n",
              "          element.innerHTML = '';\n",
              "          dataTable['output_type'] = 'display_data';\n",
              "          await google.colab.output.renderOutput(dataTable, element);\n",
              "          const docLink = document.createElement('div');\n",
              "          docLink.innerHTML = docLinkHtml;\n",
              "          element.appendChild(docLink);\n",
              "        }\n",
              "      </script>\n",
              "    </div>\n",
              "  </div>\n",
              "  "
            ]
          },
          "metadata": {},
          "execution_count": 4
        }
      ]
    },
    {
      "cell_type": "code",
      "source": [
        "netflix_movies_df.tail()"
      ],
      "metadata": {
        "colab": {
          "base_uri": "https://localhost:8080/",
          "height": 510
        },
        "id": "VknQSw5x94W_",
        "outputId": "e714897c-1d5c-4bf8-fa3c-8cde08071d0a"
      },
      "execution_count": null,
      "outputs": [
        {
          "output_type": "execute_result",
          "data": {
            "text/plain": [
              "     show_id     type        title         director  \\\n",
              "8802   s8803    Movie       Zodiac    David Fincher   \n",
              "8803   s8804  TV Show  Zombie Dumb              NaN   \n",
              "8804   s8805    Movie   Zombieland  Ruben Fleischer   \n",
              "8805   s8806    Movie         Zoom     Peter Hewitt   \n",
              "8806   s8807    Movie       Zubaan      Mozez Singh   \n",
              "\n",
              "                                                   cast        country  \\\n",
              "8802  Mark Ruffalo, Jake Gyllenhaal, Robert Downey J...  United States   \n",
              "8803                                                NaN            NaN   \n",
              "8804  Jesse Eisenberg, Woody Harrelson, Emma Stone, ...  United States   \n",
              "8805  Tim Allen, Courteney Cox, Chevy Chase, Kate Ma...  United States   \n",
              "8806  Vicky Kaushal, Sarah-Jane Dias, Raaghav Chanan...          India   \n",
              "\n",
              "             date_added  release_year rating   duration  \\\n",
              "8802  November 20, 2019          2007      R    158 min   \n",
              "8803       July 1, 2019          2018  TV-Y7  2 Seasons   \n",
              "8804   November 1, 2019          2009      R     88 min   \n",
              "8805   January 11, 2020          2006     PG     88 min   \n",
              "8806      March 2, 2019          2015  TV-14    111 min   \n",
              "\n",
              "                                           listed_in  \\\n",
              "8802                  Cult Movies, Dramas, Thrillers   \n",
              "8803          Kids' TV, Korean TV Shows, TV Comedies   \n",
              "8804                         Comedies, Horror Movies   \n",
              "8805              Children & Family Movies, Comedies   \n",
              "8806  Dramas, International Movies, Music & Musicals   \n",
              "\n",
              "                                            description  \n",
              "8802  A political cartoonist, a crime reporter and a...  \n",
              "8803  While living alone in a spooky town, a young g...  \n",
              "8804  Looking to survive in a world taken over by zo...  \n",
              "8805  Dragged from civilian life, a former superhero...  \n",
              "8806  A scrappy but poor boy worms his way into a ty...  "
            ],
            "text/html": [
              "\n",
              "  <div id=\"df-7d06ff4b-78df-4f99-890c-deffa581642b\">\n",
              "    <div class=\"colab-df-container\">\n",
              "      <div>\n",
              "<style scoped>\n",
              "    .dataframe tbody tr th:only-of-type {\n",
              "        vertical-align: middle;\n",
              "    }\n",
              "\n",
              "    .dataframe tbody tr th {\n",
              "        vertical-align: top;\n",
              "    }\n",
              "\n",
              "    .dataframe thead th {\n",
              "        text-align: right;\n",
              "    }\n",
              "</style>\n",
              "<table border=\"1\" class=\"dataframe\">\n",
              "  <thead>\n",
              "    <tr style=\"text-align: right;\">\n",
              "      <th></th>\n",
              "      <th>show_id</th>\n",
              "      <th>type</th>\n",
              "      <th>title</th>\n",
              "      <th>director</th>\n",
              "      <th>cast</th>\n",
              "      <th>country</th>\n",
              "      <th>date_added</th>\n",
              "      <th>release_year</th>\n",
              "      <th>rating</th>\n",
              "      <th>duration</th>\n",
              "      <th>listed_in</th>\n",
              "      <th>description</th>\n",
              "    </tr>\n",
              "  </thead>\n",
              "  <tbody>\n",
              "    <tr>\n",
              "      <th>8802</th>\n",
              "      <td>s8803</td>\n",
              "      <td>Movie</td>\n",
              "      <td>Zodiac</td>\n",
              "      <td>David Fincher</td>\n",
              "      <td>Mark Ruffalo, Jake Gyllenhaal, Robert Downey J...</td>\n",
              "      <td>United States</td>\n",
              "      <td>November 20, 2019</td>\n",
              "      <td>2007</td>\n",
              "      <td>R</td>\n",
              "      <td>158 min</td>\n",
              "      <td>Cult Movies, Dramas, Thrillers</td>\n",
              "      <td>A political cartoonist, a crime reporter and a...</td>\n",
              "    </tr>\n",
              "    <tr>\n",
              "      <th>8803</th>\n",
              "      <td>s8804</td>\n",
              "      <td>TV Show</td>\n",
              "      <td>Zombie Dumb</td>\n",
              "      <td>NaN</td>\n",
              "      <td>NaN</td>\n",
              "      <td>NaN</td>\n",
              "      <td>July 1, 2019</td>\n",
              "      <td>2018</td>\n",
              "      <td>TV-Y7</td>\n",
              "      <td>2 Seasons</td>\n",
              "      <td>Kids' TV, Korean TV Shows, TV Comedies</td>\n",
              "      <td>While living alone in a spooky town, a young g...</td>\n",
              "    </tr>\n",
              "    <tr>\n",
              "      <th>8804</th>\n",
              "      <td>s8805</td>\n",
              "      <td>Movie</td>\n",
              "      <td>Zombieland</td>\n",
              "      <td>Ruben Fleischer</td>\n",
              "      <td>Jesse Eisenberg, Woody Harrelson, Emma Stone, ...</td>\n",
              "      <td>United States</td>\n",
              "      <td>November 1, 2019</td>\n",
              "      <td>2009</td>\n",
              "      <td>R</td>\n",
              "      <td>88 min</td>\n",
              "      <td>Comedies, Horror Movies</td>\n",
              "      <td>Looking to survive in a world taken over by zo...</td>\n",
              "    </tr>\n",
              "    <tr>\n",
              "      <th>8805</th>\n",
              "      <td>s8806</td>\n",
              "      <td>Movie</td>\n",
              "      <td>Zoom</td>\n",
              "      <td>Peter Hewitt</td>\n",
              "      <td>Tim Allen, Courteney Cox, Chevy Chase, Kate Ma...</td>\n",
              "      <td>United States</td>\n",
              "      <td>January 11, 2020</td>\n",
              "      <td>2006</td>\n",
              "      <td>PG</td>\n",
              "      <td>88 min</td>\n",
              "      <td>Children &amp; Family Movies, Comedies</td>\n",
              "      <td>Dragged from civilian life, a former superhero...</td>\n",
              "    </tr>\n",
              "    <tr>\n",
              "      <th>8806</th>\n",
              "      <td>s8807</td>\n",
              "      <td>Movie</td>\n",
              "      <td>Zubaan</td>\n",
              "      <td>Mozez Singh</td>\n",
              "      <td>Vicky Kaushal, Sarah-Jane Dias, Raaghav Chanan...</td>\n",
              "      <td>India</td>\n",
              "      <td>March 2, 2019</td>\n",
              "      <td>2015</td>\n",
              "      <td>TV-14</td>\n",
              "      <td>111 min</td>\n",
              "      <td>Dramas, International Movies, Music &amp; Musicals</td>\n",
              "      <td>A scrappy but poor boy worms his way into a ty...</td>\n",
              "    </tr>\n",
              "  </tbody>\n",
              "</table>\n",
              "</div>\n",
              "      <button class=\"colab-df-convert\" onclick=\"convertToInteractive('df-7d06ff4b-78df-4f99-890c-deffa581642b')\"\n",
              "              title=\"Convert this dataframe to an interactive table.\"\n",
              "              style=\"display:none;\">\n",
              "        \n",
              "  <svg xmlns=\"http://www.w3.org/2000/svg\" height=\"24px\"viewBox=\"0 0 24 24\"\n",
              "       width=\"24px\">\n",
              "    <path d=\"M0 0h24v24H0V0z\" fill=\"none\"/>\n",
              "    <path d=\"M18.56 5.44l.94 2.06.94-2.06 2.06-.94-2.06-.94-.94-2.06-.94 2.06-2.06.94zm-11 1L8.5 8.5l.94-2.06 2.06-.94-2.06-.94L8.5 2.5l-.94 2.06-2.06.94zm10 10l.94 2.06.94-2.06 2.06-.94-2.06-.94-.94-2.06-.94 2.06-2.06.94z\"/><path d=\"M17.41 7.96l-1.37-1.37c-.4-.4-.92-.59-1.43-.59-.52 0-1.04.2-1.43.59L10.3 9.45l-7.72 7.72c-.78.78-.78 2.05 0 2.83L4 21.41c.39.39.9.59 1.41.59.51 0 1.02-.2 1.41-.59l7.78-7.78 2.81-2.81c.8-.78.8-2.07 0-2.86zM5.41 20L4 18.59l7.72-7.72 1.47 1.35L5.41 20z\"/>\n",
              "  </svg>\n",
              "      </button>\n",
              "      \n",
              "  <style>\n",
              "    .colab-df-container {\n",
              "      display:flex;\n",
              "      flex-wrap:wrap;\n",
              "      gap: 12px;\n",
              "    }\n",
              "\n",
              "    .colab-df-convert {\n",
              "      background-color: #E8F0FE;\n",
              "      border: none;\n",
              "      border-radius: 50%;\n",
              "      cursor: pointer;\n",
              "      display: none;\n",
              "      fill: #1967D2;\n",
              "      height: 32px;\n",
              "      padding: 0 0 0 0;\n",
              "      width: 32px;\n",
              "    }\n",
              "\n",
              "    .colab-df-convert:hover {\n",
              "      background-color: #E2EBFA;\n",
              "      box-shadow: 0px 1px 2px rgba(60, 64, 67, 0.3), 0px 1px 3px 1px rgba(60, 64, 67, 0.15);\n",
              "      fill: #174EA6;\n",
              "    }\n",
              "\n",
              "    [theme=dark] .colab-df-convert {\n",
              "      background-color: #3B4455;\n",
              "      fill: #D2E3FC;\n",
              "    }\n",
              "\n",
              "    [theme=dark] .colab-df-convert:hover {\n",
              "      background-color: #434B5C;\n",
              "      box-shadow: 0px 1px 3px 1px rgba(0, 0, 0, 0.15);\n",
              "      filter: drop-shadow(0px 1px 2px rgba(0, 0, 0, 0.3));\n",
              "      fill: #FFFFFF;\n",
              "    }\n",
              "  </style>\n",
              "\n",
              "      <script>\n",
              "        const buttonEl =\n",
              "          document.querySelector('#df-7d06ff4b-78df-4f99-890c-deffa581642b button.colab-df-convert');\n",
              "        buttonEl.style.display =\n",
              "          google.colab.kernel.accessAllowed ? 'block' : 'none';\n",
              "\n",
              "        async function convertToInteractive(key) {\n",
              "          const element = document.querySelector('#df-7d06ff4b-78df-4f99-890c-deffa581642b');\n",
              "          const dataTable =\n",
              "            await google.colab.kernel.invokeFunction('convertToInteractive',\n",
              "                                                     [key], {});\n",
              "          if (!dataTable) return;\n",
              "\n",
              "          const docLinkHtml = 'Like what you see? Visit the ' +\n",
              "            '<a target=\"_blank\" href=https://colab.research.google.com/notebooks/data_table.ipynb>data table notebook</a>'\n",
              "            + ' to learn more about interactive tables.';\n",
              "          element.innerHTML = '';\n",
              "          dataTable['output_type'] = 'display_data';\n",
              "          await google.colab.output.renderOutput(dataTable, element);\n",
              "          const docLink = document.createElement('div');\n",
              "          docLink.innerHTML = docLinkHtml;\n",
              "          element.appendChild(docLink);\n",
              "        }\n",
              "      </script>\n",
              "    </div>\n",
              "  </div>\n",
              "  "
            ]
          },
          "metadata": {},
          "execution_count": 5
        }
      ]
    },
    {
      "cell_type": "code",
      "source": [
        "netflix_movies_df.shape"
      ],
      "metadata": {
        "colab": {
          "base_uri": "https://localhost:8080/"
        },
        "id": "j5rVfbSWRQ7n",
        "outputId": "5e513f9d-47c2-4a98-8cf3-821c5aba8fde"
      },
      "execution_count": null,
      "outputs": [
        {
          "output_type": "execute_result",
          "data": {
            "text/plain": [
              "(8807, 12)"
            ]
          },
          "metadata": {},
          "execution_count": 6
        }
      ]
    },
    {
      "cell_type": "code",
      "source": [
        "netflix_movies_df.duplicated()"
      ],
      "metadata": {
        "colab": {
          "base_uri": "https://localhost:8080/"
        },
        "id": "cn78JWTURicO",
        "outputId": "22f2d9f3-a22d-41f4-d629-f4a1d4346fe0"
      },
      "execution_count": null,
      "outputs": [
        {
          "output_type": "execute_result",
          "data": {
            "text/plain": [
              "0       False\n",
              "1       False\n",
              "2       False\n",
              "3       False\n",
              "4       False\n",
              "        ...  \n",
              "8802    False\n",
              "8803    False\n",
              "8804    False\n",
              "8805    False\n",
              "8806    False\n",
              "Length: 8807, dtype: bool"
            ]
          },
          "metadata": {},
          "execution_count": 7
        }
      ]
    },
    {
      "cell_type": "code",
      "source": [
        "netflix_movies_df.describe()\n"
      ],
      "metadata": {
        "id": "OgkYRVkajFOT"
      },
      "execution_count": null,
      "outputs": []
    },
    {
      "cell_type": "code",
      "source": [
        "netflix_movies_df.info()\n"
      ],
      "metadata": {
        "id": "EedkJonojGIm"
      },
      "execution_count": null,
      "outputs": []
    },
    {
      "cell_type": "code",
      "source": [
        "netflix_movies_df.dtypes"
      ],
      "metadata": {
        "id": "oPoP60JSjHQ3"
      },
      "execution_count": null,
      "outputs": []
    },
    {
      "cell_type": "code",
      "source": [
        "netflix_movies_df.duplicated().sum()"
      ],
      "metadata": {
        "id": "kqAvZKs1J1n5",
        "outputId": "0386a075-dc93-411d-db62-795b55f452a9",
        "colab": {
          "base_uri": "https://localhost:8080/"
        }
      },
      "execution_count": null,
      "outputs": [
        {
          "output_type": "execute_result",
          "data": {
            "text/plain": [
              "0"
            ]
          },
          "metadata": {},
          "execution_count": 8
        }
      ]
    },
    {
      "cell_type": "code",
      "source": [
        "netflix_movies_df.corr()"
      ],
      "metadata": {
        "id": "bH32Il4h-nVl",
        "colab": {
          "base_uri": "https://localhost:8080/",
          "height": 81
        },
        "outputId": "5c553f44-ca58-4922-b7e5-0edbb65ff7e7"
      },
      "execution_count": null,
      "outputs": [
        {
          "output_type": "execute_result",
          "data": {
            "text/plain": [
              "              release_year\n",
              "release_year           1.0"
            ],
            "text/html": [
              "\n",
              "  <div id=\"df-a2d102e7-e08b-493c-9ac8-8f256a5ef908\">\n",
              "    <div class=\"colab-df-container\">\n",
              "      <div>\n",
              "<style scoped>\n",
              "    .dataframe tbody tr th:only-of-type {\n",
              "        vertical-align: middle;\n",
              "    }\n",
              "\n",
              "    .dataframe tbody tr th {\n",
              "        vertical-align: top;\n",
              "    }\n",
              "\n",
              "    .dataframe thead th {\n",
              "        text-align: right;\n",
              "    }\n",
              "</style>\n",
              "<table border=\"1\" class=\"dataframe\">\n",
              "  <thead>\n",
              "    <tr style=\"text-align: right;\">\n",
              "      <th></th>\n",
              "      <th>release_year</th>\n",
              "    </tr>\n",
              "  </thead>\n",
              "  <tbody>\n",
              "    <tr>\n",
              "      <th>release_year</th>\n",
              "      <td>1.0</td>\n",
              "    </tr>\n",
              "  </tbody>\n",
              "</table>\n",
              "</div>\n",
              "      <button class=\"colab-df-convert\" onclick=\"convertToInteractive('df-a2d102e7-e08b-493c-9ac8-8f256a5ef908')\"\n",
              "              title=\"Convert this dataframe to an interactive table.\"\n",
              "              style=\"display:none;\">\n",
              "        \n",
              "  <svg xmlns=\"http://www.w3.org/2000/svg\" height=\"24px\"viewBox=\"0 0 24 24\"\n",
              "       width=\"24px\">\n",
              "    <path d=\"M0 0h24v24H0V0z\" fill=\"none\"/>\n",
              "    <path d=\"M18.56 5.44l.94 2.06.94-2.06 2.06-.94-2.06-.94-.94-2.06-.94 2.06-2.06.94zm-11 1L8.5 8.5l.94-2.06 2.06-.94-2.06-.94L8.5 2.5l-.94 2.06-2.06.94zm10 10l.94 2.06.94-2.06 2.06-.94-2.06-.94-.94-2.06-.94 2.06-2.06.94z\"/><path d=\"M17.41 7.96l-1.37-1.37c-.4-.4-.92-.59-1.43-.59-.52 0-1.04.2-1.43.59L10.3 9.45l-7.72 7.72c-.78.78-.78 2.05 0 2.83L4 21.41c.39.39.9.59 1.41.59.51 0 1.02-.2 1.41-.59l7.78-7.78 2.81-2.81c.8-.78.8-2.07 0-2.86zM5.41 20L4 18.59l7.72-7.72 1.47 1.35L5.41 20z\"/>\n",
              "  </svg>\n",
              "      </button>\n",
              "      \n",
              "  <style>\n",
              "    .colab-df-container {\n",
              "      display:flex;\n",
              "      flex-wrap:wrap;\n",
              "      gap: 12px;\n",
              "    }\n",
              "\n",
              "    .colab-df-convert {\n",
              "      background-color: #E8F0FE;\n",
              "      border: none;\n",
              "      border-radius: 50%;\n",
              "      cursor: pointer;\n",
              "      display: none;\n",
              "      fill: #1967D2;\n",
              "      height: 32px;\n",
              "      padding: 0 0 0 0;\n",
              "      width: 32px;\n",
              "    }\n",
              "\n",
              "    .colab-df-convert:hover {\n",
              "      background-color: #E2EBFA;\n",
              "      box-shadow: 0px 1px 2px rgba(60, 64, 67, 0.3), 0px 1px 3px 1px rgba(60, 64, 67, 0.15);\n",
              "      fill: #174EA6;\n",
              "    }\n",
              "\n",
              "    [theme=dark] .colab-df-convert {\n",
              "      background-color: #3B4455;\n",
              "      fill: #D2E3FC;\n",
              "    }\n",
              "\n",
              "    [theme=dark] .colab-df-convert:hover {\n",
              "      background-color: #434B5C;\n",
              "      box-shadow: 0px 1px 3px 1px rgba(0, 0, 0, 0.15);\n",
              "      filter: drop-shadow(0px 1px 2px rgba(0, 0, 0, 0.3));\n",
              "      fill: #FFFFFF;\n",
              "    }\n",
              "  </style>\n",
              "\n",
              "      <script>\n",
              "        const buttonEl =\n",
              "          document.querySelector('#df-a2d102e7-e08b-493c-9ac8-8f256a5ef908 button.colab-df-convert');\n",
              "        buttonEl.style.display =\n",
              "          google.colab.kernel.accessAllowed ? 'block' : 'none';\n",
              "\n",
              "        async function convertToInteractive(key) {\n",
              "          const element = document.querySelector('#df-a2d102e7-e08b-493c-9ac8-8f256a5ef908');\n",
              "          const dataTable =\n",
              "            await google.colab.kernel.invokeFunction('convertToInteractive',\n",
              "                                                     [key], {});\n",
              "          if (!dataTable) return;\n",
              "\n",
              "          const docLinkHtml = 'Like what you see? Visit the ' +\n",
              "            '<a target=\"_blank\" href=https://colab.research.google.com/notebooks/data_table.ipynb>data table notebook</a>'\n",
              "            + ' to learn more about interactive tables.';\n",
              "          element.innerHTML = '';\n",
              "          dataTable['output_type'] = 'display_data';\n",
              "          await google.colab.output.renderOutput(dataTable, element);\n",
              "          const docLink = document.createElement('div');\n",
              "          docLink.innerHTML = docLinkHtml;\n",
              "          element.appendChild(docLink);\n",
              "        }\n",
              "      </script>\n",
              "    </div>\n",
              "  </div>\n",
              "  "
            ]
          },
          "metadata": {},
          "execution_count": 9
        }
      ]
    },
    {
      "cell_type": "code",
      "source": [
        "netflix_movies_df['rating'].unique()"
      ],
      "metadata": {
        "colab": {
          "base_uri": "https://localhost:8080/"
        },
        "id": "3k1mYK-Fw5A3",
        "outputId": "a7c7b050-674e-4ec2-9654-e46ad496ef93"
      },
      "execution_count": null,
      "outputs": [
        {
          "output_type": "execute_result",
          "data": {
            "text/plain": [
              "array(['PG-13', 'TV-MA', 'PG', 'TV-14', 'TV-PG', 'TV-Y', 'TV-Y7', 'R',\n",
              "       'TV-G', 'G', 'NC-17', '74 min', '84 min', '66 min', 'NR', nan,\n",
              "       'TV-Y7-FV', 'UR'], dtype=object)"
            ]
          },
          "metadata": {},
          "execution_count": 10
        }
      ]
    },
    {
      "cell_type": "code",
      "source": [
        "netflix_movies_df['release_year'].unique().sum()"
      ],
      "metadata": {
        "colab": {
          "base_uri": "https://localhost:8080/"
        },
        "id": "eZQ9Gn9Kw5EI",
        "outputId": "9aea314e-0a97-41b8-a0fa-5e16dea9a61c"
      },
      "execution_count": null,
      "outputs": [
        {
          "output_type": "execute_result",
          "data": {
            "text/plain": [
              "146785"
            ]
          },
          "metadata": {},
          "execution_count": 11
        }
      ]
    },
    {
      "cell_type": "code",
      "source": [
        "netflix_movies_df['release_year'].unique().min()"
      ],
      "metadata": {
        "colab": {
          "base_uri": "https://localhost:8080/"
        },
        "id": "v44rabxEw5HZ",
        "outputId": "fa49abdc-6cac-48ed-8d3e-02a027fdc75c"
      },
      "execution_count": null,
      "outputs": [
        {
          "output_type": "execute_result",
          "data": {
            "text/plain": [
              "1925"
            ]
          },
          "metadata": {},
          "execution_count": 12
        }
      ]
    },
    {
      "cell_type": "code",
      "source": [
        "netflix_movies_df['rating'].nunique()"
      ],
      "metadata": {
        "colab": {
          "base_uri": "https://localhost:8080/"
        },
        "id": "W3sNhkmVxoqb",
        "outputId": "41925d20-e5eb-4844-a736-d076d473884e"
      },
      "execution_count": null,
      "outputs": [
        {
          "output_type": "execute_result",
          "data": {
            "text/plain": [
              "17"
            ]
          },
          "metadata": {},
          "execution_count": 13
        }
      ]
    },
    {
      "cell_type": "code",
      "source": [
        "netflix_movies_df['director'].nunique()\n"
      ],
      "metadata": {
        "colab": {
          "base_uri": "https://localhost:8080/"
        },
        "id": "nu02mxPCIXKl",
        "outputId": "2247f936-ea34-4e20-afa9-35b5aa1ae6df"
      },
      "execution_count": null,
      "outputs": [
        {
          "output_type": "execute_result",
          "data": {
            "text/plain": [
              "4528"
            ]
          },
          "metadata": {},
          "execution_count": 14
        }
      ]
    },
    {
      "cell_type": "code",
      "source": [
        "netflix_movies_df.duration.unique()"
      ],
      "metadata": {
        "colab": {
          "base_uri": "https://localhost:8080/"
        },
        "id": "nkniEaAPjq2x",
        "outputId": "fb42d30a-1a80-46ba-bc75-bd53954826e9"
      },
      "execution_count": null,
      "outputs": [
        {
          "output_type": "execute_result",
          "data": {
            "text/plain": [
              "array(['90 min', '2 Seasons', '1 Season', '91 min', '125 min',\n",
              "       '9 Seasons', '104 min', '127 min', '4 Seasons', '67 min', '94 min',\n",
              "       '5 Seasons', '161 min', '61 min', '166 min', '147 min', '103 min',\n",
              "       '97 min', '106 min', '111 min', '3 Seasons', '110 min', '105 min',\n",
              "       '96 min', '124 min', '116 min', '98 min', '23 min', '115 min',\n",
              "       '122 min', '99 min', '88 min', '100 min', '6 Seasons', '102 min',\n",
              "       '93 min', '95 min', '85 min', '83 min', '113 min', '13 min',\n",
              "       '182 min', '48 min', '145 min', '87 min', '92 min', '80 min',\n",
              "       '117 min', '128 min', '119 min', '143 min', '114 min', '118 min',\n",
              "       '108 min', '63 min', '121 min', '142 min', '154 min', '120 min',\n",
              "       '82 min', '109 min', '101 min', '86 min', '229 min', '76 min',\n",
              "       '89 min', '156 min', '112 min', '107 min', '129 min', '135 min',\n",
              "       '136 min', '165 min', '150 min', '133 min', '70 min', '84 min',\n",
              "       '140 min', '78 min', '7 Seasons', '64 min', '59 min', '139 min',\n",
              "       '69 min', '148 min', '189 min', '141 min', '130 min', '138 min',\n",
              "       '81 min', '132 min', '10 Seasons', '123 min', '65 min', '68 min',\n",
              "       '66 min', '62 min', '74 min', '131 min', '39 min', '46 min',\n",
              "       '38 min', '8 Seasons', '17 Seasons', '126 min', '155 min',\n",
              "       '159 min', '137 min', '12 min', '273 min', '36 min', '34 min',\n",
              "       '77 min', '60 min', '49 min', '58 min', '72 min', '204 min',\n",
              "       '212 min', '25 min', '73 min', '29 min', '47 min', '32 min',\n",
              "       '35 min', '71 min', '149 min', '33 min', '15 min', '54 min',\n",
              "       '224 min', '162 min', '37 min', '75 min', '79 min', '55 min',\n",
              "       '158 min', '164 min', '173 min', '181 min', '185 min', '21 min',\n",
              "       '24 min', '51 min', '151 min', '42 min', '22 min', '134 min',\n",
              "       '177 min', '13 Seasons', '52 min', '14 min', '53 min', '8 min',\n",
              "       '57 min', '28 min', '50 min', '9 min', '26 min', '45 min',\n",
              "       '171 min', '27 min', '44 min', '146 min', '20 min', '157 min',\n",
              "       '17 min', '203 min', '41 min', '30 min', '194 min', '15 Seasons',\n",
              "       '233 min', '237 min', '230 min', '195 min', '253 min', '152 min',\n",
              "       '190 min', '160 min', '208 min', '180 min', '144 min', '5 min',\n",
              "       '174 min', '170 min', '192 min', '209 min', '187 min', '172 min',\n",
              "       '16 min', '186 min', '11 min', '193 min', '176 min', '56 min',\n",
              "       '169 min', '40 min', '10 min', '3 min', '168 min', '312 min',\n",
              "       '153 min', '214 min', '31 min', '163 min', '19 min', '12 Seasons',\n",
              "       nan, '179 min', '11 Seasons', '43 min', '200 min', '196 min',\n",
              "       '167 min', '178 min', '228 min', '18 min', '205 min', '201 min',\n",
              "       '191 min'], dtype=object)"
            ]
          },
          "metadata": {},
          "execution_count": 18
        }
      ]
    },
    {
      "cell_type": "code",
      "source": [
        "netflix_movies_df.duration.dtypes"
      ],
      "metadata": {
        "colab": {
          "base_uri": "https://localhost:8080/"
        },
        "id": "rAP4MP9uj3VW",
        "outputId": "d079314e-91fe-4456-f5aa-a33cae273243"
      },
      "execution_count": null,
      "outputs": [
        {
          "output_type": "execute_result",
          "data": {
            "text/plain": [
              "dtype('O')"
            ]
          },
          "metadata": {},
          "execution_count": 19
        }
      ]
    },
    {
      "cell_type": "code",
      "source": [
        "netflix_movies_df['country'].nunique()"
      ],
      "metadata": {
        "colab": {
          "base_uri": "https://localhost:8080/"
        },
        "id": "lS1w66BNw5NS",
        "outputId": "2e7d3ad8-b7de-4c0b-fa95-c26a80b746ae"
      },
      "execution_count": null,
      "outputs": [
        {
          "output_type": "execute_result",
          "data": {
            "text/plain": [
              "748"
            ]
          },
          "metadata": {},
          "execution_count": 15
        }
      ]
    },
    {
      "cell_type": "code",
      "source": [
        "netflix_movies_df['duration'].value_counts()"
      ],
      "metadata": {
        "colab": {
          "base_uri": "https://localhost:8080/"
        },
        "id": "5Vi71emDx8_x",
        "outputId": "c04c3a94-bbdc-4ede-c7ba-859011446c90"
      },
      "execution_count": null,
      "outputs": [
        {
          "output_type": "execute_result",
          "data": {
            "text/plain": [
              "1 Season     1793\n",
              "2 Seasons     425\n",
              "3 Seasons     199\n",
              "90 min        152\n",
              "94 min        146\n",
              "             ... \n",
              "16 min          1\n",
              "186 min         1\n",
              "193 min         1\n",
              "189 min         1\n",
              "191 min         1\n",
              "Name: duration, Length: 220, dtype: int64"
            ]
          },
          "metadata": {},
          "execution_count": 16
        }
      ]
    },
    {
      "cell_type": "code",
      "source": [
        "netflix_movies_df['rating'].value_counts()"
      ],
      "metadata": {
        "colab": {
          "base_uri": "https://localhost:8080/"
        },
        "id": "RIYywECZyETS",
        "outputId": "444777c6-1d33-4c3d-8f95-b7a7d33e2dab"
      },
      "execution_count": null,
      "outputs": [
        {
          "output_type": "execute_result",
          "data": {
            "text/plain": [
              "TV-MA       3207\n",
              "TV-14       2160\n",
              "TV-PG        863\n",
              "R            799\n",
              "PG-13        490\n",
              "TV-Y7        334\n",
              "TV-Y         307\n",
              "PG           287\n",
              "TV-G         220\n",
              "NR            80\n",
              "G             41\n",
              "TV-Y7-FV       6\n",
              "NC-17          3\n",
              "UR             3\n",
              "74 min         1\n",
              "84 min         1\n",
              "66 min         1\n",
              "Name: rating, dtype: int64"
            ]
          },
          "metadata": {},
          "execution_count": 17
        }
      ]
    },
    {
      "cell_type": "code",
      "source": [
        "netflix_movies_df['listed_in'].value_counts()"
      ],
      "metadata": {
        "colab": {
          "base_uri": "https://localhost:8080/"
        },
        "id": "xabL-6kByEWk",
        "outputId": "bddaa50d-d971-4b0f-942c-a0157c3501ab"
      },
      "execution_count": null,
      "outputs": [
        {
          "output_type": "execute_result",
          "data": {
            "text/plain": [
              "Dramas, International Movies                          362\n",
              "Documentaries                                         359\n",
              "Stand-Up Comedy                                       334\n",
              "Comedies, Dramas, International Movies                274\n",
              "Dramas, Independent Movies, International Movies      252\n",
              "                                                     ... \n",
              "Kids' TV, TV Action & Adventure, TV Dramas              1\n",
              "TV Comedies, TV Dramas, TV Horror                       1\n",
              "Children & Family Movies, Comedies, LGBTQ Movies        1\n",
              "Kids' TV, Spanish-Language TV Shows, Teen TV Shows      1\n",
              "Cult Movies, Dramas, Thrillers                          1\n",
              "Name: listed_in, Length: 514, dtype: int64"
            ]
          },
          "metadata": {},
          "execution_count": 18
        }
      ]
    },
    {
      "cell_type": "code",
      "source": [
        "netflix_movies_df['release_year'].value_counts()\n",
        "\n"
      ],
      "metadata": {
        "colab": {
          "base_uri": "https://localhost:8080/"
        },
        "id": "euABGxNiyEZO",
        "outputId": "d44e12ef-7ab9-4aed-ebed-274bfa7af718"
      },
      "execution_count": null,
      "outputs": [
        {
          "output_type": "execute_result",
          "data": {
            "text/plain": [
              "2018    1147\n",
              "2017    1032\n",
              "2019    1030\n",
              "2020     953\n",
              "2016     902\n",
              "        ... \n",
              "1959       1\n",
              "1925       1\n",
              "1961       1\n",
              "1947       1\n",
              "1966       1\n",
              "Name: release_year, Length: 74, dtype: int64"
            ]
          },
          "metadata": {},
          "execution_count": 19
        }
      ]
    },
    {
      "cell_type": "code",
      "source": [
        "netflix_movies_df['country'].value_counts()"
      ],
      "metadata": {
        "colab": {
          "base_uri": "https://localhost:8080/"
        },
        "id": "xRrNS_s-yHTw",
        "outputId": "b0aa5fb4-9cb1-4edc-a5fa-a14f74a6e4a5"
      },
      "execution_count": null,
      "outputs": [
        {
          "output_type": "execute_result",
          "data": {
            "text/plain": [
              "United States                             2818\n",
              "India                                      972\n",
              "United Kingdom                             419\n",
              "Japan                                      245\n",
              "South Korea                                199\n",
              "                                          ... \n",
              "Romania, Bulgaria, Hungary                   1\n",
              "Uruguay, Guatemala                           1\n",
              "France, Senegal, Belgium                     1\n",
              "Mexico, United States, Spain, Colombia       1\n",
              "United Arab Emirates, Jordan                 1\n",
              "Name: country, Length: 748, dtype: int64"
            ]
          },
          "metadata": {},
          "execution_count": 20
        }
      ]
    },
    {
      "cell_type": "code",
      "source": [
        "netflix_movies_df['title'].value_counts()"
      ],
      "metadata": {
        "colab": {
          "base_uri": "https://localhost:8080/"
        },
        "id": "EMW2_ZgQyHWw",
        "outputId": "385853d4-e936-46a5-d732-9ef0ee442154"
      },
      "execution_count": null,
      "outputs": [
        {
          "output_type": "execute_result",
          "data": {
            "text/plain": [
              "Dick Johnson Is Dead                     1\n",
              "Ip Man 2                                 1\n",
              "Hannibal Buress: Comedy Camisado         1\n",
              "Turbo FAST                               1\n",
              "Masha's Tales                            1\n",
              "                                        ..\n",
              "Love for Sale 2                          1\n",
              "ROAD TO ROMA                             1\n",
              "Good Time                                1\n",
              "Captain Underpants Epic Choice-o-Rama    1\n",
              "Zubaan                                   1\n",
              "Name: title, Length: 8807, dtype: int64"
            ]
          },
          "metadata": {},
          "execution_count": 21
        }
      ]
    },
    {
      "cell_type": "code",
      "source": [
        "netflix_movies_df['type'].value_counts()"
      ],
      "metadata": {
        "colab": {
          "base_uri": "https://localhost:8080/"
        },
        "id": "gqDO3STa2XSl",
        "outputId": "7ac01e43-8da4-4d7a-cb88-46c4d91456c5"
      },
      "execution_count": null,
      "outputs": [
        {
          "output_type": "execute_result",
          "data": {
            "text/plain": [
              "Movie      6131\n",
              "TV Show    2676\n",
              "Name: type, dtype: int64"
            ]
          },
          "metadata": {},
          "execution_count": 22
        }
      ]
    },
    {
      "cell_type": "code",
      "source": [
        "netflix_movies_df['cast'].value_counts()"
      ],
      "metadata": {
        "colab": {
          "base_uri": "https://localhost:8080/"
        },
        "id": "gDr6DXa0yHZX",
        "outputId": "acaa201f-74e7-4baa-f94b-9a6526d2de47"
      },
      "execution_count": null,
      "outputs": [
        {
          "output_type": "execute_result",
          "data": {
            "text/plain": [
              "David Attenborough                                                                                                                                                                            19\n",
              "Vatsal Dubey, Julie Tejwani, Rupa Bhimani, Jigna Bhardwaj, Rajesh Kava, Mousam, Swapnil                                                                                                       14\n",
              "Samuel West                                                                                                                                                                                   10\n",
              "Jeff Dunham                                                                                                                                                                                    7\n",
              "David Spade, London Hughes, Fortune Feimster                                                                                                                                                   6\n",
              "                                                                                                                                                                                              ..\n",
              "Michael Peña, Diego Luna, Tenoch Huerta, Joaquin Cosio, José María Yazpik, Matt Letscher, Alyssa Diaz                                                                                          1\n",
              "Nick Lachey, Vanessa Lachey                                                                                                                                                                    1\n",
              "Takeru Sato, Kasumi Arimura, Haru, Kentaro Sakaguchi, Takayuki Yamada, Kendo Kobayashi, Ken Yasuda, Arata Furuta, Suzuki Matsuo, Koichi Yamadera, Arata Iura, Chikako Kaku, Kotaro Yoshida     1\n",
              "Toyin Abraham, Sambasa Nzeribe, Chioma Chukwuka Akpotha, Chioma Omeruah, Chiwetalu Agu, Dele Odule, Femi Adebayo, Bayray McNwizu, Biodun Stephen                                               1\n",
              "Vicky Kaushal, Sarah-Jane Dias, Raaghav Chanana, Manish Chaudhary, Meghna Malik, Malkeet Rauni, Anita Shabdish, Chittaranjan Tripathy                                                          1\n",
              "Name: cast, Length: 7692, dtype: int64"
            ]
          },
          "metadata": {},
          "execution_count": 23
        }
      ]
    },
    {
      "cell_type": "code",
      "source": [
        "netflix_movies_df.country.value_counts().head(10)"
      ],
      "metadata": {
        "colab": {
          "base_uri": "https://localhost:8080/"
        },
        "id": "q5apYCXkyEcJ",
        "outputId": "b4ba70c7-2301-42c2-c760-058110a36557"
      },
      "execution_count": null,
      "outputs": [
        {
          "output_type": "execute_result",
          "data": {
            "text/plain": [
              "United States     2818\n",
              "India              972\n",
              "United Kingdom     419\n",
              "Japan              245\n",
              "South Korea        199\n",
              "Canada             181\n",
              "Spain              145\n",
              "France             124\n",
              "Mexico             110\n",
              "Egypt              106\n",
              "Name: country, dtype: int64"
            ]
          },
          "metadata": {},
          "execution_count": 24
        }
      ]
    },
    {
      "cell_type": "code",
      "source": [
        "netflix_movies_df.country.value_counts().tail(10)"
      ],
      "metadata": {
        "colab": {
          "base_uri": "https://localhost:8080/"
        },
        "id": "EvfA8gdN0XVe",
        "outputId": "a4111ba0-ff60-4c14-9a4c-b88a3cda863e"
      },
      "execution_count": null,
      "outputs": [
        {
          "output_type": "execute_result",
          "data": {
            "text/plain": [
              "Mauritius, South Africa                                            1\n",
              "United Kingdom, United States, Germany, Denmark, Belgium, Japan    1\n",
              "Canada, Norway                                                     1\n",
              "India, United Kingdom, Canada, United States                       1\n",
              "Philippines, United States                                         1\n",
              "Romania, Bulgaria, Hungary                                         1\n",
              "Uruguay, Guatemala                                                 1\n",
              "France, Senegal, Belgium                                           1\n",
              "Mexico, United States, Spain, Colombia                             1\n",
              "United Arab Emirates, Jordan                                       1\n",
              "Name: country, dtype: int64"
            ]
          },
          "metadata": {},
          "execution_count": 25
        }
      ]
    },
    {
      "cell_type": "code",
      "source": [
        "netflix_movies_df.director.value_counts().head(10)"
      ],
      "metadata": {
        "colab": {
          "base_uri": "https://localhost:8080/"
        },
        "id": "G9v-yl4U0iza",
        "outputId": "681f16bd-4ebc-44ff-e820-08322c785a1d"
      },
      "execution_count": null,
      "outputs": [
        {
          "output_type": "execute_result",
          "data": {
            "text/plain": [
              "Rajiv Chilaka             19\n",
              "Raúl Campos, Jan Suter    18\n",
              "Marcus Raboy              16\n",
              "Suhas Kadav               16\n",
              "Jay Karas                 14\n",
              "Cathy Garcia-Molina       13\n",
              "Martin Scorsese           12\n",
              "Youssef Chahine           12\n",
              "Jay Chapman               12\n",
              "Steven Spielberg          11\n",
              "Name: director, dtype: int64"
            ]
          },
          "metadata": {},
          "execution_count": 26
        }
      ]
    },
    {
      "cell_type": "code",
      "source": [
        "netflix_movies_df.rating.value_counts().head(10)"
      ],
      "metadata": {
        "colab": {
          "base_uri": "https://localhost:8080/"
        },
        "id": "RzvUkNsQ0rRf",
        "outputId": "ebc84aa1-4c4a-4774-faba-983f350f8eed"
      },
      "execution_count": null,
      "outputs": [
        {
          "output_type": "execute_result",
          "data": {
            "text/plain": [
              "TV-MA    3207\n",
              "TV-14    2160\n",
              "TV-PG     863\n",
              "R         799\n",
              "PG-13     490\n",
              "TV-Y7     334\n",
              "TV-Y      307\n",
              "PG        287\n",
              "TV-G      220\n",
              "NR         80\n",
              "Name: rating, dtype: int64"
            ]
          },
          "metadata": {},
          "execution_count": 27
        }
      ]
    },
    {
      "cell_type": "code",
      "source": [
        "netflix_movies_df.rating.value_counts().tail(10)"
      ],
      "metadata": {
        "colab": {
          "base_uri": "https://localhost:8080/"
        },
        "id": "nbpDvLlU1kjv",
        "outputId": "72fb366c-c60c-4d14-a096-93651924b4f5"
      },
      "execution_count": null,
      "outputs": [
        {
          "output_type": "execute_result",
          "data": {
            "text/plain": [
              "PG          287\n",
              "TV-G        220\n",
              "NR           80\n",
              "G            41\n",
              "TV-Y7-FV      6\n",
              "NC-17         3\n",
              "UR            3\n",
              "74 min        1\n",
              "84 min        1\n",
              "66 min        1\n",
              "Name: rating, dtype: int64"
            ]
          },
          "metadata": {},
          "execution_count": 28
        }
      ]
    },
    {
      "cell_type": "code",
      "source": [
        "netflix_movies_df.release_year.value_counts().head(10)"
      ],
      "metadata": {
        "colab": {
          "base_uri": "https://localhost:8080/"
        },
        "id": "WgPmnRnN0_gZ",
        "outputId": "ed908874-bd92-4f7f-9c83-44350c7dcf60"
      },
      "execution_count": null,
      "outputs": [
        {
          "output_type": "execute_result",
          "data": {
            "text/plain": [
              "2018    1147\n",
              "2017    1032\n",
              "2019    1030\n",
              "2020     953\n",
              "2016     902\n",
              "2021     592\n",
              "2015     560\n",
              "2014     352\n",
              "2013     288\n",
              "2012     237\n",
              "Name: release_year, dtype: int64"
            ]
          },
          "metadata": {},
          "execution_count": 29
        }
      ]
    },
    {
      "cell_type": "code",
      "source": [
        "netflix_movies_df.release_year.value_counts().tail(10)"
      ],
      "metadata": {
        "colab": {
          "base_uri": "https://localhost:8080/"
        },
        "id": "XTcujX9d1YDo",
        "outputId": "02875830-12ca-4463-a4e9-d2a029c6a0ee"
      },
      "execution_count": null,
      "outputs": [
        {
          "output_type": "execute_result",
          "data": {
            "text/plain": [
              "1956    2\n",
              "1965    2\n",
              "1946    2\n",
              "1942    2\n",
              "1954    2\n",
              "1959    1\n",
              "1925    1\n",
              "1961    1\n",
              "1947    1\n",
              "1966    1\n",
              "Name: release_year, dtype: int64"
            ]
          },
          "metadata": {},
          "execution_count": 30
        }
      ]
    },
    {
      "cell_type": "code",
      "source": [
        "netflix_movies_df.listed_in.value_counts().head(10)"
      ],
      "metadata": {
        "colab": {
          "base_uri": "https://localhost:8080/"
        },
        "id": "643NBIir1Zy_",
        "outputId": "8c18418c-9675-4ecd-a763-0bc136b73e22"
      },
      "execution_count": null,
      "outputs": [
        {
          "output_type": "execute_result",
          "data": {
            "text/plain": [
              "Dramas, International Movies                        362\n",
              "Documentaries                                       359\n",
              "Stand-Up Comedy                                     334\n",
              "Comedies, Dramas, International Movies              274\n",
              "Dramas, Independent Movies, International Movies    252\n",
              "Kids' TV                                            220\n",
              "Children & Family Movies                            215\n",
              "Children & Family Movies, Comedies                  201\n",
              "Documentaries, International Movies                 186\n",
              "Dramas, International Movies, Romantic Movies       180\n",
              "Name: listed_in, dtype: int64"
            ]
          },
          "metadata": {},
          "execution_count": 31
        }
      ]
    },
    {
      "cell_type": "code",
      "source": [
        "netflix_movies_df.listed_in.value_counts().tail(10)"
      ],
      "metadata": {
        "colab": {
          "base_uri": "https://localhost:8080/"
        },
        "id": "YYkL6JeG1tkx",
        "outputId": "e1a39e7e-9106-486e-cffa-822e81bb2100"
      },
      "execution_count": null,
      "outputs": [
        {
          "output_type": "execute_result",
          "data": {
            "text/plain": [
              "Docuseries, Reality TV, Teen TV Shows                 1\n",
              "Crime TV Shows, International TV Shows, Reality TV    1\n",
              "Anime Features, Romantic Movies                       1\n",
              "Anime Features, Music & Musicals                      1\n",
              "British TV Shows, Kids' TV, TV Thrillers              1\n",
              "Kids' TV, TV Action & Adventure, TV Dramas            1\n",
              "TV Comedies, TV Dramas, TV Horror                     1\n",
              "Children & Family Movies, Comedies, LGBTQ Movies      1\n",
              "Kids' TV, Spanish-Language TV Shows, Teen TV Shows    1\n",
              "Cult Movies, Dramas, Thrillers                        1\n",
              "Name: listed_in, dtype: int64"
            ]
          },
          "metadata": {},
          "execution_count": 32
        }
      ]
    },
    {
      "cell_type": "code",
      "source": [
        "types = netflix_movies_df['type'].value_counts()\n",
        "\n",
        "print(\"Total:\" , len(netflix_movies_df))\n",
        "print(\"Number of Movies:\", types['Movie'])\n",
        "print(\"Number of TV Shows:\", types['TV Show'])\n"
      ],
      "metadata": {
        "colab": {
          "base_uri": "https://localhost:8080/"
        },
        "id": "bnwqhBZiCQSn",
        "outputId": "2f872d8f-7d82-47d0-d91d-68d2f3320358"
      },
      "execution_count": null,
      "outputs": [
        {
          "output_type": "stream",
          "name": "stdout",
          "text": [
            "Total: 8807\n",
            "Number of Movies: 6131\n",
            "Number of TV Shows: 2676\n"
          ]
        }
      ]
    },
    {
      "cell_type": "code",
      "source": [
        "netflix_movies_df.columns\n"
      ],
      "metadata": {
        "colab": {
          "base_uri": "https://localhost:8080/"
        },
        "id": "1YLujMGZb8mb",
        "outputId": "afd690e0-7469-499c-afb1-3b126a0d45a1"
      },
      "execution_count": null,
      "outputs": [
        {
          "output_type": "execute_result",
          "data": {
            "text/plain": [
              "Index(['show_id', 'type', 'title', 'director', 'cast', 'country', 'date_added',\n",
              "       'release_year', 'rating', 'duration', 'listed_in', 'description'],\n",
              "      dtype='object')"
            ]
          },
          "metadata": {},
          "execution_count": 34
        }
      ]
    },
    {
      "cell_type": "code",
      "source": [
        "netflix_movies_df.rename(columns = {'listed_in':'Genre'}, inplace = True)"
      ],
      "metadata": {
        "id": "GZJTwm9cBU7C"
      },
      "execution_count": null,
      "outputs": []
    },
    {
      "cell_type": "code",
      "source": [
        "netflix_movies_df.rename(columns = {'type':'Category'}, inplace = True)"
      ],
      "metadata": {
        "id": "ujtVo7v0B9fb"
      },
      "execution_count": null,
      "outputs": []
    },
    {
      "cell_type": "code",
      "source": [
        "netflix_movies_df.head(2)"
      ],
      "metadata": {
        "colab": {
          "base_uri": "https://localhost:8080/",
          "height": 243
        },
        "id": "iaRxQf1TCH2J",
        "outputId": "061d66f2-5f22-4561-ab81-2b525b1237ad"
      },
      "execution_count": null,
      "outputs": [
        {
          "output_type": "execute_result",
          "data": {
            "text/plain": [
              "  show_id Category                 title         director  \\\n",
              "0      s1    Movie  Dick Johnson Is Dead  Kirsten Johnson   \n",
              "1      s2  TV Show         Blood & Water              NaN   \n",
              "\n",
              "                                                cast        country  \\\n",
              "0                                                NaN  United States   \n",
              "1  Ama Qamata, Khosi Ngema, Gail Mabalane, Thaban...   South Africa   \n",
              "\n",
              "           date_added  release_year rating   duration  \\\n",
              "0  September 25, 2021          2020  PG-13     90 min   \n",
              "1  September 24, 2021          2021  TV-MA  2 Seasons   \n",
              "\n",
              "                                             Genre  \\\n",
              "0                                    Documentaries   \n",
              "1  International TV Shows, TV Dramas, TV Mysteries   \n",
              "\n",
              "                                         description  \n",
              "0  As her father nears the end of his life, filmm...  \n",
              "1  After crossing paths at a party, a Cape Town t...  "
            ],
            "text/html": [
              "\n",
              "  <div id=\"df-b7d8b369-9c82-467e-a14d-7e65b77058b1\">\n",
              "    <div class=\"colab-df-container\">\n",
              "      <div>\n",
              "<style scoped>\n",
              "    .dataframe tbody tr th:only-of-type {\n",
              "        vertical-align: middle;\n",
              "    }\n",
              "\n",
              "    .dataframe tbody tr th {\n",
              "        vertical-align: top;\n",
              "    }\n",
              "\n",
              "    .dataframe thead th {\n",
              "        text-align: right;\n",
              "    }\n",
              "</style>\n",
              "<table border=\"1\" class=\"dataframe\">\n",
              "  <thead>\n",
              "    <tr style=\"text-align: right;\">\n",
              "      <th></th>\n",
              "      <th>show_id</th>\n",
              "      <th>Category</th>\n",
              "      <th>title</th>\n",
              "      <th>director</th>\n",
              "      <th>cast</th>\n",
              "      <th>country</th>\n",
              "      <th>date_added</th>\n",
              "      <th>release_year</th>\n",
              "      <th>rating</th>\n",
              "      <th>duration</th>\n",
              "      <th>Genre</th>\n",
              "      <th>description</th>\n",
              "    </tr>\n",
              "  </thead>\n",
              "  <tbody>\n",
              "    <tr>\n",
              "      <th>0</th>\n",
              "      <td>s1</td>\n",
              "      <td>Movie</td>\n",
              "      <td>Dick Johnson Is Dead</td>\n",
              "      <td>Kirsten Johnson</td>\n",
              "      <td>NaN</td>\n",
              "      <td>United States</td>\n",
              "      <td>September 25, 2021</td>\n",
              "      <td>2020</td>\n",
              "      <td>PG-13</td>\n",
              "      <td>90 min</td>\n",
              "      <td>Documentaries</td>\n",
              "      <td>As her father nears the end of his life, filmm...</td>\n",
              "    </tr>\n",
              "    <tr>\n",
              "      <th>1</th>\n",
              "      <td>s2</td>\n",
              "      <td>TV Show</td>\n",
              "      <td>Blood &amp; Water</td>\n",
              "      <td>NaN</td>\n",
              "      <td>Ama Qamata, Khosi Ngema, Gail Mabalane, Thaban...</td>\n",
              "      <td>South Africa</td>\n",
              "      <td>September 24, 2021</td>\n",
              "      <td>2021</td>\n",
              "      <td>TV-MA</td>\n",
              "      <td>2 Seasons</td>\n",
              "      <td>International TV Shows, TV Dramas, TV Mysteries</td>\n",
              "      <td>After crossing paths at a party, a Cape Town t...</td>\n",
              "    </tr>\n",
              "  </tbody>\n",
              "</table>\n",
              "</div>\n",
              "      <button class=\"colab-df-convert\" onclick=\"convertToInteractive('df-b7d8b369-9c82-467e-a14d-7e65b77058b1')\"\n",
              "              title=\"Convert this dataframe to an interactive table.\"\n",
              "              style=\"display:none;\">\n",
              "        \n",
              "  <svg xmlns=\"http://www.w3.org/2000/svg\" height=\"24px\"viewBox=\"0 0 24 24\"\n",
              "       width=\"24px\">\n",
              "    <path d=\"M0 0h24v24H0V0z\" fill=\"none\"/>\n",
              "    <path d=\"M18.56 5.44l.94 2.06.94-2.06 2.06-.94-2.06-.94-.94-2.06-.94 2.06-2.06.94zm-11 1L8.5 8.5l.94-2.06 2.06-.94-2.06-.94L8.5 2.5l-.94 2.06-2.06.94zm10 10l.94 2.06.94-2.06 2.06-.94-2.06-.94-.94-2.06-.94 2.06-2.06.94z\"/><path d=\"M17.41 7.96l-1.37-1.37c-.4-.4-.92-.59-1.43-.59-.52 0-1.04.2-1.43.59L10.3 9.45l-7.72 7.72c-.78.78-.78 2.05 0 2.83L4 21.41c.39.39.9.59 1.41.59.51 0 1.02-.2 1.41-.59l7.78-7.78 2.81-2.81c.8-.78.8-2.07 0-2.86zM5.41 20L4 18.59l7.72-7.72 1.47 1.35L5.41 20z\"/>\n",
              "  </svg>\n",
              "      </button>\n",
              "      \n",
              "  <style>\n",
              "    .colab-df-container {\n",
              "      display:flex;\n",
              "      flex-wrap:wrap;\n",
              "      gap: 12px;\n",
              "    }\n",
              "\n",
              "    .colab-df-convert {\n",
              "      background-color: #E8F0FE;\n",
              "      border: none;\n",
              "      border-radius: 50%;\n",
              "      cursor: pointer;\n",
              "      display: none;\n",
              "      fill: #1967D2;\n",
              "      height: 32px;\n",
              "      padding: 0 0 0 0;\n",
              "      width: 32px;\n",
              "    }\n",
              "\n",
              "    .colab-df-convert:hover {\n",
              "      background-color: #E2EBFA;\n",
              "      box-shadow: 0px 1px 2px rgba(60, 64, 67, 0.3), 0px 1px 3px 1px rgba(60, 64, 67, 0.15);\n",
              "      fill: #174EA6;\n",
              "    }\n",
              "\n",
              "    [theme=dark] .colab-df-convert {\n",
              "      background-color: #3B4455;\n",
              "      fill: #D2E3FC;\n",
              "    }\n",
              "\n",
              "    [theme=dark] .colab-df-convert:hover {\n",
              "      background-color: #434B5C;\n",
              "      box-shadow: 0px 1px 3px 1px rgba(0, 0, 0, 0.15);\n",
              "      filter: drop-shadow(0px 1px 2px rgba(0, 0, 0, 0.3));\n",
              "      fill: #FFFFFF;\n",
              "    }\n",
              "  </style>\n",
              "\n",
              "      <script>\n",
              "        const buttonEl =\n",
              "          document.querySelector('#df-b7d8b369-9c82-467e-a14d-7e65b77058b1 button.colab-df-convert');\n",
              "        buttonEl.style.display =\n",
              "          google.colab.kernel.accessAllowed ? 'block' : 'none';\n",
              "\n",
              "        async function convertToInteractive(key) {\n",
              "          const element = document.querySelector('#df-b7d8b369-9c82-467e-a14d-7e65b77058b1');\n",
              "          const dataTable =\n",
              "            await google.colab.kernel.invokeFunction('convertToInteractive',\n",
              "                                                     [key], {});\n",
              "          if (!dataTable) return;\n",
              "\n",
              "          const docLinkHtml = 'Like what you see? Visit the ' +\n",
              "            '<a target=\"_blank\" href=https://colab.research.google.com/notebooks/data_table.ipynb>data table notebook</a>'\n",
              "            + ' to learn more about interactive tables.';\n",
              "          element.innerHTML = '';\n",
              "          dataTable['output_type'] = 'display_data';\n",
              "          await google.colab.output.renderOutput(dataTable, element);\n",
              "          const docLink = document.createElement('div');\n",
              "          docLink.innerHTML = docLinkHtml;\n",
              "          element.appendChild(docLink);\n",
              "        }\n",
              "      </script>\n",
              "    </div>\n",
              "  </div>\n",
              "  "
            ]
          },
          "metadata": {},
          "execution_count": 37
        }
      ]
    },
    {
      "cell_type": "code",
      "source": [
        "# droping extra columns: show_id, date_added, description in netflix dataframe\n",
        "netflix_movies_df.drop(['show_id', 'date_added', 'description'], axis=1, inplace=True)"
      ],
      "metadata": {
        "id": "t8aZPoNQCe3R"
      },
      "execution_count": null,
      "outputs": []
    },
    {
      "cell_type": "code",
      "source": [
        "netflix_movies_df.head()"
      ],
      "metadata": {
        "colab": {
          "base_uri": "https://localhost:8080/",
          "height": 337
        },
        "id": "o7kqRK4jCrCd",
        "outputId": "f0e39d07-671b-46bc-9dc7-0d2d1e99c03d"
      },
      "execution_count": null,
      "outputs": [
        {
          "output_type": "execute_result",
          "data": {
            "text/plain": [
              "  Category                  title         director  \\\n",
              "0    Movie   Dick Johnson Is Dead  Kirsten Johnson   \n",
              "1  TV Show          Blood & Water              NaN   \n",
              "2  TV Show              Ganglands  Julien Leclercq   \n",
              "3  TV Show  Jailbirds New Orleans              NaN   \n",
              "4  TV Show           Kota Factory              NaN   \n",
              "\n",
              "                                                cast        country  \\\n",
              "0                                                NaN  United States   \n",
              "1  Ama Qamata, Khosi Ngema, Gail Mabalane, Thaban...   South Africa   \n",
              "2  Sami Bouajila, Tracy Gotoas, Samuel Jouy, Nabi...            NaN   \n",
              "3                                                NaN            NaN   \n",
              "4  Mayur More, Jitendra Kumar, Ranjan Raj, Alam K...          India   \n",
              "\n",
              "   release_year rating   duration  \\\n",
              "0          2020  PG-13     90 min   \n",
              "1          2021  TV-MA  2 Seasons   \n",
              "2          2021  TV-MA   1 Season   \n",
              "3          2021  TV-MA   1 Season   \n",
              "4          2021  TV-MA  2 Seasons   \n",
              "\n",
              "                                               Genre  \n",
              "0                                      Documentaries  \n",
              "1    International TV Shows, TV Dramas, TV Mysteries  \n",
              "2  Crime TV Shows, International TV Shows, TV Act...  \n",
              "3                             Docuseries, Reality TV  \n",
              "4  International TV Shows, Romantic TV Shows, TV ...  "
            ],
            "text/html": [
              "\n",
              "  <div id=\"df-c7f8c114-f50d-42f1-897c-3f18aea08591\">\n",
              "    <div class=\"colab-df-container\">\n",
              "      <div>\n",
              "<style scoped>\n",
              "    .dataframe tbody tr th:only-of-type {\n",
              "        vertical-align: middle;\n",
              "    }\n",
              "\n",
              "    .dataframe tbody tr th {\n",
              "        vertical-align: top;\n",
              "    }\n",
              "\n",
              "    .dataframe thead th {\n",
              "        text-align: right;\n",
              "    }\n",
              "</style>\n",
              "<table border=\"1\" class=\"dataframe\">\n",
              "  <thead>\n",
              "    <tr style=\"text-align: right;\">\n",
              "      <th></th>\n",
              "      <th>Category</th>\n",
              "      <th>title</th>\n",
              "      <th>director</th>\n",
              "      <th>cast</th>\n",
              "      <th>country</th>\n",
              "      <th>release_year</th>\n",
              "      <th>rating</th>\n",
              "      <th>duration</th>\n",
              "      <th>Genre</th>\n",
              "    </tr>\n",
              "  </thead>\n",
              "  <tbody>\n",
              "    <tr>\n",
              "      <th>0</th>\n",
              "      <td>Movie</td>\n",
              "      <td>Dick Johnson Is Dead</td>\n",
              "      <td>Kirsten Johnson</td>\n",
              "      <td>NaN</td>\n",
              "      <td>United States</td>\n",
              "      <td>2020</td>\n",
              "      <td>PG-13</td>\n",
              "      <td>90 min</td>\n",
              "      <td>Documentaries</td>\n",
              "    </tr>\n",
              "    <tr>\n",
              "      <th>1</th>\n",
              "      <td>TV Show</td>\n",
              "      <td>Blood &amp; Water</td>\n",
              "      <td>NaN</td>\n",
              "      <td>Ama Qamata, Khosi Ngema, Gail Mabalane, Thaban...</td>\n",
              "      <td>South Africa</td>\n",
              "      <td>2021</td>\n",
              "      <td>TV-MA</td>\n",
              "      <td>2 Seasons</td>\n",
              "      <td>International TV Shows, TV Dramas, TV Mysteries</td>\n",
              "    </tr>\n",
              "    <tr>\n",
              "      <th>2</th>\n",
              "      <td>TV Show</td>\n",
              "      <td>Ganglands</td>\n",
              "      <td>Julien Leclercq</td>\n",
              "      <td>Sami Bouajila, Tracy Gotoas, Samuel Jouy, Nabi...</td>\n",
              "      <td>NaN</td>\n",
              "      <td>2021</td>\n",
              "      <td>TV-MA</td>\n",
              "      <td>1 Season</td>\n",
              "      <td>Crime TV Shows, International TV Shows, TV Act...</td>\n",
              "    </tr>\n",
              "    <tr>\n",
              "      <th>3</th>\n",
              "      <td>TV Show</td>\n",
              "      <td>Jailbirds New Orleans</td>\n",
              "      <td>NaN</td>\n",
              "      <td>NaN</td>\n",
              "      <td>NaN</td>\n",
              "      <td>2021</td>\n",
              "      <td>TV-MA</td>\n",
              "      <td>1 Season</td>\n",
              "      <td>Docuseries, Reality TV</td>\n",
              "    </tr>\n",
              "    <tr>\n",
              "      <th>4</th>\n",
              "      <td>TV Show</td>\n",
              "      <td>Kota Factory</td>\n",
              "      <td>NaN</td>\n",
              "      <td>Mayur More, Jitendra Kumar, Ranjan Raj, Alam K...</td>\n",
              "      <td>India</td>\n",
              "      <td>2021</td>\n",
              "      <td>TV-MA</td>\n",
              "      <td>2 Seasons</td>\n",
              "      <td>International TV Shows, Romantic TV Shows, TV ...</td>\n",
              "    </tr>\n",
              "  </tbody>\n",
              "</table>\n",
              "</div>\n",
              "      <button class=\"colab-df-convert\" onclick=\"convertToInteractive('df-c7f8c114-f50d-42f1-897c-3f18aea08591')\"\n",
              "              title=\"Convert this dataframe to an interactive table.\"\n",
              "              style=\"display:none;\">\n",
              "        \n",
              "  <svg xmlns=\"http://www.w3.org/2000/svg\" height=\"24px\"viewBox=\"0 0 24 24\"\n",
              "       width=\"24px\">\n",
              "    <path d=\"M0 0h24v24H0V0z\" fill=\"none\"/>\n",
              "    <path d=\"M18.56 5.44l.94 2.06.94-2.06 2.06-.94-2.06-.94-.94-2.06-.94 2.06-2.06.94zm-11 1L8.5 8.5l.94-2.06 2.06-.94-2.06-.94L8.5 2.5l-.94 2.06-2.06.94zm10 10l.94 2.06.94-2.06 2.06-.94-2.06-.94-.94-2.06-.94 2.06-2.06.94z\"/><path d=\"M17.41 7.96l-1.37-1.37c-.4-.4-.92-.59-1.43-.59-.52 0-1.04.2-1.43.59L10.3 9.45l-7.72 7.72c-.78.78-.78 2.05 0 2.83L4 21.41c.39.39.9.59 1.41.59.51 0 1.02-.2 1.41-.59l7.78-7.78 2.81-2.81c.8-.78.8-2.07 0-2.86zM5.41 20L4 18.59l7.72-7.72 1.47 1.35L5.41 20z\"/>\n",
              "  </svg>\n",
              "      </button>\n",
              "      \n",
              "  <style>\n",
              "    .colab-df-container {\n",
              "      display:flex;\n",
              "      flex-wrap:wrap;\n",
              "      gap: 12px;\n",
              "    }\n",
              "\n",
              "    .colab-df-convert {\n",
              "      background-color: #E8F0FE;\n",
              "      border: none;\n",
              "      border-radius: 50%;\n",
              "      cursor: pointer;\n",
              "      display: none;\n",
              "      fill: #1967D2;\n",
              "      height: 32px;\n",
              "      padding: 0 0 0 0;\n",
              "      width: 32px;\n",
              "    }\n",
              "\n",
              "    .colab-df-convert:hover {\n",
              "      background-color: #E2EBFA;\n",
              "      box-shadow: 0px 1px 2px rgba(60, 64, 67, 0.3), 0px 1px 3px 1px rgba(60, 64, 67, 0.15);\n",
              "      fill: #174EA6;\n",
              "    }\n",
              "\n",
              "    [theme=dark] .colab-df-convert {\n",
              "      background-color: #3B4455;\n",
              "      fill: #D2E3FC;\n",
              "    }\n",
              "\n",
              "    [theme=dark] .colab-df-convert:hover {\n",
              "      background-color: #434B5C;\n",
              "      box-shadow: 0px 1px 3px 1px rgba(0, 0, 0, 0.15);\n",
              "      filter: drop-shadow(0px 1px 2px rgba(0, 0, 0, 0.3));\n",
              "      fill: #FFFFFF;\n",
              "    }\n",
              "  </style>\n",
              "\n",
              "      <script>\n",
              "        const buttonEl =\n",
              "          document.querySelector('#df-c7f8c114-f50d-42f1-897c-3f18aea08591 button.colab-df-convert');\n",
              "        buttonEl.style.display =\n",
              "          google.colab.kernel.accessAllowed ? 'block' : 'none';\n",
              "\n",
              "        async function convertToInteractive(key) {\n",
              "          const element = document.querySelector('#df-c7f8c114-f50d-42f1-897c-3f18aea08591');\n",
              "          const dataTable =\n",
              "            await google.colab.kernel.invokeFunction('convertToInteractive',\n",
              "                                                     [key], {});\n",
              "          if (!dataTable) return;\n",
              "\n",
              "          const docLinkHtml = 'Like what you see? Visit the ' +\n",
              "            '<a target=\"_blank\" href=https://colab.research.google.com/notebooks/data_table.ipynb>data table notebook</a>'\n",
              "            + ' to learn more about interactive tables.';\n",
              "          element.innerHTML = '';\n",
              "          dataTable['output_type'] = 'display_data';\n",
              "          await google.colab.output.renderOutput(dataTable, element);\n",
              "          const docLink = document.createElement('div');\n",
              "          docLink.innerHTML = docLinkHtml;\n",
              "          element.appendChild(docLink);\n",
              "        }\n",
              "      </script>\n",
              "    </div>\n",
              "  </div>\n",
              "  "
            ]
          },
          "metadata": {},
          "execution_count": 39
        }
      ]
    },
    {
      "cell_type": "markdown",
      "source": [
        "## Cleaning Category colmun"
      ],
      "metadata": {
        "id": "ygmsbFmyDsDn"
      }
    },
    {
      "cell_type": "code",
      "source": [
        "netflix_movies_df.isnull().sum()\n"
      ],
      "metadata": {
        "colab": {
          "base_uri": "https://localhost:8080/"
        },
        "id": "ZV7bveE7K9KF",
        "outputId": "d8765d1e-ef31-4aed-a183-7b77dc66d608"
      },
      "execution_count": null,
      "outputs": [
        {
          "output_type": "execute_result",
          "data": {
            "text/plain": [
              "Category          0\n",
              "title             0\n",
              "director          0\n",
              "cast            473\n",
              "country         422\n",
              "release_year      0\n",
              "rating            1\n",
              "duration          3\n",
              "Genre             0\n",
              "dtype: int64"
            ]
          },
          "metadata": {},
          "execution_count": 60
        }
      ]
    },
    {
      "cell_type": "code",
      "source": [
        "# Check for null values.\n",
        "for col in netflix_movies_df.columns:\n",
        "  null_rate = netflix_movies_df[col].isnull().sum() / len(netflix_movies_df) * 100\n",
        "  if null_rate > 0:\n",
        "    print(f'Percentage of null values in {col} : {null_rate}%')"
      ],
      "metadata": {
        "colab": {
          "base_uri": "https://localhost:8080/"
        },
        "id": "P3g6QkKjAlDn",
        "outputId": "80015fbd-b841-4b61-f9da-acf97b3e42ab"
      },
      "execution_count": null,
      "outputs": [
        {
          "output_type": "stream",
          "name": "stdout",
          "text": [
            "Percentage of null values in cast : 7.662400777579783%\n",
            "Percentage of null values in country : 6.836222258221286%\n",
            "Percentage of null values in rating : 0.016199578810950913%\n",
            "Percentage of null values in duration : 0.04859873643285275%\n"
          ]
        }
      ]
    },
    {
      "cell_type": "code",
      "source": [
        "netflix_movies_df.isnull()"
      ],
      "metadata": {
        "id": "Wg3hcIDgy4Mu"
      },
      "execution_count": null,
      "outputs": []
    },
    {
      "cell_type": "code",
      "source": [
        "sns.heatmap(netflix_movies_df.isnull(),cmap='cividis', cbar_kws={'label': 'Missing Values'})"
      ],
      "metadata": {
        "colab": {
          "base_uri": "https://localhost:8080/",
          "height": 341
        },
        "id": "QTTtwcT-wRf8",
        "outputId": "752f2ba8-7112-40a1-b429-c16c6150c16c"
      },
      "execution_count": null,
      "outputs": [
        {
          "output_type": "execute_result",
          "data": {
            "text/plain": [
              "<matplotlib.axes._subplots.AxesSubplot at 0x7feba953d790>"
            ]
          },
          "metadata": {},
          "execution_count": 116
        },
        {
          "output_type": "display_data",
          "data": {
            "text/plain": [
              "<Figure size 432x288 with 2 Axes>"
            ],
            "image/png": "[encoded data removed]"
          },
          "metadata": {
            "needs_background": "light"
          }
        }
      ]
    },
    {
      "cell_type": "code",
      "source": [
        "netflix_movies_df.Category.hist()\n",
        "plt.show()"
      ],
      "metadata": {
        "colab": {
          "base_uri": "https://localhost:8080/",
          "height": 265
        },
        "id": "_U0ML0Y7DctZ",
        "outputId": "4aff5cff-01fd-49bf-a114-e0895923c09d"
      },
      "execution_count": null,
      "outputs": [
        {
          "output_type": "display_data",
          "data": {
            "text/plain": [
              "<Figure size 432x288 with 1 Axes>"
            ],
            "image/png": "[encoded data removed]"
          },
          "metadata": {
            "needs_background": "light"
          }
        }
      ]
    },
    {
      "cell_type": "code",
      "source": [
        "netflix_movies_df['Category'].isnull().sum()\n"
      ],
      "metadata": {
        "colab": {
          "base_uri": "https://localhost:8080/"
        },
        "id": "gDQIX6ZOE0qI",
        "outputId": "3266c563-bf24-48d5-8dd7-dd510d72d542"
      },
      "execution_count": null,
      "outputs": [
        {
          "output_type": "execute_result",
          "data": {
            "text/plain": [
              "0"
            ]
          },
          "metadata": {},
          "execution_count": 111
        }
      ]
    },
    {
      "cell_type": "code",
      "source": [
        "netflix_movies_df['Category'].notnull().sum()\n"
      ],
      "metadata": {
        "colab": {
          "base_uri": "https://localhost:8080/"
        },
        "id": "qIvIFXK0FODy",
        "outputId": "0703f4d6-2d58-445b-93d3-000e4a8ad4e4"
      },
      "execution_count": null,
      "outputs": [
        {
          "output_type": "execute_result",
          "data": {
            "text/plain": [
              "8807"
            ]
          },
          "metadata": {},
          "execution_count": 113
        }
      ]
    },
    {
      "cell_type": "markdown",
      "source": [
        "##  Cleaning \"title\" colmun\n",
        "\n",
        "\n"
      ],
      "metadata": {
        "id": "etVSTLFrFohy"
      }
    },
    {
      "cell_type": "code",
      "source": [
        "netflix_movies_df['title'].isnull().sum()\n"
      ],
      "metadata": {
        "colab": {
          "base_uri": "https://localhost:8080/"
        },
        "id": "NeH7xGvKFmll",
        "outputId": "eba61305-1cee-4432-c5ae-a52e28d9cd15"
      },
      "execution_count": null,
      "outputs": [
        {
          "output_type": "execute_result",
          "data": {
            "text/plain": [
              "0"
            ]
          },
          "metadata": {},
          "execution_count": 121
        }
      ]
    },
    {
      "cell_type": "code",
      "source": [
        "netflix_movies_df['title'].notnull().sum()\n"
      ],
      "metadata": {
        "colab": {
          "base_uri": "https://localhost:8080/"
        },
        "id": "5H0tq9g6JMBb",
        "outputId": "90256843-d7a7-4f31-e83d-16bc8a0a48de"
      },
      "execution_count": null,
      "outputs": [
        {
          "output_type": "execute_result",
          "data": {
            "text/plain": [
              "8807"
            ]
          },
          "metadata": {},
          "execution_count": 122
        }
      ]
    },
    {
      "cell_type": "markdown",
      "source": [
        "##  Cleaning \"Director\" Colmun"
      ],
      "metadata": {
        "id": "MV489iKwJhS_"
      }
    },
    {
      "cell_type": "code",
      "source": [
        "netflix_movies_df['director'].isnull().sum()\n"
      ],
      "metadata": {
        "colab": {
          "base_uri": "https://localhost:8080/"
        },
        "id": "WP_yxHFzJPXt",
        "outputId": "eb615379-da9f-417f-a78c-998e96e8a68f"
      },
      "execution_count": null,
      "outputs": [
        {
          "output_type": "execute_result",
          "data": {
            "text/plain": [
              "2634"
            ]
          },
          "metadata": {},
          "execution_count": 123
        }
      ]
    },
    {
      "cell_type": "code",
      "source": [
        "netflix_movies_df['director'].notnull().sum()\n"
      ],
      "metadata": {
        "colab": {
          "base_uri": "https://localhost:8080/"
        },
        "id": "w5xj1d2kJVJQ",
        "outputId": "e58f4ee9-6846-4f84-fcd7-6f51630de376"
      },
      "execution_count": null,
      "outputs": [
        {
          "output_type": "execute_result",
          "data": {
            "text/plain": [
              "6173"
            ]
          },
          "metadata": {},
          "execution_count": 124
        }
      ]
    },
    {
      "cell_type": "code",
      "source": [
        "netflix_movies_df.director"
      ],
      "metadata": {
        "colab": {
          "base_uri": "https://localhost:8080/"
        },
        "id": "upVYW7y1JDPR",
        "outputId": "98ddaebd-6f1e-44ca-e228-882082a341b3"
      },
      "execution_count": null,
      "outputs": [
        {
          "output_type": "execute_result",
          "data": {
            "text/plain": [
              "0                     Kirsten Johnson\n",
              "2                     Julien Leclercq\n",
              "5                       Mike Flanagan\n",
              "6       Robert Cullen, José Luis Ucha\n",
              "7                        Haile Gerima\n",
              "                    ...              \n",
              "8801                  Majid Al Ansari\n",
              "8802                    David Fincher\n",
              "8804                  Ruben Fleischer\n",
              "8805                     Peter Hewitt\n",
              "8806                      Mozez Singh\n",
              "Name: director, Length: 6173, dtype: object"
            ]
          },
          "metadata": {},
          "execution_count": 82
        }
      ]
    },
    {
      "cell_type": "code",
      "source": [
        "# filling null values with \"Unknown\"\n",
        "netflix_movies_df['director'].fillna('Unknown', inplace=True)"
      ],
      "metadata": {
        "id": "eGX-rwCFHzcH"
      },
      "execution_count": null,
      "outputs": []
    },
    {
      "cell_type": "code",
      "source": [
        "netflix_movies_df['director'].isnull().sum()\n"
      ],
      "metadata": {
        "colab": {
          "base_uri": "https://localhost:8080/"
        },
        "id": "zj6duysPIFXV",
        "outputId": "d14b62f9-19d0-4daf-c2a1-63d3896ef63d"
      },
      "execution_count": null,
      "outputs": [
        {
          "output_type": "execute_result",
          "data": {
            "text/plain": [
              "0"
            ]
          },
          "metadata": {},
          "execution_count": 79
        }
      ]
    },
    {
      "cell_type": "code",
      "source": [
        "netflix_movies_df.shape\n"
      ],
      "metadata": {
        "colab": {
          "base_uri": "https://localhost:8080/"
        },
        "id": "ZN-dxWh91Pu0",
        "outputId": "b7e5db72-ac18-4306-9376-d3caac464ddf"
      },
      "execution_count": null,
      "outputs": [
        {
          "output_type": "execute_result",
          "data": {
            "text/plain": [
              "(6173, 9)"
            ]
          },
          "metadata": {},
          "execution_count": 53
        }
      ]
    },
    {
      "cell_type": "code",
      "source": [
        "netflix_movies_df.director"
      ],
      "metadata": {
        "colab": {
          "base_uri": "https://localhost:8080/"
        },
        "id": "LBHf5Yq1IKdu",
        "outputId": "93e1c24c-4e00-4813-f7f4-ce6cf2e93c2a"
      },
      "execution_count": null,
      "outputs": [
        {
          "output_type": "execute_result",
          "data": {
            "text/plain": [
              "0                     Kirsten Johnson\n",
              "2                     Julien Leclercq\n",
              "5                       Mike Flanagan\n",
              "6       Robert Cullen, José Luis Ucha\n",
              "7                        Haile Gerima\n",
              "                    ...              \n",
              "8801                  Majid Al Ansari\n",
              "8802                    David Fincher\n",
              "8804                  Ruben Fleischer\n",
              "8805                     Peter Hewitt\n",
              "8806                      Mozez Singh\n",
              "Name: director, Length: 6173, dtype: object"
            ]
          },
          "metadata": {},
          "execution_count": 80
        }
      ]
    },
    {
      "cell_type": "code",
      "source": [
        "netflix_movies_df.head()"
      ],
      "metadata": {
        "colab": {
          "base_uri": "https://localhost:8080/",
          "height": 371
        },
        "id": "v3rzEWRLxnC6",
        "outputId": "9f390e72-6868-42ce-eb17-a89e68017529"
      },
      "execution_count": null,
      "outputs": [
        {
          "output_type": "execute_result",
          "data": {
            "text/plain": [
              "  Category                             title                       director  \\\n",
              "0    Movie              Dick Johnson Is Dead                Kirsten Johnson   \n",
              "2  TV Show                         Ganglands                Julien Leclercq   \n",
              "5  TV Show                     Midnight Mass                  Mike Flanagan   \n",
              "6    Movie  My Little Pony: A New Generation  Robert Cullen, José Luis Ucha   \n",
              "7    Movie                           Sankofa                   Haile Gerima   \n",
              "\n",
              "                                                cast  \\\n",
              "0                                                NaN   \n",
              "2  Sami Bouajila, Tracy Gotoas, Samuel Jouy, Nabi...   \n",
              "5  Kate Siegel, Zach Gilford, Hamish Linklater, H...   \n",
              "6  Vanessa Hudgens, Kimiko Glenn, James Marsden, ...   \n",
              "7  Kofi Ghanaba, Oyafunmike Ogunlano, Alexandra D...   \n",
              "\n",
              "                                             country  release_year rating  \\\n",
              "0                                      United States          2020  PG-13   \n",
              "2                                                NaN          2021  TV-MA   \n",
              "5                                                NaN          2021  TV-MA   \n",
              "6                                                NaN          2021     PG   \n",
              "7  United States, Ghana, Burkina Faso, United Kin...          1993  TV-MA   \n",
              "\n",
              "   duration                                              Genre  \n",
              "0    90 min                                      Documentaries  \n",
              "2  1 Season  Crime TV Shows, International TV Shows, TV Act...  \n",
              "5  1 Season                 TV Dramas, TV Horror, TV Mysteries  \n",
              "6    91 min                           Children & Family Movies  \n",
              "7   125 min   Dramas, Independent Movies, International Movies  "
            ],
            "text/html": [
              "\n",
              "  <div id=\"df-5f36cad5-b44b-4bde-bec8-e5edb5566e72\">\n",
              "    <div class=\"colab-df-container\">\n",
              "      <div>\n",
              "<style scoped>\n",
              "    .dataframe tbody tr th:only-of-type {\n",
              "        vertical-align: middle;\n",
              "    }\n",
              "\n",
              "    .dataframe tbody tr th {\n",
              "        vertical-align: top;\n",
              "    }\n",
              "\n",
              "    .dataframe thead th {\n",
              "        text-align: right;\n",
              "    }\n",
              "</style>\n",
              "<table border=\"1\" class=\"dataframe\">\n",
              "  <thead>\n",
              "    <tr style=\"text-align: right;\">\n",
              "      <th></th>\n",
              "      <th>Category</th>\n",
              "      <th>title</th>\n",
              "      <th>director</th>\n",
              "      <th>cast</th>\n",
              "      <th>country</th>\n",
              "      <th>release_year</th>\n",
              "      <th>rating</th>\n",
              "      <th>duration</th>\n",
              "      <th>Genre</th>\n",
              "    </tr>\n",
              "  </thead>\n",
              "  <tbody>\n",
              "    <tr>\n",
              "      <th>0</th>\n",
              "      <td>Movie</td>\n",
              "      <td>Dick Johnson Is Dead</td>\n",
              "      <td>Kirsten Johnson</td>\n",
              "      <td>NaN</td>\n",
              "      <td>United States</td>\n",
              "      <td>2020</td>\n",
              "      <td>PG-13</td>\n",
              "      <td>90 min</td>\n",
              "      <td>Documentaries</td>\n",
              "    </tr>\n",
              "    <tr>\n",
              "      <th>2</th>\n",
              "      <td>TV Show</td>\n",
              "      <td>Ganglands</td>\n",
              "      <td>Julien Leclercq</td>\n",
              "      <td>Sami Bouajila, Tracy Gotoas, Samuel Jouy, Nabi...</td>\n",
              "      <td>NaN</td>\n",
              "      <td>2021</td>\n",
              "      <td>TV-MA</td>\n",
              "      <td>1 Season</td>\n",
              "      <td>Crime TV Shows, International TV Shows, TV Act...</td>\n",
              "    </tr>\n",
              "    <tr>\n",
              "      <th>5</th>\n",
              "      <td>TV Show</td>\n",
              "      <td>Midnight Mass</td>\n",
              "      <td>Mike Flanagan</td>\n",
              "      <td>Kate Siegel, Zach Gilford, Hamish Linklater, H...</td>\n",
              "      <td>NaN</td>\n",
              "      <td>2021</td>\n",
              "      <td>TV-MA</td>\n",
              "      <td>1 Season</td>\n",
              "      <td>TV Dramas, TV Horror, TV Mysteries</td>\n",
              "    </tr>\n",
              "    <tr>\n",
              "      <th>6</th>\n",
              "      <td>Movie</td>\n",
              "      <td>My Little Pony: A New Generation</td>\n",
              "      <td>Robert Cullen, José Luis Ucha</td>\n",
              "      <td>Vanessa Hudgens, Kimiko Glenn, James Marsden, ...</td>\n",
              "      <td>NaN</td>\n",
              "      <td>2021</td>\n",
              "      <td>PG</td>\n",
              "      <td>91 min</td>\n",
              "      <td>Children &amp; Family Movies</td>\n",
              "    </tr>\n",
              "    <tr>\n",
              "      <th>7</th>\n",
              "      <td>Movie</td>\n",
              "      <td>Sankofa</td>\n",
              "      <td>Haile Gerima</td>\n",
              "      <td>Kofi Ghanaba, Oyafunmike Ogunlano, Alexandra D...</td>\n",
              "      <td>United States, Ghana, Burkina Faso, United Kin...</td>\n",
              "      <td>1993</td>\n",
              "      <td>TV-MA</td>\n",
              "      <td>125 min</td>\n",
              "      <td>Dramas, Independent Movies, International Movies</td>\n",
              "    </tr>\n",
              "  </tbody>\n",
              "</table>\n",
              "</div>\n",
              "      <button class=\"colab-df-convert\" onclick=\"convertToInteractive('df-5f36cad5-b44b-4bde-bec8-e5edb5566e72')\"\n",
              "              title=\"Convert this dataframe to an interactive table.\"\n",
              "              style=\"display:none;\">\n",
              "        \n",
              "  <svg xmlns=\"http://www.w3.org/2000/svg\" height=\"24px\"viewBox=\"0 0 24 24\"\n",
              "       width=\"24px\">\n",
              "    <path d=\"M0 0h24v24H0V0z\" fill=\"none\"/>\n",
              "    <path d=\"M18.56 5.44l.94 2.06.94-2.06 2.06-.94-2.06-.94-.94-2.06-.94 2.06-2.06.94zm-11 1L8.5 8.5l.94-2.06 2.06-.94-2.06-.94L8.5 2.5l-.94 2.06-2.06.94zm10 10l.94 2.06.94-2.06 2.06-.94-2.06-.94-.94-2.06-.94 2.06-2.06.94z\"/><path d=\"M17.41 7.96l-1.37-1.37c-.4-.4-.92-.59-1.43-.59-.52 0-1.04.2-1.43.59L10.3 9.45l-7.72 7.72c-.78.78-.78 2.05 0 2.83L4 21.41c.39.39.9.59 1.41.59.51 0 1.02-.2 1.41-.59l7.78-7.78 2.81-2.81c.8-.78.8-2.07 0-2.86zM5.41 20L4 18.59l7.72-7.72 1.47 1.35L5.41 20z\"/>\n",
              "  </svg>\n",
              "      </button>\n",
              "      \n",
              "  <style>\n",
              "    .colab-df-container {\n",
              "      display:flex;\n",
              "      flex-wrap:wrap;\n",
              "      gap: 12px;\n",
              "    }\n",
              "\n",
              "    .colab-df-convert {\n",
              "      background-color: #E8F0FE;\n",
              "      border: none;\n",
              "      border-radius: 50%;\n",
              "      cursor: pointer;\n",
              "      display: none;\n",
              "      fill: #1967D2;\n",
              "      height: 32px;\n",
              "      padding: 0 0 0 0;\n",
              "      width: 32px;\n",
              "    }\n",
              "\n",
              "    .colab-df-convert:hover {\n",
              "      background-color: #E2EBFA;\n",
              "      box-shadow: 0px 1px 2px rgba(60, 64, 67, 0.3), 0px 1px 3px 1px rgba(60, 64, 67, 0.15);\n",
              "      fill: #174EA6;\n",
              "    }\n",
              "\n",
              "    [theme=dark] .colab-df-convert {\n",
              "      background-color: #3B4455;\n",
              "      fill: #D2E3FC;\n",
              "    }\n",
              "\n",
              "    [theme=dark] .colab-df-convert:hover {\n",
              "      background-color: #434B5C;\n",
              "      box-shadow: 0px 1px 3px 1px rgba(0, 0, 0, 0.15);\n",
              "      filter: drop-shadow(0px 1px 2px rgba(0, 0, 0, 0.3));\n",
              "      fill: #FFFFFF;\n",
              "    }\n",
              "  </style>\n",
              "\n",
              "      <script>\n",
              "        const buttonEl =\n",
              "          document.querySelector('#df-5f36cad5-b44b-4bde-bec8-e5edb5566e72 button.colab-df-convert');\n",
              "        buttonEl.style.display =\n",
              "          google.colab.kernel.accessAllowed ? 'block' : 'none';\n",
              "\n",
              "        async function convertToInteractive(key) {\n",
              "          const element = document.querySelector('#df-5f36cad5-b44b-4bde-bec8-e5edb5566e72');\n",
              "          const dataTable =\n",
              "            await google.colab.kernel.invokeFunction('convertToInteractive',\n",
              "                                                     [key], {});\n",
              "          if (!dataTable) return;\n",
              "\n",
              "          const docLinkHtml = 'Like what you see? Visit the ' +\n",
              "            '<a target=\"_blank\" href=https://colab.research.google.com/notebooks/data_table.ipynb>data table notebook</a>'\n",
              "            + ' to learn more about interactive tables.';\n",
              "          element.innerHTML = '';\n",
              "          dataTable['output_type'] = 'display_data';\n",
              "          await google.colab.output.renderOutput(dataTable, element);\n",
              "          const docLink = document.createElement('div');\n",
              "          docLink.innerHTML = docLinkHtml;\n",
              "          element.appendChild(docLink);\n",
              "        }\n",
              "      </script>\n",
              "    </div>\n",
              "  </div>\n",
              "  "
            ]
          },
          "metadata": {},
          "execution_count": 52
        }
      ]
    },
    {
      "cell_type": "code",
      "source": [
        "netflix_movies_df.info()\n"
      ],
      "metadata": {
        "colab": {
          "base_uri": "https://localhost:8080/"
        },
        "id": "weEqNA-nHa7E",
        "outputId": "1a0486cb-7763-4010-8d9d-cbe249345b9e"
      },
      "execution_count": null,
      "outputs": [
        {
          "output_type": "stream",
          "name": "stdout",
          "text": [
            "<class 'pandas.core.frame.DataFrame'>\n",
            "Int64Index: 6173 entries, 0 to 8806\n",
            "Data columns (total 9 columns):\n",
            " #   Column        Non-Null Count  Dtype \n",
            "---  ------        --------------  ----- \n",
            " 0   Category      6173 non-null   object\n",
            " 1   title         6173 non-null   object\n",
            " 2   director      6173 non-null   object\n",
            " 3   cast          5700 non-null   object\n",
            " 4   country       5751 non-null   object\n",
            " 5   release_year  6173 non-null   int64 \n",
            " 6   rating        6172 non-null   object\n",
            " 7   duration      6170 non-null   object\n",
            " 8   Genre         6173 non-null   object\n",
            "dtypes: int64(1), object(8)\n",
            "memory usage: 482.3+ KB\n"
          ]
        }
      ]
    },
    {
      "cell_type": "markdown",
      "source": [
        "## Cleaning \"cast\" colmun"
      ],
      "metadata": {
        "id": "uon6rUZQImW9"
      }
    },
    {
      "cell_type": "code",
      "source": [
        "netflix_movies_df['cast'].isnull().sum()\n"
      ],
      "metadata": {
        "colab": {
          "base_uri": "https://localhost:8080/"
        },
        "id": "oHlv3dROJcER",
        "outputId": "993e0f12-fddd-438e-bfd4-0e261f2735f4"
      },
      "execution_count": null,
      "outputs": [
        {
          "output_type": "execute_result",
          "data": {
            "text/plain": [
              "473"
            ]
          },
          "metadata": {},
          "execution_count": 83
        }
      ]
    },
    {
      "cell_type": "code",
      "source": [
        "netflix_movies_df['cast'].notnull().sum()\n",
        "\n"
      ],
      "metadata": {
        "colab": {
          "base_uri": "https://localhost:8080/"
        },
        "id": "txVytzVZJczS",
        "outputId": "71ac89e4-6338-4e7f-e208-228d9235424b"
      },
      "execution_count": null,
      "outputs": [
        {
          "output_type": "execute_result",
          "data": {
            "text/plain": [
              "5700"
            ]
          },
          "metadata": {},
          "execution_count": 84
        }
      ]
    },
    {
      "cell_type": "code",
      "source": [
        "# filling null values with \"Unknown\"\n",
        "netflix_movies_df['cast'].fillna('Unknown', inplace=True)"
      ],
      "metadata": {
        "id": "IJD_ANw-JjYk"
      },
      "execution_count": null,
      "outputs": []
    },
    {
      "cell_type": "code",
      "source": [
        "netflix_movies_df['cast'].isnull().sum()\n"
      ],
      "metadata": {
        "colab": {
          "base_uri": "https://localhost:8080/"
        },
        "id": "pYooQHG5J4EC",
        "outputId": "902d87ea-a2b4-4777-f62c-0c781eb7a066"
      },
      "execution_count": null,
      "outputs": [
        {
          "output_type": "execute_result",
          "data": {
            "text/plain": [
              "0"
            ]
          },
          "metadata": {},
          "execution_count": 87
        }
      ]
    },
    {
      "cell_type": "code",
      "source": [
        "netflix_movies_df.head(5)\n"
      ],
      "metadata": {
        "colab": {
          "base_uri": "https://localhost:8080/",
          "height": 371
        },
        "id": "MNcg2g_IJ82r",
        "outputId": "9dbfbb99-d10b-4fd6-84b6-0257ca23b455"
      },
      "execution_count": null,
      "outputs": [
        {
          "output_type": "execute_result",
          "data": {
            "text/plain": [
              "  Category                             title                       director  \\\n",
              "0    Movie              Dick Johnson Is Dead                Kirsten Johnson   \n",
              "2  TV Show                         Ganglands                Julien Leclercq   \n",
              "5  TV Show                     Midnight Mass                  Mike Flanagan   \n",
              "6    Movie  My Little Pony: A New Generation  Robert Cullen, José Luis Ucha   \n",
              "7    Movie                           Sankofa                   Haile Gerima   \n",
              "\n",
              "                                                cast  \\\n",
              "0                                            Unknown   \n",
              "2  Sami Bouajila, Tracy Gotoas, Samuel Jouy, Nabi...   \n",
              "5  Kate Siegel, Zach Gilford, Hamish Linklater, H...   \n",
              "6  Vanessa Hudgens, Kimiko Glenn, James Marsden, ...   \n",
              "7  Kofi Ghanaba, Oyafunmike Ogunlano, Alexandra D...   \n",
              "\n",
              "                                             country  release_year rating  \\\n",
              "0                                      United States          2020  PG-13   \n",
              "2                                                NaN          2021  TV-MA   \n",
              "5                                                NaN          2021  TV-MA   \n",
              "6                                                NaN          2021     PG   \n",
              "7  United States, Ghana, Burkina Faso, United Kin...          1993  TV-MA   \n",
              "\n",
              "   duration                                              Genre  \n",
              "0    90 min                                      Documentaries  \n",
              "2  1 Season  Crime TV Shows, International TV Shows, TV Act...  \n",
              "5  1 Season                 TV Dramas, TV Horror, TV Mysteries  \n",
              "6    91 min                           Children & Family Movies  \n",
              "7   125 min   Dramas, Independent Movies, International Movies  "
            ],
            "text/html": [
              "\n",
              "  <div id=\"df-f4c3368b-0359-41b0-b3f8-591d42bc5e92\">\n",
              "    <div class=\"colab-df-container\">\n",
              "      <div>\n",
              "<style scoped>\n",
              "    .dataframe tbody tr th:only-of-type {\n",
              "        vertical-align: middle;\n",
              "    }\n",
              "\n",
              "    .dataframe tbody tr th {\n",
              "        vertical-align: top;\n",
              "    }\n",
              "\n",
              "    .dataframe thead th {\n",
              "        text-align: right;\n",
              "    }\n",
              "</style>\n",
              "<table border=\"1\" class=\"dataframe\">\n",
              "  <thead>\n",
              "    <tr style=\"text-align: right;\">\n",
              "      <th></th>\n",
              "      <th>Category</th>\n",
              "      <th>title</th>\n",
              "      <th>director</th>\n",
              "      <th>cast</th>\n",
              "      <th>country</th>\n",
              "      <th>release_year</th>\n",
              "      <th>rating</th>\n",
              "      <th>duration</th>\n",
              "      <th>Genre</th>\n",
              "    </tr>\n",
              "  </thead>\n",
              "  <tbody>\n",
              "    <tr>\n",
              "      <th>0</th>\n",
              "      <td>Movie</td>\n",
              "      <td>Dick Johnson Is Dead</td>\n",
              "      <td>Kirsten Johnson</td>\n",
              "      <td>Unknown</td>\n",
              "      <td>United States</td>\n",
              "      <td>2020</td>\n",
              "      <td>PG-13</td>\n",
              "      <td>90 min</td>\n",
              "      <td>Documentaries</td>\n",
              "    </tr>\n",
              "    <tr>\n",
              "      <th>2</th>\n",
              "      <td>TV Show</td>\n",
              "      <td>Ganglands</td>\n",
              "      <td>Julien Leclercq</td>\n",
              "      <td>Sami Bouajila, Tracy Gotoas, Samuel Jouy, Nabi...</td>\n",
              "      <td>NaN</td>\n",
              "      <td>2021</td>\n",
              "      <td>TV-MA</td>\n",
              "      <td>1 Season</td>\n",
              "      <td>Crime TV Shows, International TV Shows, TV Act...</td>\n",
              "    </tr>\n",
              "    <tr>\n",
              "      <th>5</th>\n",
              "      <td>TV Show</td>\n",
              "      <td>Midnight Mass</td>\n",
              "      <td>Mike Flanagan</td>\n",
              "      <td>Kate Siegel, Zach Gilford, Hamish Linklater, H...</td>\n",
              "      <td>NaN</td>\n",
              "      <td>2021</td>\n",
              "      <td>TV-MA</td>\n",
              "      <td>1 Season</td>\n",
              "      <td>TV Dramas, TV Horror, TV Mysteries</td>\n",
              "    </tr>\n",
              "    <tr>\n",
              "      <th>6</th>\n",
              "      <td>Movie</td>\n",
              "      <td>My Little Pony: A New Generation</td>\n",
              "      <td>Robert Cullen, José Luis Ucha</td>\n",
              "      <td>Vanessa Hudgens, Kimiko Glenn, James Marsden, ...</td>\n",
              "      <td>NaN</td>\n",
              "      <td>2021</td>\n",
              "      <td>PG</td>\n",
              "      <td>91 min</td>\n",
              "      <td>Children &amp; Family Movies</td>\n",
              "    </tr>\n",
              "    <tr>\n",
              "      <th>7</th>\n",
              "      <td>Movie</td>\n",
              "      <td>Sankofa</td>\n",
              "      <td>Haile Gerima</td>\n",
              "      <td>Kofi Ghanaba, Oyafunmike Ogunlano, Alexandra D...</td>\n",
              "      <td>United States, Ghana, Burkina Faso, United Kin...</td>\n",
              "      <td>1993</td>\n",
              "      <td>TV-MA</td>\n",
              "      <td>125 min</td>\n",
              "      <td>Dramas, Independent Movies, International Movies</td>\n",
              "    </tr>\n",
              "  </tbody>\n",
              "</table>\n",
              "</div>\n",
              "      <button class=\"colab-df-convert\" onclick=\"convertToInteractive('df-f4c3368b-0359-41b0-b3f8-591d42bc5e92')\"\n",
              "              title=\"Convert this dataframe to an interactive table.\"\n",
              "              style=\"display:none;\">\n",
              "        \n",
              "  <svg xmlns=\"http://www.w3.org/2000/svg\" height=\"24px\"viewBox=\"0 0 24 24\"\n",
              "       width=\"24px\">\n",
              "    <path d=\"M0 0h24v24H0V0z\" fill=\"none\"/>\n",
              "    <path d=\"M18.56 5.44l.94 2.06.94-2.06 2.06-.94-2.06-.94-.94-2.06-.94 2.06-2.06.94zm-11 1L8.5 8.5l.94-2.06 2.06-.94-2.06-.94L8.5 2.5l-.94 2.06-2.06.94zm10 10l.94 2.06.94-2.06 2.06-.94-2.06-.94-.94-2.06-.94 2.06-2.06.94z\"/><path d=\"M17.41 7.96l-1.37-1.37c-.4-.4-.92-.59-1.43-.59-.52 0-1.04.2-1.43.59L10.3 9.45l-7.72 7.72c-.78.78-.78 2.05 0 2.83L4 21.41c.39.39.9.59 1.41.59.51 0 1.02-.2 1.41-.59l7.78-7.78 2.81-2.81c.8-.78.8-2.07 0-2.86zM5.41 20L4 18.59l7.72-7.72 1.47 1.35L5.41 20z\"/>\n",
              "  </svg>\n",
              "      </button>\n",
              "      \n",
              "  <style>\n",
              "    .colab-df-container {\n",
              "      display:flex;\n",
              "      flex-wrap:wrap;\n",
              "      gap: 12px;\n",
              "    }\n",
              "\n",
              "    .colab-df-convert {\n",
              "      background-color: #E8F0FE;\n",
              "      border: none;\n",
              "      border-radius: 50%;\n",
              "      cursor: pointer;\n",
              "      display: none;\n",
              "      fill: #1967D2;\n",
              "      height: 32px;\n",
              "      padding: 0 0 0 0;\n",
              "      width: 32px;\n",
              "    }\n",
              "\n",
              "    .colab-df-convert:hover {\n",
              "      background-color: #E2EBFA;\n",
              "      box-shadow: 0px 1px 2px rgba(60, 64, 67, 0.3), 0px 1px 3px 1px rgba(60, 64, 67, 0.15);\n",
              "      fill: #174EA6;\n",
              "    }\n",
              "\n",
              "    [theme=dark] .colab-df-convert {\n",
              "      background-color: #3B4455;\n",
              "      fill: #D2E3FC;\n",
              "    }\n",
              "\n",
              "    [theme=dark] .colab-df-convert:hover {\n",
              "      background-color: #434B5C;\n",
              "      box-shadow: 0px 1px 3px 1px rgba(0, 0, 0, 0.15);\n",
              "      filter: drop-shadow(0px 1px 2px rgba(0, 0, 0, 0.3));\n",
              "      fill: #FFFFFF;\n",
              "    }\n",
              "  </style>\n",
              "\n",
              "      <script>\n",
              "        const buttonEl =\n",
              "          document.querySelector('#df-f4c3368b-0359-41b0-b3f8-591d42bc5e92 button.colab-df-convert');\n",
              "        buttonEl.style.display =\n",
              "          google.colab.kernel.accessAllowed ? 'block' : 'none';\n",
              "\n",
              "        async function convertToInteractive(key) {\n",
              "          const element = document.querySelector('#df-f4c3368b-0359-41b0-b3f8-591d42bc5e92');\n",
              "          const dataTable =\n",
              "            await google.colab.kernel.invokeFunction('convertToInteractive',\n",
              "                                                     [key], {});\n",
              "          if (!dataTable) return;\n",
              "\n",
              "          const docLinkHtml = 'Like what you see? Visit the ' +\n",
              "            '<a target=\"_blank\" href=https://colab.research.google.com/notebooks/data_table.ipynb>data table notebook</a>'\n",
              "            + ' to learn more about interactive tables.';\n",
              "          element.innerHTML = '';\n",
              "          dataTable['output_type'] = 'display_data';\n",
              "          await google.colab.output.renderOutput(dataTable, element);\n",
              "          const docLink = document.createElement('div');\n",
              "          docLink.innerHTML = docLinkHtml;\n",
              "          element.appendChild(docLink);\n",
              "        }\n",
              "      </script>\n",
              "    </div>\n",
              "  </div>\n",
              "  "
            ]
          },
          "metadata": {},
          "execution_count": 91
        }
      ]
    },
    {
      "cell_type": "markdown",
      "source": [
        "## Cleaning \"country\" colmun"
      ],
      "metadata": {
        "id": "Y3pyOx8OKSVs"
      }
    },
    {
      "cell_type": "code",
      "source": [
        "netflix_movies_df['country'].isnull().sum()\n"
      ],
      "metadata": {
        "colab": {
          "base_uri": "https://localhost:8080/"
        },
        "id": "li-av-iMKH3M",
        "outputId": "329c437b-6306-4097-ffb1-f11f779bc0ac"
      },
      "execution_count": null,
      "outputs": [
        {
          "output_type": "execute_result",
          "data": {
            "text/plain": [
              "422"
            ]
          },
          "metadata": {},
          "execution_count": 93
        }
      ]
    },
    {
      "cell_type": "code",
      "source": [
        "netflix_movies_df['country'].notnull().sum()\n"
      ],
      "metadata": {
        "colab": {
          "base_uri": "https://localhost:8080/"
        },
        "id": "0v8Hp_UjJc1r",
        "outputId": "3a852b6a-e1ff-4b15-cb16-d8535e6b2fc8"
      },
      "execution_count": null,
      "outputs": [
        {
          "output_type": "execute_result",
          "data": {
            "text/plain": [
              "5751"
            ]
          },
          "metadata": {},
          "execution_count": 94
        }
      ]
    },
    {
      "cell_type": "code",
      "source": [
        "# drop all null values \n",
        "netflix_movies_df.dropna(subset=['country'], inplace=True)\n"
      ],
      "metadata": {
        "id": "KseRbXvdJc4F"
      },
      "execution_count": null,
      "outputs": []
    },
    {
      "cell_type": "code",
      "source": [
        "netflix_movies_df.shape"
      ],
      "metadata": {
        "colab": {
          "base_uri": "https://localhost:8080/"
        },
        "id": "_qQQHSN4Jc6V",
        "outputId": "cc40ffb4-6fc3-46d9-a012-925832254cd5"
      },
      "execution_count": null,
      "outputs": [
        {
          "output_type": "execute_result",
          "data": {
            "text/plain": [
              "(5751, 9)"
            ]
          },
          "metadata": {},
          "execution_count": 96
        }
      ]
    },
    {
      "cell_type": "code",
      "source": [
        "netflix_movies_df.head()"
      ],
      "metadata": {
        "colab": {
          "base_uri": "https://localhost:8080/",
          "height": 389
        },
        "id": "KQjMUNnwJdM6",
        "outputId": "df8c7a87-83cc-4e03-a54a-333a36db11c3"
      },
      "execution_count": null,
      "outputs": [
        {
          "output_type": "execute_result",
          "data": {
            "text/plain": [
              "   Category                          title             director  \\\n",
              "0     Movie           Dick Johnson Is Dead      Kirsten Johnson   \n",
              "7     Movie                        Sankofa         Haile Gerima   \n",
              "8   TV Show  The Great British Baking Show      Andy Devonshire   \n",
              "9     Movie                   The Starling       Theodore Melfi   \n",
              "12    Movie                   Je Suis Karl  Christian Schwochow   \n",
              "\n",
              "                                                 cast  \\\n",
              "0                                             Unknown   \n",
              "7   Kofi Ghanaba, Oyafunmike Ogunlano, Alexandra D...   \n",
              "8   Mel Giedroyc, Sue Perkins, Mary Berry, Paul Ho...   \n",
              "9   Melissa McCarthy, Chris O'Dowd, Kevin Kline, T...   \n",
              "12  Luna Wedler, Jannis Niewöhner, Milan Peschel, ...   \n",
              "\n",
              "                                              country  release_year rating  \\\n",
              "0                                       United States          2020  PG-13   \n",
              "7   United States, Ghana, Burkina Faso, United Kin...          1993  TV-MA   \n",
              "8                                      United Kingdom          2021  TV-14   \n",
              "9                                       United States          2021  PG-13   \n",
              "12                            Germany, Czech Republic          2021  TV-MA   \n",
              "\n",
              "     duration                                             Genre  \n",
              "0      90 min                                     Documentaries  \n",
              "7     125 min  Dramas, Independent Movies, International Movies  \n",
              "8   9 Seasons                      British TV Shows, Reality TV  \n",
              "9     104 min                                  Comedies, Dramas  \n",
              "12    127 min                      Dramas, International Movies  "
            ],
            "text/html": [
              "\n",
              "  <div id=\"df-273355b3-fb15-49ca-9003-91e0bf3b8388\">\n",
              "    <div class=\"colab-df-container\">\n",
              "      <div>\n",
              "<style scoped>\n",
              "    .dataframe tbody tr th:only-of-type {\n",
              "        vertical-align: middle;\n",
              "    }\n",
              "\n",
              "    .dataframe tbody tr th {\n",
              "        vertical-align: top;\n",
              "    }\n",
              "\n",
              "    .dataframe thead th {\n",
              "        text-align: right;\n",
              "    }\n",
              "</style>\n",
              "<table border=\"1\" class=\"dataframe\">\n",
              "  <thead>\n",
              "    <tr style=\"text-align: right;\">\n",
              "      <th></th>\n",
              "      <th>Category</th>\n",
              "      <th>title</th>\n",
              "      <th>director</th>\n",
              "      <th>cast</th>\n",
              "      <th>country</th>\n",
              "      <th>release_year</th>\n",
              "      <th>rating</th>\n",
              "      <th>duration</th>\n",
              "      <th>Genre</th>\n",
              "    </tr>\n",
              "  </thead>\n",
              "  <tbody>\n",
              "    <tr>\n",
              "      <th>0</th>\n",
              "      <td>Movie</td>\n",
              "      <td>Dick Johnson Is Dead</td>\n",
              "      <td>Kirsten Johnson</td>\n",
              "      <td>Unknown</td>\n",
              "      <td>United States</td>\n",
              "      <td>2020</td>\n",
              "      <td>PG-13</td>\n",
              "      <td>90 min</td>\n",
              "      <td>Documentaries</td>\n",
              "    </tr>\n",
              "    <tr>\n",
              "      <th>7</th>\n",
              "      <td>Movie</td>\n",
              "      <td>Sankofa</td>\n",
              "      <td>Haile Gerima</td>\n",
              "      <td>Kofi Ghanaba, Oyafunmike Ogunlano, Alexandra D...</td>\n",
              "      <td>United States, Ghana, Burkina Faso, United Kin...</td>\n",
              "      <td>1993</td>\n",
              "      <td>TV-MA</td>\n",
              "      <td>125 min</td>\n",
              "      <td>Dramas, Independent Movies, International Movies</td>\n",
              "    </tr>\n",
              "    <tr>\n",
              "      <th>8</th>\n",
              "      <td>TV Show</td>\n",
              "      <td>The Great British Baking Show</td>\n",
              "      <td>Andy Devonshire</td>\n",
              "      <td>Mel Giedroyc, Sue Perkins, Mary Berry, Paul Ho...</td>\n",
              "      <td>United Kingdom</td>\n",
              "      <td>2021</td>\n",
              "      <td>TV-14</td>\n",
              "      <td>9 Seasons</td>\n",
              "      <td>British TV Shows, Reality TV</td>\n",
              "    </tr>\n",
              "    <tr>\n",
              "      <th>9</th>\n",
              "      <td>Movie</td>\n",
              "      <td>The Starling</td>\n",
              "      <td>Theodore Melfi</td>\n",
              "      <td>Melissa McCarthy, Chris O'Dowd, Kevin Kline, T...</td>\n",
              "      <td>United States</td>\n",
              "      <td>2021</td>\n",
              "      <td>PG-13</td>\n",
              "      <td>104 min</td>\n",
              "      <td>Comedies, Dramas</td>\n",
              "    </tr>\n",
              "    <tr>\n",
              "      <th>12</th>\n",
              "      <td>Movie</td>\n",
              "      <td>Je Suis Karl</td>\n",
              "      <td>Christian Schwochow</td>\n",
              "      <td>Luna Wedler, Jannis Niewöhner, Milan Peschel, ...</td>\n",
              "      <td>Germany, Czech Republic</td>\n",
              "      <td>2021</td>\n",
              "      <td>TV-MA</td>\n",
              "      <td>127 min</td>\n",
              "      <td>Dramas, International Movies</td>\n",
              "    </tr>\n",
              "  </tbody>\n",
              "</table>\n",
              "</div>\n",
              "      <button class=\"colab-df-convert\" onclick=\"convertToInteractive('df-273355b3-fb15-49ca-9003-91e0bf3b8388')\"\n",
              "              title=\"Convert this dataframe to an interactive table.\"\n",
              "              style=\"display:none;\">\n",
              "        \n",
              "  <svg xmlns=\"http://www.w3.org/2000/svg\" height=\"24px\"viewBox=\"0 0 24 24\"\n",
              "       width=\"24px\">\n",
              "    <path d=\"M0 0h24v24H0V0z\" fill=\"none\"/>\n",
              "    <path d=\"M18.56 5.44l.94 2.06.94-2.06 2.06-.94-2.06-.94-.94-2.06-.94 2.06-2.06.94zm-11 1L8.5 8.5l.94-2.06 2.06-.94-2.06-.94L8.5 2.5l-.94 2.06-2.06.94zm10 10l.94 2.06.94-2.06 2.06-.94-2.06-.94-.94-2.06-.94 2.06-2.06.94z\"/><path d=\"M17.41 7.96l-1.37-1.37c-.4-.4-.92-.59-1.43-.59-.52 0-1.04.2-1.43.59L10.3 9.45l-7.72 7.72c-.78.78-.78 2.05 0 2.83L4 21.41c.39.39.9.59 1.41.59.51 0 1.02-.2 1.41-.59l7.78-7.78 2.81-2.81c.8-.78.8-2.07 0-2.86zM5.41 20L4 18.59l7.72-7.72 1.47 1.35L5.41 20z\"/>\n",
              "  </svg>\n",
              "      </button>\n",
              "      \n",
              "  <style>\n",
              "    .colab-df-container {\n",
              "      display:flex;\n",
              "      flex-wrap:wrap;\n",
              "      gap: 12px;\n",
              "    }\n",
              "\n",
              "    .colab-df-convert {\n",
              "      background-color: #E8F0FE;\n",
              "      border: none;\n",
              "      border-radius: 50%;\n",
              "      cursor: pointer;\n",
              "      display: none;\n",
              "      fill: #1967D2;\n",
              "      height: 32px;\n",
              "      padding: 0 0 0 0;\n",
              "      width: 32px;\n",
              "    }\n",
              "\n",
              "    .colab-df-convert:hover {\n",
              "      background-color: #E2EBFA;\n",
              "      box-shadow: 0px 1px 2px rgba(60, 64, 67, 0.3), 0px 1px 3px 1px rgba(60, 64, 67, 0.15);\n",
              "      fill: #174EA6;\n",
              "    }\n",
              "\n",
              "    [theme=dark] .colab-df-convert {\n",
              "      background-color: #3B4455;\n",
              "      fill: #D2E3FC;\n",
              "    }\n",
              "\n",
              "    [theme=dark] .colab-df-convert:hover {\n",
              "      background-color: #434B5C;\n",
              "      box-shadow: 0px 1px 3px 1px rgba(0, 0, 0, 0.15);\n",
              "      filter: drop-shadow(0px 1px 2px rgba(0, 0, 0, 0.3));\n",
              "      fill: #FFFFFF;\n",
              "    }\n",
              "  </style>\n",
              "\n",
              "      <script>\n",
              "        const buttonEl =\n",
              "          document.querySelector('#df-273355b3-fb15-49ca-9003-91e0bf3b8388 button.colab-df-convert');\n",
              "        buttonEl.style.display =\n",
              "          google.colab.kernel.accessAllowed ? 'block' : 'none';\n",
              "\n",
              "        async function convertToInteractive(key) {\n",
              "          const element = document.querySelector('#df-273355b3-fb15-49ca-9003-91e0bf3b8388');\n",
              "          const dataTable =\n",
              "            await google.colab.kernel.invokeFunction('convertToInteractive',\n",
              "                                                     [key], {});\n",
              "          if (!dataTable) return;\n",
              "\n",
              "          const docLinkHtml = 'Like what you see? Visit the ' +\n",
              "            '<a target=\"_blank\" href=https://colab.research.google.com/notebooks/data_table.ipynb>data table notebook</a>'\n",
              "            + ' to learn more about interactive tables.';\n",
              "          element.innerHTML = '';\n",
              "          dataTable['output_type'] = 'display_data';\n",
              "          await google.colab.output.renderOutput(dataTable, element);\n",
              "          const docLink = document.createElement('div');\n",
              "          docLink.innerHTML = docLinkHtml;\n",
              "          element.appendChild(docLink);\n",
              "        }\n",
              "      </script>\n",
              "    </div>\n",
              "  </div>\n",
              "  "
            ]
          },
          "metadata": {},
          "execution_count": 97
        }
      ]
    },
    {
      "cell_type": "markdown",
      "source": [
        "## Cleaning \"rating\" colmun"
      ],
      "metadata": {
        "id": "S-hExJuBNyp6"
      }
    },
    {
      "cell_type": "code",
      "source": [
        "netflix_movies_df['rating'].isnull().sum()\n"
      ],
      "metadata": {
        "colab": {
          "base_uri": "https://localhost:8080/"
        },
        "id": "S6nFEaDiJdPe",
        "outputId": "00dd651b-f429-4dc3-c785-82d797e68170"
      },
      "execution_count": null,
      "outputs": [
        {
          "output_type": "execute_result",
          "data": {
            "text/plain": [
              "1"
            ]
          },
          "metadata": {},
          "execution_count": 98
        }
      ]
    },
    {
      "cell_type": "code",
      "source": [
        "netflix_movies_df[netflix_movies_df['rating'].isna()]\n"
      ],
      "metadata": {
        "colab": {
          "base_uri": "https://localhost:8080/",
          "height": 461
        },
        "id": "ZhWKcfIAiyjw",
        "outputId": "5c8d1a76-c309-45ae-dd4f-808441be9d9f"
      },
      "execution_count": null,
      "outputs": [
        {
          "output_type": "execute_result",
          "data": {
            "text/plain": [
              "     show_id     type                                              title  \\\n",
              "5989   s5990    Movie  13TH: A Conversation with Oprah Winfrey & Ava ...   \n",
              "6827   s6828  TV Show                  Gargantia on the Verdurous Planet   \n",
              "7312   s7313  TV Show                                       Little Lunch   \n",
              "7537   s7538    Movie                               My Honor Was Loyalty   \n",
              "\n",
              "             director                                               cast  \\\n",
              "5989              NaN                        Oprah Winfrey, Ava DuVernay   \n",
              "6827              NaN  Kaito Ishikawa, Hisako Kanemoto, Ai Kayano, Ka...   \n",
              "7312              NaN  Flynn Curry, Olivia Deeble, Madison Lu, Oisín ...   \n",
              "7537  Alessandro Pepe  Leone Frisa, Paolo Vaccarino, Francesco Miglio...   \n",
              "\n",
              "        country        date_added  release_year rating  duration  \\\n",
              "5989        NaN  January 26, 2017          2017    NaN    37 min   \n",
              "6827      Japan  December 1, 2016          2013    NaN  1 Season   \n",
              "7312  Australia  February 1, 2018          2015    NaN  1 Season   \n",
              "7537      Italy     March 1, 2017          2015    NaN   115 min   \n",
              "\n",
              "                                 listed_in  \\\n",
              "5989                                Movies   \n",
              "6827  Anime Series, International TV Shows   \n",
              "7312                 Kids' TV, TV Comedies   \n",
              "7537                                Dramas   \n",
              "\n",
              "                                            description  \n",
              "5989  Oprah Winfrey sits down with director Ava DuVe...  \n",
              "6827  After falling through a wormhole, a space-dwel...  \n",
              "7312  Adopting a child's perspective, this show take...  \n",
              "7537  Amid the chaos and horror of World War II, a c...  "
            ],
            "text/html": [
              "\n",
              "  <div id=\"df-d1a71651-1728-4af9-a724-ecc6ed8a8d15\">\n",
              "    <div class=\"colab-df-container\">\n",
              "      <div>\n",
              "<style scoped>\n",
              "    .dataframe tbody tr th:only-of-type {\n",
              "        vertical-align: middle;\n",
              "    }\n",
              "\n",
              "    .dataframe tbody tr th {\n",
              "        vertical-align: top;\n",
              "    }\n",
              "\n",
              "    .dataframe thead th {\n",
              "        text-align: right;\n",
              "    }\n",
              "</style>\n",
              "<table border=\"1\" class=\"dataframe\">\n",
              "  <thead>\n",
              "    <tr style=\"text-align: right;\">\n",
              "      <th></th>\n",
              "      <th>show_id</th>\n",
              "      <th>type</th>\n",
              "      <th>title</th>\n",
              "      <th>director</th>\n",
              "      <th>cast</th>\n",
              "      <th>country</th>\n",
              "      <th>date_added</th>\n",
              "      <th>release_year</th>\n",
              "      <th>rating</th>\n",
              "      <th>duration</th>\n",
              "      <th>listed_in</th>\n",
              "      <th>description</th>\n",
              "    </tr>\n",
              "  </thead>\n",
              "  <tbody>\n",
              "    <tr>\n",
              "      <th>5989</th>\n",
              "      <td>s5990</td>\n",
              "      <td>Movie</td>\n",
              "      <td>13TH: A Conversation with Oprah Winfrey &amp; Ava ...</td>\n",
              "      <td>NaN</td>\n",
              "      <td>Oprah Winfrey, Ava DuVernay</td>\n",
              "      <td>NaN</td>\n",
              "      <td>January 26, 2017</td>\n",
              "      <td>2017</td>\n",
              "      <td>NaN</td>\n",
              "      <td>37 min</td>\n",
              "      <td>Movies</td>\n",
              "      <td>Oprah Winfrey sits down with director Ava DuVe...</td>\n",
              "    </tr>\n",
              "    <tr>\n",
              "      <th>6827</th>\n",
              "      <td>s6828</td>\n",
              "      <td>TV Show</td>\n",
              "      <td>Gargantia on the Verdurous Planet</td>\n",
              "      <td>NaN</td>\n",
              "      <td>Kaito Ishikawa, Hisako Kanemoto, Ai Kayano, Ka...</td>\n",
              "      <td>Japan</td>\n",
              "      <td>December 1, 2016</td>\n",
              "      <td>2013</td>\n",
              "      <td>NaN</td>\n",
              "      <td>1 Season</td>\n",
              "      <td>Anime Series, International TV Shows</td>\n",
              "      <td>After falling through a wormhole, a space-dwel...</td>\n",
              "    </tr>\n",
              "    <tr>\n",
              "      <th>7312</th>\n",
              "      <td>s7313</td>\n",
              "      <td>TV Show</td>\n",
              "      <td>Little Lunch</td>\n",
              "      <td>NaN</td>\n",
              "      <td>Flynn Curry, Olivia Deeble, Madison Lu, Oisín ...</td>\n",
              "      <td>Australia</td>\n",
              "      <td>February 1, 2018</td>\n",
              "      <td>2015</td>\n",
              "      <td>NaN</td>\n",
              "      <td>1 Season</td>\n",
              "      <td>Kids' TV, TV Comedies</td>\n",
              "      <td>Adopting a child's perspective, this show take...</td>\n",
              "    </tr>\n",
              "    <tr>\n",
              "      <th>7537</th>\n",
              "      <td>s7538</td>\n",
              "      <td>Movie</td>\n",
              "      <td>My Honor Was Loyalty</td>\n",
              "      <td>Alessandro Pepe</td>\n",
              "      <td>Leone Frisa, Paolo Vaccarino, Francesco Miglio...</td>\n",
              "      <td>Italy</td>\n",
              "      <td>March 1, 2017</td>\n",
              "      <td>2015</td>\n",
              "      <td>NaN</td>\n",
              "      <td>115 min</td>\n",
              "      <td>Dramas</td>\n",
              "      <td>Amid the chaos and horror of World War II, a c...</td>\n",
              "    </tr>\n",
              "  </tbody>\n",
              "</table>\n",
              "</div>\n",
              "      <button class=\"colab-df-convert\" onclick=\"convertToInteractive('df-d1a71651-1728-4af9-a724-ecc6ed8a8d15')\"\n",
              "              title=\"Convert this dataframe to an interactive table.\"\n",
              "              style=\"display:none;\">\n",
              "        \n",
              "  <svg xmlns=\"http://www.w3.org/2000/svg\" height=\"24px\"viewBox=\"0 0 24 24\"\n",
              "       width=\"24px\">\n",
              "    <path d=\"M0 0h24v24H0V0z\" fill=\"none\"/>\n",
              "    <path d=\"M18.56 5.44l.94 2.06.94-2.06 2.06-.94-2.06-.94-.94-2.06-.94 2.06-2.06.94zm-11 1L8.5 8.5l.94-2.06 2.06-.94-2.06-.94L8.5 2.5l-.94 2.06-2.06.94zm10 10l.94 2.06.94-2.06 2.06-.94-2.06-.94-.94-2.06-.94 2.06-2.06.94z\"/><path d=\"M17.41 7.96l-1.37-1.37c-.4-.4-.92-.59-1.43-.59-.52 0-1.04.2-1.43.59L10.3 9.45l-7.72 7.72c-.78.78-.78 2.05 0 2.83L4 21.41c.39.39.9.59 1.41.59.51 0 1.02-.2 1.41-.59l7.78-7.78 2.81-2.81c.8-.78.8-2.07 0-2.86zM5.41 20L4 18.59l7.72-7.72 1.47 1.35L5.41 20z\"/>\n",
              "  </svg>\n",
              "      </button>\n",
              "      \n",
              "  <style>\n",
              "    .colab-df-container {\n",
              "      display:flex;\n",
              "      flex-wrap:wrap;\n",
              "      gap: 12px;\n",
              "    }\n",
              "\n",
              "    .colab-df-convert {\n",
              "      background-color: #E8F0FE;\n",
              "      border: none;\n",
              "      border-radius: 50%;\n",
              "      cursor: pointer;\n",
              "      display: none;\n",
              "      fill: #1967D2;\n",
              "      height: 32px;\n",
              "      padding: 0 0 0 0;\n",
              "      width: 32px;\n",
              "    }\n",
              "\n",
              "    .colab-df-convert:hover {\n",
              "      background-color: #E2EBFA;\n",
              "      box-shadow: 0px 1px 2px rgba(60, 64, 67, 0.3), 0px 1px 3px 1px rgba(60, 64, 67, 0.15);\n",
              "      fill: #174EA6;\n",
              "    }\n",
              "\n",
              "    [theme=dark] .colab-df-convert {\n",
              "      background-color: #3B4455;\n",
              "      fill: #D2E3FC;\n",
              "    }\n",
              "\n",
              "    [theme=dark] .colab-df-convert:hover {\n",
              "      background-color: #434B5C;\n",
              "      box-shadow: 0px 1px 3px 1px rgba(0, 0, 0, 0.15);\n",
              "      filter: drop-shadow(0px 1px 2px rgba(0, 0, 0, 0.3));\n",
              "      fill: #FFFFFF;\n",
              "    }\n",
              "  </style>\n",
              "\n",
              "      <script>\n",
              "        const buttonEl =\n",
              "          document.querySelector('#df-d1a71651-1728-4af9-a724-ecc6ed8a8d15 button.colab-df-convert');\n",
              "        buttonEl.style.display =\n",
              "          google.colab.kernel.accessAllowed ? 'block' : 'none';\n",
              "\n",
              "        async function convertToInteractive(key) {\n",
              "          const element = document.querySelector('#df-d1a71651-1728-4af9-a724-ecc6ed8a8d15');\n",
              "          const dataTable =\n",
              "            await google.colab.kernel.invokeFunction('convertToInteractive',\n",
              "                                                     [key], {});\n",
              "          if (!dataTable) return;\n",
              "\n",
              "          const docLinkHtml = 'Like what you see? Visit the ' +\n",
              "            '<a target=\"_blank\" href=https://colab.research.google.com/notebooks/data_table.ipynb>data table notebook</a>'\n",
              "            + ' to learn more about interactive tables.';\n",
              "          element.innerHTML = '';\n",
              "          dataTable['output_type'] = 'display_data';\n",
              "          await google.colab.output.renderOutput(dataTable, element);\n",
              "          const docLink = document.createElement('div');\n",
              "          docLink.innerHTML = docLinkHtml;\n",
              "          element.appendChild(docLink);\n",
              "        }\n",
              "      </script>\n",
              "    </div>\n",
              "  </div>\n",
              "  "
            ]
          },
          "metadata": {},
          "execution_count": 17
        }
      ]
    },
    {
      "cell_type": "code",
      "source": [
        "netflix_movies_df.dropna(subset=['rating'], inplace=True)\n"
      ],
      "metadata": {
        "id": "kRPwAEJaJdRX"
      },
      "execution_count": null,
      "outputs": []
    },
    {
      "cell_type": "markdown",
      "source": [
        "## Cleaning \"duration\" colmun"
      ],
      "metadata": {
        "id": "aHI8R-hEODoj"
      }
    },
    {
      "cell_type": "code",
      "source": [
        "netflix_movies_df['duration'].isnull().sum()\n"
      ],
      "metadata": {
        "colab": {
          "base_uri": "https://localhost:8080/"
        },
        "id": "M_wfwu_VN-vC",
        "outputId": "863e7817-d44d-4eed-aee1-ed6b3b085eb0"
      },
      "execution_count": null,
      "outputs": [
        {
          "output_type": "execute_result",
          "data": {
            "text/plain": [
              "3"
            ]
          },
          "metadata": {},
          "execution_count": 101
        }
      ]
    },
    {
      "cell_type": "code",
      "source": [
        "netflix_movies_df[netflix_movies_df['duration'].isna()]\n"
      ],
      "metadata": {
        "id": "73IuS4qDNaTO",
        "outputId": "7efdcf46-7a46-4f45-996c-267905d43e2e",
        "colab": {
          "base_uri": "https://localhost:8080/",
          "height": 257
        }
      },
      "execution_count": 4,
      "outputs": [
        {
          "output_type": "execute_result",
          "data": {
            "text/plain": [
              "     show_id   type                                 title    director  \\\n",
              "5541   s5542  Movie                       Louis C.K. 2017  Louis C.K.   \n",
              "5794   s5795  Movie                 Louis C.K.: Hilarious  Louis C.K.   \n",
              "5813   s5814  Movie  Louis C.K.: Live at the Comedy Store  Louis C.K.   \n",
              "\n",
              "            cast        country          date_added  release_year  rating  \\\n",
              "5541  Louis C.K.  United States       April 4, 2017          2017  74 min   \n",
              "5794  Louis C.K.  United States  September 16, 2016          2010  84 min   \n",
              "5813  Louis C.K.  United States     August 15, 2016          2015  66 min   \n",
              "\n",
              "     duration listed_in                                        description  \n",
              "5541      NaN    Movies  Louis C.K. muses on religion, eternal love, gi...  \n",
              "5794      NaN    Movies  Emmy-winning comedy writer Louis C.K. brings h...  \n",
              "5813      NaN    Movies  The comic puts his trademark hilarious/thought...  "
            ],
            "text/html": [
              "\n",
              "  <div id=\"df-95eb4ff5-1020-4aa6-85e7-cfb72a4198d4\">\n",
              "    <div class=\"colab-df-container\">\n",
              "      <div>\n",
              "<style scoped>\n",
              "    .dataframe tbody tr th:only-of-type {\n",
              "        vertical-align: middle;\n",
              "    }\n",
              "\n",
              "    .dataframe tbody tr th {\n",
              "        vertical-align: top;\n",
              "    }\n",
              "\n",
              "    .dataframe thead th {\n",
              "        text-align: right;\n",
              "    }\n",
              "</style>\n",
              "<table border=\"1\" class=\"dataframe\">\n",
              "  <thead>\n",
              "    <tr style=\"text-align: right;\">\n",
              "      <th></th>\n",
              "      <th>show_id</th>\n",
              "      <th>type</th>\n",
              "      <th>title</th>\n",
              "      <th>director</th>\n",
              "      <th>cast</th>\n",
              "      <th>country</th>\n",
              "      <th>date_added</th>\n",
              "      <th>release_year</th>\n",
              "      <th>rating</th>\n",
              "      <th>duration</th>\n",
              "      <th>listed_in</th>\n",
              "      <th>description</th>\n",
              "    </tr>\n",
              "  </thead>\n",
              "  <tbody>\n",
              "    <tr>\n",
              "      <th>5541</th>\n",
              "      <td>s5542</td>\n",
              "      <td>Movie</td>\n",
              "      <td>Louis C.K. 2017</td>\n",
              "      <td>Louis C.K.</td>\n",
              "      <td>Louis C.K.</td>\n",
              "      <td>United States</td>\n",
              "      <td>April 4, 2017</td>\n",
              "      <td>2017</td>\n",
              "      <td>74 min</td>\n",
              "      <td>NaN</td>\n",
              "      <td>Movies</td>\n",
              "      <td>Louis C.K. muses on religion, eternal love, gi...</td>\n",
              "    </tr>\n",
              "    <tr>\n",
              "      <th>5794</th>\n",
              "      <td>s5795</td>\n",
              "      <td>Movie</td>\n",
              "      <td>Louis C.K.: Hilarious</td>\n",
              "      <td>Louis C.K.</td>\n",
              "      <td>Louis C.K.</td>\n",
              "      <td>United States</td>\n",
              "      <td>September 16, 2016</td>\n",
              "      <td>2010</td>\n",
              "      <td>84 min</td>\n",
              "      <td>NaN</td>\n",
              "      <td>Movies</td>\n",
              "      <td>Emmy-winning comedy writer Louis C.K. brings h...</td>\n",
              "    </tr>\n",
              "    <tr>\n",
              "      <th>5813</th>\n",
              "      <td>s5814</td>\n",
              "      <td>Movie</td>\n",
              "      <td>Louis C.K.: Live at the Comedy Store</td>\n",
              "      <td>Louis C.K.</td>\n",
              "      <td>Louis C.K.</td>\n",
              "      <td>United States</td>\n",
              "      <td>August 15, 2016</td>\n",
              "      <td>2015</td>\n",
              "      <td>66 min</td>\n",
              "      <td>NaN</td>\n",
              "      <td>Movies</td>\n",
              "      <td>The comic puts his trademark hilarious/thought...</td>\n",
              "    </tr>\n",
              "  </tbody>\n",
              "</table>\n",
              "</div>\n",
              "      <button class=\"colab-df-convert\" onclick=\"convertToInteractive('df-95eb4ff5-1020-4aa6-85e7-cfb72a4198d4')\"\n",
              "              title=\"Convert this dataframe to an interactive table.\"\n",
              "              style=\"display:none;\">\n",
              "        \n",
              "  <svg xmlns=\"http://www.w3.org/2000/svg\" height=\"24px\"viewBox=\"0 0 24 24\"\n",
              "       width=\"24px\">\n",
              "    <path d=\"M0 0h24v24H0V0z\" fill=\"none\"/>\n",
              "    <path d=\"M18.56 5.44l.94 2.06.94-2.06 2.06-.94-2.06-.94-.94-2.06-.94 2.06-2.06.94zm-11 1L8.5 8.5l.94-2.06 2.06-.94-2.06-.94L8.5 2.5l-.94 2.06-2.06.94zm10 10l.94 2.06.94-2.06 2.06-.94-2.06-.94-.94-2.06-.94 2.06-2.06.94z\"/><path d=\"M17.41 7.96l-1.37-1.37c-.4-.4-.92-.59-1.43-.59-.52 0-1.04.2-1.43.59L10.3 9.45l-7.72 7.72c-.78.78-.78 2.05 0 2.83L4 21.41c.39.39.9.59 1.41.59.51 0 1.02-.2 1.41-.59l7.78-7.78 2.81-2.81c.8-.78.8-2.07 0-2.86zM5.41 20L4 18.59l7.72-7.72 1.47 1.35L5.41 20z\"/>\n",
              "  </svg>\n",
              "      </button>\n",
              "      \n",
              "  <style>\n",
              "    .colab-df-container {\n",
              "      display:flex;\n",
              "      flex-wrap:wrap;\n",
              "      gap: 12px;\n",
              "    }\n",
              "\n",
              "    .colab-df-convert {\n",
              "      background-color: #E8F0FE;\n",
              "      border: none;\n",
              "      border-radius: 50%;\n",
              "      cursor: pointer;\n",
              "      display: none;\n",
              "      fill: #1967D2;\n",
              "      height: 32px;\n",
              "      padding: 0 0 0 0;\n",
              "      width: 32px;\n",
              "    }\n",
              "\n",
              "    .colab-df-convert:hover {\n",
              "      background-color: #E2EBFA;\n",
              "      box-shadow: 0px 1px 2px rgba(60, 64, 67, 0.3), 0px 1px 3px 1px rgba(60, 64, 67, 0.15);\n",
              "      fill: #174EA6;\n",
              "    }\n",
              "\n",
              "    [theme=dark] .colab-df-convert {\n",
              "      background-color: #3B4455;\n",
              "      fill: #D2E3FC;\n",
              "    }\n",
              "\n",
              "    [theme=dark] .colab-df-convert:hover {\n",
              "      background-color: #434B5C;\n",
              "      box-shadow: 0px 1px 3px 1px rgba(0, 0, 0, 0.15);\n",
              "      filter: drop-shadow(0px 1px 2px rgba(0, 0, 0, 0.3));\n",
              "      fill: #FFFFFF;\n",
              "    }\n",
              "  </style>\n",
              "\n",
              "      <script>\n",
              "        const buttonEl =\n",
              "          document.querySelector('#df-95eb4ff5-1020-4aa6-85e7-cfb72a4198d4 button.colab-df-convert');\n",
              "        buttonEl.style.display =\n",
              "          google.colab.kernel.accessAllowed ? 'block' : 'none';\n",
              "\n",
              "        async function convertToInteractive(key) {\n",
              "          const element = document.querySelector('#df-95eb4ff5-1020-4aa6-85e7-cfb72a4198d4');\n",
              "          const dataTable =\n",
              "            await google.colab.kernel.invokeFunction('convertToInteractive',\n",
              "                                                     [key], {});\n",
              "          if (!dataTable) return;\n",
              "\n",
              "          const docLinkHtml = 'Like what you see? Visit the ' +\n",
              "            '<a target=\"_blank\" href=https://colab.research.google.com/notebooks/data_table.ipynb>data table notebook</a>'\n",
              "            + ' to learn more about interactive tables.';\n",
              "          element.innerHTML = '';\n",
              "          dataTable['output_type'] = 'display_data';\n",
              "          await google.colab.output.renderOutput(dataTable, element);\n",
              "          const docLink = document.createElement('div');\n",
              "          docLink.innerHTML = docLinkHtml;\n",
              "          element.appendChild(docLink);\n",
              "        }\n",
              "      </script>\n",
              "    </div>\n",
              "  </div>\n",
              "  "
            ]
          },
          "metadata": {},
          "execution_count": 4
        }
      ]
    },
    {
      "cell_type": "code",
      "source": [
        "netflix_movies_df.dropna(subset=['duration'], inplace=True)\n"
      ],
      "metadata": {
        "id": "cohhN0n3OI92"
      },
      "execution_count": null,
      "outputs": []
    },
    {
      "cell_type": "code",
      "source": [
        "netflix_movies_df.shape\n"
      ],
      "metadata": {
        "colab": {
          "base_uri": "https://localhost:8080/"
        },
        "id": "i0JOX4cIN-xE",
        "outputId": "d4b07c72-953b-40c1-acb3-3f5f565c06d0"
      },
      "execution_count": null,
      "outputs": [
        {
          "output_type": "execute_result",
          "data": {
            "text/plain": [
              "(5747, 9)"
            ]
          },
          "metadata": {},
          "execution_count": 103
        }
      ]
    },
    {
      "cell_type": "markdown",
      "source": [
        "## Result of Cleaning"
      ],
      "metadata": {
        "id": "R58sbnfkf6Wt"
      }
    },
    {
      "cell_type": "code",
      "source": [
        "sns.heatmap(netflix_movies_df.isnull(), cmap='viridis')\n",
        "plt.title('Missing Values Heatmap')\n",
        "plt.show()\n"
      ],
      "metadata": {
        "colab": {
          "base_uri": "https://localhost:8080/",
          "height": 335
        },
        "id": "FNUf_qGGcv3v",
        "outputId": "e5b3f1bc-a83d-4159-dde3-e5e1eaddbec7"
      },
      "execution_count": null,
      "outputs": [
        {
          "output_type": "display_data",
          "data": {
            "text/plain": [
              "<Figure size 432x288 with 2 Axes>"
            ],
            "image/png": "[encoded data removed]"
          },
          "metadata": {
            "needs_background": "light"
          }
        }
      ]
    },
    {
      "cell_type": "code",
      "source": [
        "netflix_movies_df.isnull().sum()\n"
      ],
      "metadata": {
        "colab": {
          "base_uri": "https://localhost:8080/"
        },
        "id": "0G8cw5nagEXW",
        "outputId": "1c06632d-9edb-4524-832b-59d00485ccdf"
      },
      "execution_count": null,
      "outputs": [
        {
          "output_type": "execute_result",
          "data": {
            "text/plain": [
              "show_id            0\n",
              "type               0\n",
              "title              0\n",
              "director        2634\n",
              "cast             825\n",
              "country          831\n",
              "date_added        10\n",
              "release_year       0\n",
              "rating             4\n",
              "duration           3\n",
              "listed_in          0\n",
              "description        0\n",
              "dtype: int64"
            ]
          },
          "metadata": {},
          "execution_count": 9
        }
      ]
    },
    {
      "cell_type": "code",
      "source": [
        "netflix_movies_df.info()"
      ],
      "metadata": {
        "colab": {
          "base_uri": "https://localhost:8080/"
        },
        "id": "kkfj1YyZgGPo",
        "outputId": "1ac01630-5abc-4c27-fad6-5f7d3e024623"
      },
      "execution_count": null,
      "outputs": [
        {
          "output_type": "stream",
          "name": "stdout",
          "text": [
            "<class 'pandas.core.frame.DataFrame'>\n",
            "RangeIndex: 8807 entries, 0 to 8806\n",
            "Data columns (total 12 columns):\n",
            " #   Column        Non-Null Count  Dtype \n",
            "---  ------        --------------  ----- \n",
            " 0   show_id       8807 non-null   object\n",
            " 1   type          8807 non-null   object\n",
            " 2   title         8807 non-null   object\n",
            " 3   director      6173 non-null   object\n",
            " 4   cast          7982 non-null   object\n",
            " 5   country       7976 non-null   object\n",
            " 6   date_added    8797 non-null   object\n",
            " 7   release_year  8807 non-null   int64 \n",
            " 8   rating        8803 non-null   object\n",
            " 9   duration      8804 non-null   object\n",
            " 10  listed_in     8807 non-null   object\n",
            " 11  description   8807 non-null   object\n",
            "dtypes: int64(1), object(11)\n",
            "memory usage: 825.8+ KB\n"
          ]
        }
      ]
    },
    {
      "cell_type": "markdown",
      "source": [
        "# **Data Exploration after Cleaning the data**"
      ],
      "metadata": {
        "id": "P14OXQyARP5b"
      }
    },
    {
      "cell_type": "code",
      "source": [
        "netflix_movies_df[netflix_movies_df['director'].str.contains('Martin Scorsese', na=False)]"
      ],
      "metadata": {
        "id": "uEFFZEptLoAQ",
        "outputId": "f51fdee7-4fee-4748-9939-f74a02f38e9c",
        "colab": {
          "base_uri": "https://localhost:8080/",
          "height": 1000
        }
      },
      "execution_count": null,
      "outputs": [
        {
          "output_type": "execute_result",
          "data": {
            "text/plain": [
              "     show_id   type                                              title  \\\n",
              "1358   s1359  Movie                                     Shutter Island   \n",
              "2632   s2633  Movie                       No Direction Home: Bob Dylan   \n",
              "2860   s2861  Movie                                               Hugo   \n",
              "3227   s3228  Movie                                       The Irishman   \n",
              "3759   s3760  Movie  Rolling Thunder Revue: A Bob Dylan Story by Ma...   \n",
              "6111   s6112  Movie                    Alice Doesn't Live Here Anymore   \n",
              "6826   s6827  Movie                                  Gangs of New York   \n",
              "6880   s6881  Movie                                         GoodFellas   \n",
              "7431   s7432  Movie                                       Mean Streets   \n",
              "7820   s7821  Movie                                        Raging Bull   \n",
              "8272   s8273  Movie                                       The Departed   \n",
              "8735   s8736  Movie                    Who's That Knocking at My Door?   \n",
              "\n",
              "             director                                               cast  \\\n",
              "1358  Martin Scorsese  Leonardo DiCaprio, Mark Ruffalo, Ben Kingsley,...   \n",
              "2632  Martin Scorsese  Bob Dylan, Joan Baez, Dave Van Ronk, Peter Yar...   \n",
              "2860  Martin Scorsese  Ben Kingsley, Sacha Baron Cohen, Asa Butterfie...   \n",
              "3227  Martin Scorsese  Robert De Niro, Al Pacino, Joe Pesci, Harvey K...   \n",
              "3759  Martin Scorsese  Bob Dylan, Allen Ginsberg, Joan Baez, Patti Sm...   \n",
              "6111  Martin Scorsese  Ellen Burstyn, Kris Kristofferson, Billy Green...   \n",
              "6826  Martin Scorsese  Leonardo DiCaprio, Daniel Day-Lewis, Cameron D...   \n",
              "6880  Martin Scorsese  Robert De Niro, Ray Liotta, Joe Pesci, Lorrain...   \n",
              "7431  Martin Scorsese  Robert De Niro, Harvey Keitel, David Proval, A...   \n",
              "7820  Martin Scorsese  Robert De Niro, Cathy Moriarty, Joe Pesci, Fra...   \n",
              "8272  Martin Scorsese  Leonardo DiCaprio, Matt Damon, Jack Nicholson,...   \n",
              "8735  Martin Scorsese  Zina Bethune, Harvey Keitel, Anne Collette, Le...   \n",
              "\n",
              "                                    country         date_added  release_year  \\\n",
              "1358                          United States   February 1, 2021          2010   \n",
              "2632   United Kingdom, United States, Japan     April 25, 2020          2005   \n",
              "2860  United Kingdom, United States, France      March 1, 2020          2011   \n",
              "3227                          United States  November 27, 2019          2019   \n",
              "3759                          United States      June 12, 2019          2019   \n",
              "6111                          United States       July 1, 2019          1974   \n",
              "6826                   United States, Italy    August 20, 2019          2002   \n",
              "6880                          United States    January 1, 2021          1990   \n",
              "7431                          United States       July 1, 2019          1973   \n",
              "7820                          United States    October 1, 2019          1980   \n",
              "8272               United States, Hong Kong    January 1, 2021          2006   \n",
              "8735                          United States       July 1, 2019          1967   \n",
              "\n",
              "     rating duration                                   listed_in  \\\n",
              "1358      R  139 min                                   Thrillers   \n",
              "2632  TV-MA  208 min             Documentaries, Music & Musicals   \n",
              "2860     PG  127 min            Children & Family Movies, Dramas   \n",
              "3227      R  209 min                                      Dramas   \n",
              "3759  TV-MA  142 min             Documentaries, Music & Musicals   \n",
              "6111     PG  112 min            Classic Movies, Comedies, Dramas   \n",
              "6826      R  167 min                                      Dramas   \n",
              "6880      R  145 min                      Classic Movies, Dramas   \n",
              "7431      R  112 min  Classic Movies, Dramas, Independent Movies   \n",
              "7820      R  129 min       Classic Movies, Dramas, Sports Movies   \n",
              "8272      R  151 min                           Dramas, Thrillers   \n",
              "8735      R   90 min  Classic Movies, Dramas, Independent Movies   \n",
              "\n",
              "                                            description  \n",
              "1358  A U.S. marshal's troubling visions compromise ...  \n",
              "2632  Featuring rare concert footage and interviews ...  \n",
              "2860  Living inside a Paris train station, an orphan...  \n",
              "3227  Hit man Frank Sheeran looks back at the secret...  \n",
              "3759  In an alchemic mix of fact and fantasy, Martin...  \n",
              "6111  A widowed singer and single mother starts over...  \n",
              "6826  In the crime-ridden slums of New York in the 1...  \n",
              "6880  Former mobster Henry Hill recounts his colorfu...  \n",
              "7431  In New York's Little Italy, a low-level hoodlu...  \n",
              "7820  This gritty biopic of brutal boxer Jake LaMott...  \n",
              "8272  Two rookie Boston cops are sent deep undercove...  \n",
              "8735  A woman's revelation that she was once raped s...  "
            ],
            "text/html": [
              "\n",
              "  <div id=\"df-bb871d28-1626-4640-ab0a-482b9007a1b3\">\n",
              "    <div class=\"colab-df-container\">\n",
              "      <div>\n",
              "<style scoped>\n",
              "    .dataframe tbody tr th:only-of-type {\n",
              "        vertical-align: middle;\n",
              "    }\n",
              "\n",
              "    .dataframe tbody tr th {\n",
              "        vertical-align: top;\n",
              "    }\n",
              "\n",
              "    .dataframe thead th {\n",
              "        text-align: right;\n",
              "    }\n",
              "</style>\n",
              "<table border=\"1\" class=\"dataframe\">\n",
              "  <thead>\n",
              "    <tr style=\"text-align: right;\">\n",
              "      <th></th>\n",
              "      <th>show_id</th>\n",
              "      <th>type</th>\n",
              "      <th>title</th>\n",
              "      <th>director</th>\n",
              "      <th>cast</th>\n",
              "      <th>country</th>\n",
              "      <th>date_added</th>\n",
              "      <th>release_year</th>\n",
              "      <th>rating</th>\n",
              "      <th>duration</th>\n",
              "      <th>listed_in</th>\n",
              "      <th>description</th>\n",
              "    </tr>\n",
              "  </thead>\n",
              "  <tbody>\n",
              "    <tr>\n",
              "      <th>1358</th>\n",
              "      <td>s1359</td>\n",
              "      <td>Movie</td>\n",
              "      <td>Shutter Island</td>\n",
              "      <td>Martin Scorsese</td>\n",
              "      <td>Leonardo DiCaprio, Mark Ruffalo, Ben Kingsley,...</td>\n",
              "      <td>United States</td>\n",
              "      <td>February 1, 2021</td>\n",
              "      <td>2010</td>\n",
              "      <td>R</td>\n",
              "      <td>139 min</td>\n",
              "      <td>Thrillers</td>\n",
              "      <td>A U.S. marshal's troubling visions compromise ...</td>\n",
              "    </tr>\n",
              "    <tr>\n",
              "      <th>2632</th>\n",
              "      <td>s2633</td>\n",
              "      <td>Movie</td>\n",
              "      <td>No Direction Home: Bob Dylan</td>\n",
              "      <td>Martin Scorsese</td>\n",
              "      <td>Bob Dylan, Joan Baez, Dave Van Ronk, Peter Yar...</td>\n",
              "      <td>United Kingdom, United States, Japan</td>\n",
              "      <td>April 25, 2020</td>\n",
              "      <td>2005</td>\n",
              "      <td>TV-MA</td>\n",
              "      <td>208 min</td>\n",
              "      <td>Documentaries, Music &amp; Musicals</td>\n",
              "      <td>Featuring rare concert footage and interviews ...</td>\n",
              "    </tr>\n",
              "    <tr>\n",
              "      <th>2860</th>\n",
              "      <td>s2861</td>\n",
              "      <td>Movie</td>\n",
              "      <td>Hugo</td>\n",
              "      <td>Martin Scorsese</td>\n",
              "      <td>Ben Kingsley, Sacha Baron Cohen, Asa Butterfie...</td>\n",
              "      <td>United Kingdom, United States, France</td>\n",
              "      <td>March 1, 2020</td>\n",
              "      <td>2011</td>\n",
              "      <td>PG</td>\n",
              "      <td>127 min</td>\n",
              "      <td>Children &amp; Family Movies, Dramas</td>\n",
              "      <td>Living inside a Paris train station, an orphan...</td>\n",
              "    </tr>\n",
              "    <tr>\n",
              "      <th>3227</th>\n",
              "      <td>s3228</td>\n",
              "      <td>Movie</td>\n",
              "      <td>The Irishman</td>\n",
              "      <td>Martin Scorsese</td>\n",
              "      <td>Robert De Niro, Al Pacino, Joe Pesci, Harvey K...</td>\n",
              "      <td>United States</td>\n",
              "      <td>November 27, 2019</td>\n",
              "      <td>2019</td>\n",
              "      <td>R</td>\n",
              "      <td>209 min</td>\n",
              "      <td>Dramas</td>\n",
              "      <td>Hit man Frank Sheeran looks back at the secret...</td>\n",
              "    </tr>\n",
              "    <tr>\n",
              "      <th>3759</th>\n",
              "      <td>s3760</td>\n",
              "      <td>Movie</td>\n",
              "      <td>Rolling Thunder Revue: A Bob Dylan Story by Ma...</td>\n",
              "      <td>Martin Scorsese</td>\n",
              "      <td>Bob Dylan, Allen Ginsberg, Joan Baez, Patti Sm...</td>\n",
              "      <td>United States</td>\n",
              "      <td>June 12, 2019</td>\n",
              "      <td>2019</td>\n",
              "      <td>TV-MA</td>\n",
              "      <td>142 min</td>\n",
              "      <td>Documentaries, Music &amp; Musicals</td>\n",
              "      <td>In an alchemic mix of fact and fantasy, Martin...</td>\n",
              "    </tr>\n",
              "    <tr>\n",
              "      <th>6111</th>\n",
              "      <td>s6112</td>\n",
              "      <td>Movie</td>\n",
              "      <td>Alice Doesn't Live Here Anymore</td>\n",
              "      <td>Martin Scorsese</td>\n",
              "      <td>Ellen Burstyn, Kris Kristofferson, Billy Green...</td>\n",
              "      <td>United States</td>\n",
              "      <td>July 1, 2019</td>\n",
              "      <td>1974</td>\n",
              "      <td>PG</td>\n",
              "      <td>112 min</td>\n",
              "      <td>Classic Movies, Comedies, Dramas</td>\n",
              "      <td>A widowed singer and single mother starts over...</td>\n",
              "    </tr>\n",
              "    <tr>\n",
              "      <th>6826</th>\n",
              "      <td>s6827</td>\n",
              "      <td>Movie</td>\n",
              "      <td>Gangs of New York</td>\n",
              "      <td>Martin Scorsese</td>\n",
              "      <td>Leonardo DiCaprio, Daniel Day-Lewis, Cameron D...</td>\n",
              "      <td>United States, Italy</td>\n",
              "      <td>August 20, 2019</td>\n",
              "      <td>2002</td>\n",
              "      <td>R</td>\n",
              "      <td>167 min</td>\n",
              "      <td>Dramas</td>\n",
              "      <td>In the crime-ridden slums of New York in the 1...</td>\n",
              "    </tr>\n",
              "    <tr>\n",
              "      <th>6880</th>\n",
              "      <td>s6881</td>\n",
              "      <td>Movie</td>\n",
              "      <td>GoodFellas</td>\n",
              "      <td>Martin Scorsese</td>\n",
              "      <td>Robert De Niro, Ray Liotta, Joe Pesci, Lorrain...</td>\n",
              "      <td>United States</td>\n",
              "      <td>January 1, 2021</td>\n",
              "      <td>1990</td>\n",
              "      <td>R</td>\n",
              "      <td>145 min</td>\n",
              "      <td>Classic Movies, Dramas</td>\n",
              "      <td>Former mobster Henry Hill recounts his colorfu...</td>\n",
              "    </tr>\n",
              "    <tr>\n",
              "      <th>7431</th>\n",
              "      <td>s7432</td>\n",
              "      <td>Movie</td>\n",
              "      <td>Mean Streets</td>\n",
              "      <td>Martin Scorsese</td>\n",
              "      <td>Robert De Niro, Harvey Keitel, David Proval, A...</td>\n",
              "      <td>United States</td>\n",
              "      <td>July 1, 2019</td>\n",
              "      <td>1973</td>\n",
              "      <td>R</td>\n",
              "      <td>112 min</td>\n",
              "      <td>Classic Movies, Dramas, Independent Movies</td>\n",
              "      <td>In New York's Little Italy, a low-level hoodlu...</td>\n",
              "    </tr>\n",
              "    <tr>\n",
              "      <th>7820</th>\n",
              "      <td>s7821</td>\n",
              "      <td>Movie</td>\n",
              "      <td>Raging Bull</td>\n",
              "      <td>Martin Scorsese</td>\n",
              "      <td>Robert De Niro, Cathy Moriarty, Joe Pesci, Fra...</td>\n",
              "      <td>United States</td>\n",
              "      <td>October 1, 2019</td>\n",
              "      <td>1980</td>\n",
              "      <td>R</td>\n",
              "      <td>129 min</td>\n",
              "      <td>Classic Movies, Dramas, Sports Movies</td>\n",
              "      <td>This gritty biopic of brutal boxer Jake LaMott...</td>\n",
              "    </tr>\n",
              "    <tr>\n",
              "      <th>8272</th>\n",
              "      <td>s8273</td>\n",
              "      <td>Movie</td>\n",
              "      <td>The Departed</td>\n",
              "      <td>Martin Scorsese</td>\n",
              "      <td>Leonardo DiCaprio, Matt Damon, Jack Nicholson,...</td>\n",
              "      <td>United States, Hong Kong</td>\n",
              "      <td>January 1, 2021</td>\n",
              "      <td>2006</td>\n",
              "      <td>R</td>\n",
              "      <td>151 min</td>\n",
              "      <td>Dramas, Thrillers</td>\n",
              "      <td>Two rookie Boston cops are sent deep undercove...</td>\n",
              "    </tr>\n",
              "    <tr>\n",
              "      <th>8735</th>\n",
              "      <td>s8736</td>\n",
              "      <td>Movie</td>\n",
              "      <td>Who's That Knocking at My Door?</td>\n",
              "      <td>Martin Scorsese</td>\n",
              "      <td>Zina Bethune, Harvey Keitel, Anne Collette, Le...</td>\n",
              "      <td>United States</td>\n",
              "      <td>July 1, 2019</td>\n",
              "      <td>1967</td>\n",
              "      <td>R</td>\n",
              "      <td>90 min</td>\n",
              "      <td>Classic Movies, Dramas, Independent Movies</td>\n",
              "      <td>A woman's revelation that she was once raped s...</td>\n",
              "    </tr>\n",
              "  </tbody>\n",
              "</table>\n",
              "</div>\n",
              "      <button class=\"colab-df-convert\" onclick=\"convertToInteractive('df-bb871d28-1626-4640-ab0a-482b9007a1b3')\"\n",
              "              title=\"Convert this dataframe to an interactive table.\"\n",
              "              style=\"display:none;\">\n",
              "        \n",
              "  <svg xmlns=\"http://www.w3.org/2000/svg\" height=\"24px\"viewBox=\"0 0 24 24\"\n",
              "       width=\"24px\">\n",
              "    <path d=\"M0 0h24v24H0V0z\" fill=\"none\"/>\n",
              "    <path d=\"M18.56 5.44l.94 2.06.94-2.06 2.06-.94-2.06-.94-.94-2.06-.94 2.06-2.06.94zm-11 1L8.5 8.5l.94-2.06 2.06-.94-2.06-.94L8.5 2.5l-.94 2.06-2.06.94zm10 10l.94 2.06.94-2.06 2.06-.94-2.06-.94-.94-2.06-.94 2.06-2.06.94z\"/><path d=\"M17.41 7.96l-1.37-1.37c-.4-.4-.92-.59-1.43-.59-.52 0-1.04.2-1.43.59L10.3 9.45l-7.72 7.72c-.78.78-.78 2.05 0 2.83L4 21.41c.39.39.9.59 1.41.59.51 0 1.02-.2 1.41-.59l7.78-7.78 2.81-2.81c.8-.78.8-2.07 0-2.86zM5.41 20L4 18.59l7.72-7.72 1.47 1.35L5.41 20z\"/>\n",
              "  </svg>\n",
              "      </button>\n",
              "      \n",
              "  <style>\n",
              "    .colab-df-container {\n",
              "      display:flex;\n",
              "      flex-wrap:wrap;\n",
              "      gap: 12px;\n",
              "    }\n",
              "\n",
              "    .colab-df-convert {\n",
              "      background-color: #E8F0FE;\n",
              "      border: none;\n",
              "      border-radius: 50%;\n",
              "      cursor: pointer;\n",
              "      display: none;\n",
              "      fill: #1967D2;\n",
              "      height: 32px;\n",
              "      padding: 0 0 0 0;\n",
              "      width: 32px;\n",
              "    }\n",
              "\n",
              "    .colab-df-convert:hover {\n",
              "      background-color: #E2EBFA;\n",
              "      box-shadow: 0px 1px 2px rgba(60, 64, 67, 0.3), 0px 1px 3px 1px rgba(60, 64, 67, 0.15);\n",
              "      fill: #174EA6;\n",
              "    }\n",
              "\n",
              "    [theme=dark] .colab-df-convert {\n",
              "      background-color: #3B4455;\n",
              "      fill: #D2E3FC;\n",
              "    }\n",
              "\n",
              "    [theme=dark] .colab-df-convert:hover {\n",
              "      background-color: #434B5C;\n",
              "      box-shadow: 0px 1px 3px 1px rgba(0, 0, 0, 0.15);\n",
              "      filter: drop-shadow(0px 1px 2px rgba(0, 0, 0, 0.3));\n",
              "      fill: #FFFFFF;\n",
              "    }\n",
              "  </style>\n",
              "\n",
              "      <script>\n",
              "        const buttonEl =\n",
              "          document.querySelector('#df-bb871d28-1626-4640-ab0a-482b9007a1b3 button.colab-df-convert');\n",
              "        buttonEl.style.display =\n",
              "          google.colab.kernel.accessAllowed ? 'block' : 'none';\n",
              "\n",
              "        async function convertToInteractive(key) {\n",
              "          const element = document.querySelector('#df-bb871d28-1626-4640-ab0a-482b9007a1b3');\n",
              "          const dataTable =\n",
              "            await google.colab.kernel.invokeFunction('convertToInteractive',\n",
              "                                                     [key], {});\n",
              "          if (!dataTable) return;\n",
              "\n",
              "          const docLinkHtml = 'Like what you see? Visit the ' +\n",
              "            '<a target=\"_blank\" href=https://colab.research.google.com/notebooks/data_table.ipynb>data table notebook</a>'\n",
              "            + ' to learn more about interactive tables.';\n",
              "          element.innerHTML = '';\n",
              "          dataTable['output_type'] = 'display_data';\n",
              "          await google.colab.output.renderOutput(dataTable, element);\n",
              "          const docLink = document.createElement('div');\n",
              "          docLink.innerHTML = docLinkHtml;\n",
              "          element.appendChild(docLink);\n",
              "        }\n",
              "      </script>\n",
              "    </div>\n",
              "  </div>\n",
              "  "
            ]
          },
          "metadata": {},
          "execution_count": 30
        }
      ]
    },
    {
      "cell_type": "code",
      "source": [
        "netflix_movies_df[(netflix_movies_df['type'] == 'TV Show') & (netflix_movies_df['country'] == 'United States')]\n"
      ],
      "metadata": {
        "id": "z2m5Z_jjN1AZ",
        "colab": {
          "base_uri": "https://localhost:8080/",
          "height": 971
        },
        "outputId": "65118482-0421-49b9-de1b-418fa3bf5cf4"
      },
      "execution_count": null,
      "outputs": [
        {
          "output_type": "execute_result",
          "data": {
            "text/plain": [
              "     show_id     type                                   title director  \\\n",
              "15       s16  TV Show                       Dear White People      NaN   \n",
              "40       s41  TV Show  He-Man and the Masters of the Universe      NaN   \n",
              "55       s56  TV Show                               Nailed It      NaN   \n",
              "67       s68  TV Show                       Saved by the Bell      NaN   \n",
              "82       s83  TV Show                                 Lucifer      NaN   \n",
              "...      ...      ...                                     ...      ...   \n",
              "8710   s8711  TV Show                                   Weeds      NaN   \n",
              "8726   s8727  TV Show                    When Calls the Heart      NaN   \n",
              "8747   s8748  TV Show                               Winsanity      NaN   \n",
              "8755   s8756  TV Show                       Women Behind Bars      NaN   \n",
              "8780   s8781  TV Show                            Yo-Kai Watch      NaN   \n",
              "\n",
              "                                                   cast        country  \\\n",
              "15    Logan Browning, Brandon P. Bell, DeRon Horton,...  United States   \n",
              "40    Yuri Lowenthal, Kimberly Brooks, Antony Del Ri...  United States   \n",
              "55                          Nicole Byer, Jacques Torres  United States   \n",
              "67    Mark-Paul Gosselaar, Tiffani Thiessen, Mario L...  United States   \n",
              "82    Tom Ellis, Lauren German, Kevin Alejandro, D.B...  United States   \n",
              "...                                                 ...            ...   \n",
              "8710  Mary-Louise Parker, Hunter Parrish, Alexander ...  United States   \n",
              "8726  Erin Krakow, Daniel Lissing, Lori Loughlin, Ma...  United States   \n",
              "8747                                      Donald Faison  United States   \n",
              "8755                                                NaN  United States   \n",
              "8780  Johnny Yong Bosch, J.W. Terry, Alicyn Packard,...  United States   \n",
              "\n",
              "              date_added  release_year rating   duration  \\\n",
              "15    September 22, 2021          2021  TV-MA  4 Seasons   \n",
              "40    September 16, 2021          2021  TV-Y7   1 Season   \n",
              "55    September 15, 2021          2021  TV-PG  6 Seasons   \n",
              "67    September 15, 2021          1994  TV-PG  9 Seasons   \n",
              "82    September 10, 2021          2021  TV-14  6 Seasons   \n",
              "...                  ...           ...    ...        ...   \n",
              "8710       April 1, 2014          2012  TV-MA  8 Seasons   \n",
              "8726   December 29, 2018          2017  TV-PG  5 Seasons   \n",
              "8747   December 15, 2018          2016   TV-G   1 Season   \n",
              "8755    November 1, 2016          2010  TV-14  3 Seasons   \n",
              "8780       April 1, 2016          2015  TV-Y7   1 Season   \n",
              "\n",
              "                                   listed_in  \\\n",
              "15                    TV Comedies, TV Dramas   \n",
              "40             Kids' TV, TV Sci-Fi & Fantasy   \n",
              "55                                Reality TV   \n",
              "67                     Kids' TV, TV Comedies   \n",
              "82    Crime TV Shows, TV Comedies, TV Dramas   \n",
              "...                                      ...   \n",
              "8710                  TV Comedies, TV Dramas   \n",
              "8726                               TV Dramas   \n",
              "8747                              Reality TV   \n",
              "8755              Crime TV Shows, Docuseries   \n",
              "8780                  Anime Series, Kids' TV   \n",
              "\n",
              "                                            description  \n",
              "15    Students of color navigate the daily slights a...  \n",
              "40    Mighty teen Adam and his heroic squad of misfi...  \n",
              "55    Home bakers with a terrible track record take ...  \n",
              "67    From middle school to college, best friends Za...  \n",
              "82    Bored with being the Lord of Hell, the devil r...  \n",
              "...                                                 ...  \n",
              "8710  A suburban mother starts selling marijuana to ...  \n",
              "8726  Leaving behind her upper-crust city roots, a w...  \n",
              "8747  Actor Donald Faison hosts this game show in wh...  \n",
              "8755  This reality series recounts true stories of w...  \n",
              "8780  Nate frees a mythical being trapped in a magic...  \n",
              "\n",
              "[760 rows x 12 columns]"
            ],
            "text/html": [
              "\n",
              "  <div id=\"df-30e81b8f-69e7-4efc-b58d-9a37070cd2c3\">\n",
              "    <div class=\"colab-df-container\">\n",
              "      <div>\n",
              "<style scoped>\n",
              "    .dataframe tbody tr th:only-of-type {\n",
              "        vertical-align: middle;\n",
              "    }\n",
              "\n",
              "    .dataframe tbody tr th {\n",
              "        vertical-align: top;\n",
              "    }\n",
              "\n",
              "    .dataframe thead th {\n",
              "        text-align: right;\n",
              "    }\n",
              "</style>\n",
              "<table border=\"1\" class=\"dataframe\">\n",
              "  <thead>\n",
              "    <tr style=\"text-align: right;\">\n",
              "      <th></th>\n",
              "      <th>show_id</th>\n",
              "      <th>type</th>\n",
              "      <th>title</th>\n",
              "      <th>director</th>\n",
              "      <th>cast</th>\n",
              "      <th>country</th>\n",
              "      <th>date_added</th>\n",
              "      <th>release_year</th>\n",
              "      <th>rating</th>\n",
              "      <th>duration</th>\n",
              "      <th>listed_in</th>\n",
              "      <th>description</th>\n",
              "    </tr>\n",
              "  </thead>\n",
              "  <tbody>\n",
              "    <tr>\n",
              "      <th>15</th>\n",
              "      <td>s16</td>\n",
              "      <td>TV Show</td>\n",
              "      <td>Dear White People</td>\n",
              "      <td>NaN</td>\n",
              "      <td>Logan Browning, Brandon P. Bell, DeRon Horton,...</td>\n",
              "      <td>United States</td>\n",
              "      <td>September 22, 2021</td>\n",
              "      <td>2021</td>\n",
              "      <td>TV-MA</td>\n",
              "      <td>4 Seasons</td>\n",
              "      <td>TV Comedies, TV Dramas</td>\n",
              "      <td>Students of color navigate the daily slights a...</td>\n",
              "    </tr>\n",
              "    <tr>\n",
              "      <th>40</th>\n",
              "      <td>s41</td>\n",
              "      <td>TV Show</td>\n",
              "      <td>He-Man and the Masters of the Universe</td>\n",
              "      <td>NaN</td>\n",
              "      <td>Yuri Lowenthal, Kimberly Brooks, Antony Del Ri...</td>\n",
              "      <td>United States</td>\n",
              "      <td>September 16, 2021</td>\n",
              "      <td>2021</td>\n",
              "      <td>TV-Y7</td>\n",
              "      <td>1 Season</td>\n",
              "      <td>Kids' TV, TV Sci-Fi &amp; Fantasy</td>\n",
              "      <td>Mighty teen Adam and his heroic squad of misfi...</td>\n",
              "    </tr>\n",
              "    <tr>\n",
              "      <th>55</th>\n",
              "      <td>s56</td>\n",
              "      <td>TV Show</td>\n",
              "      <td>Nailed It</td>\n",
              "      <td>NaN</td>\n",
              "      <td>Nicole Byer, Jacques Torres</td>\n",
              "      <td>United States</td>\n",
              "      <td>September 15, 2021</td>\n",
              "      <td>2021</td>\n",
              "      <td>TV-PG</td>\n",
              "      <td>6 Seasons</td>\n",
              "      <td>Reality TV</td>\n",
              "      <td>Home bakers with a terrible track record take ...</td>\n",
              "    </tr>\n",
              "    <tr>\n",
              "      <th>67</th>\n",
              "      <td>s68</td>\n",
              "      <td>TV Show</td>\n",
              "      <td>Saved by the Bell</td>\n",
              "      <td>NaN</td>\n",
              "      <td>Mark-Paul Gosselaar, Tiffani Thiessen, Mario L...</td>\n",
              "      <td>United States</td>\n",
              "      <td>September 15, 2021</td>\n",
              "      <td>1994</td>\n",
              "      <td>TV-PG</td>\n",
              "      <td>9 Seasons</td>\n",
              "      <td>Kids' TV, TV Comedies</td>\n",
              "      <td>From middle school to college, best friends Za...</td>\n",
              "    </tr>\n",
              "    <tr>\n",
              "      <th>82</th>\n",
              "      <td>s83</td>\n",
              "      <td>TV Show</td>\n",
              "      <td>Lucifer</td>\n",
              "      <td>NaN</td>\n",
              "      <td>Tom Ellis, Lauren German, Kevin Alejandro, D.B...</td>\n",
              "      <td>United States</td>\n",
              "      <td>September 10, 2021</td>\n",
              "      <td>2021</td>\n",
              "      <td>TV-14</td>\n",
              "      <td>6 Seasons</td>\n",
              "      <td>Crime TV Shows, TV Comedies, TV Dramas</td>\n",
              "      <td>Bored with being the Lord of Hell, the devil r...</td>\n",
              "    </tr>\n",
              "    <tr>\n",
              "      <th>...</th>\n",
              "      <td>...</td>\n",
              "      <td>...</td>\n",
              "      <td>...</td>\n",
              "      <td>...</td>\n",
              "      <td>...</td>\n",
              "      <td>...</td>\n",
              "      <td>...</td>\n",
              "      <td>...</td>\n",
              "      <td>...</td>\n",
              "      <td>...</td>\n",
              "      <td>...</td>\n",
              "      <td>...</td>\n",
              "    </tr>\n",
              "    <tr>\n",
              "      <th>8710</th>\n",
              "      <td>s8711</td>\n",
              "      <td>TV Show</td>\n",
              "      <td>Weeds</td>\n",
              "      <td>NaN</td>\n",
              "      <td>Mary-Louise Parker, Hunter Parrish, Alexander ...</td>\n",
              "      <td>United States</td>\n",
              "      <td>April 1, 2014</td>\n",
              "      <td>2012</td>\n",
              "      <td>TV-MA</td>\n",
              "      <td>8 Seasons</td>\n",
              "      <td>TV Comedies, TV Dramas</td>\n",
              "      <td>A suburban mother starts selling marijuana to ...</td>\n",
              "    </tr>\n",
              "    <tr>\n",
              "      <th>8726</th>\n",
              "      <td>s8727</td>\n",
              "      <td>TV Show</td>\n",
              "      <td>When Calls the Heart</td>\n",
              "      <td>NaN</td>\n",
              "      <td>Erin Krakow, Daniel Lissing, Lori Loughlin, Ma...</td>\n",
              "      <td>United States</td>\n",
              "      <td>December 29, 2018</td>\n",
              "      <td>2017</td>\n",
              "      <td>TV-PG</td>\n",
              "      <td>5 Seasons</td>\n",
              "      <td>TV Dramas</td>\n",
              "      <td>Leaving behind her upper-crust city roots, a w...</td>\n",
              "    </tr>\n",
              "    <tr>\n",
              "      <th>8747</th>\n",
              "      <td>s8748</td>\n",
              "      <td>TV Show</td>\n",
              "      <td>Winsanity</td>\n",
              "      <td>NaN</td>\n",
              "      <td>Donald Faison</td>\n",
              "      <td>United States</td>\n",
              "      <td>December 15, 2018</td>\n",
              "      <td>2016</td>\n",
              "      <td>TV-G</td>\n",
              "      <td>1 Season</td>\n",
              "      <td>Reality TV</td>\n",
              "      <td>Actor Donald Faison hosts this game show in wh...</td>\n",
              "    </tr>\n",
              "    <tr>\n",
              "      <th>8755</th>\n",
              "      <td>s8756</td>\n",
              "      <td>TV Show</td>\n",
              "      <td>Women Behind Bars</td>\n",
              "      <td>NaN</td>\n",
              "      <td>NaN</td>\n",
              "      <td>United States</td>\n",
              "      <td>November 1, 2016</td>\n",
              "      <td>2010</td>\n",
              "      <td>TV-14</td>\n",
              "      <td>3 Seasons</td>\n",
              "      <td>Crime TV Shows, Docuseries</td>\n",
              "      <td>This reality series recounts true stories of w...</td>\n",
              "    </tr>\n",
              "    <tr>\n",
              "      <th>8780</th>\n",
              "      <td>s8781</td>\n",
              "      <td>TV Show</td>\n",
              "      <td>Yo-Kai Watch</td>\n",
              "      <td>NaN</td>\n",
              "      <td>Johnny Yong Bosch, J.W. Terry, Alicyn Packard,...</td>\n",
              "      <td>United States</td>\n",
              "      <td>April 1, 2016</td>\n",
              "      <td>2015</td>\n",
              "      <td>TV-Y7</td>\n",
              "      <td>1 Season</td>\n",
              "      <td>Anime Series, Kids' TV</td>\n",
              "      <td>Nate frees a mythical being trapped in a magic...</td>\n",
              "    </tr>\n",
              "  </tbody>\n",
              "</table>\n",
              "<p>760 rows × 12 columns</p>\n",
              "</div>\n",
              "      <button class=\"colab-df-convert\" onclick=\"convertToInteractive('df-30e81b8f-69e7-4efc-b58d-9a37070cd2c3')\"\n",
              "              title=\"Convert this dataframe to an interactive table.\"\n",
              "              style=\"display:none;\">\n",
              "        \n",
              "  <svg xmlns=\"http://www.w3.org/2000/svg\" height=\"24px\"viewBox=\"0 0 24 24\"\n",
              "       width=\"24px\">\n",
              "    <path d=\"M0 0h24v24H0V0z\" fill=\"none\"/>\n",
              "    <path d=\"M18.56 5.44l.94 2.06.94-2.06 2.06-.94-2.06-.94-.94-2.06-.94 2.06-2.06.94zm-11 1L8.5 8.5l.94-2.06 2.06-.94-2.06-.94L8.5 2.5l-.94 2.06-2.06.94zm10 10l.94 2.06.94-2.06 2.06-.94-2.06-.94-.94-2.06-.94 2.06-2.06.94z\"/><path d=\"M17.41 7.96l-1.37-1.37c-.4-.4-.92-.59-1.43-.59-.52 0-1.04.2-1.43.59L10.3 9.45l-7.72 7.72c-.78.78-.78 2.05 0 2.83L4 21.41c.39.39.9.59 1.41.59.51 0 1.02-.2 1.41-.59l7.78-7.78 2.81-2.81c.8-.78.8-2.07 0-2.86zM5.41 20L4 18.59l7.72-7.72 1.47 1.35L5.41 20z\"/>\n",
              "  </svg>\n",
              "      </button>\n",
              "      \n",
              "  <style>\n",
              "    .colab-df-container {\n",
              "      display:flex;\n",
              "      flex-wrap:wrap;\n",
              "      gap: 12px;\n",
              "    }\n",
              "\n",
              "    .colab-df-convert {\n",
              "      background-color: #E8F0FE;\n",
              "      border: none;\n",
              "      border-radius: 50%;\n",
              "      cursor: pointer;\n",
              "      display: none;\n",
              "      fill: #1967D2;\n",
              "      height: 32px;\n",
              "      padding: 0 0 0 0;\n",
              "      width: 32px;\n",
              "    }\n",
              "\n",
              "    .colab-df-convert:hover {\n",
              "      background-color: #E2EBFA;\n",
              "      box-shadow: 0px 1px 2px rgba(60, 64, 67, 0.3), 0px 1px 3px 1px rgba(60, 64, 67, 0.15);\n",
              "      fill: #174EA6;\n",
              "    }\n",
              "\n",
              "    [theme=dark] .colab-df-convert {\n",
              "      background-color: #3B4455;\n",
              "      fill: #D2E3FC;\n",
              "    }\n",
              "\n",
              "    [theme=dark] .colab-df-convert:hover {\n",
              "      background-color: #434B5C;\n",
              "      box-shadow: 0px 1px 3px 1px rgba(0, 0, 0, 0.15);\n",
              "      filter: drop-shadow(0px 1px 2px rgba(0, 0, 0, 0.3));\n",
              "      fill: #FFFFFF;\n",
              "    }\n",
              "  </style>\n",
              "\n",
              "      <script>\n",
              "        const buttonEl =\n",
              "          document.querySelector('#df-30e81b8f-69e7-4efc-b58d-9a37070cd2c3 button.colab-df-convert');\n",
              "        buttonEl.style.display =\n",
              "          google.colab.kernel.accessAllowed ? 'block' : 'none';\n",
              "\n",
              "        async function convertToInteractive(key) {\n",
              "          const element = document.querySelector('#df-30e81b8f-69e7-4efc-b58d-9a37070cd2c3');\n",
              "          const dataTable =\n",
              "            await google.colab.kernel.invokeFunction('convertToInteractive',\n",
              "                                                     [key], {});\n",
              "          if (!dataTable) return;\n",
              "\n",
              "          const docLinkHtml = 'Like what you see? Visit the ' +\n",
              "            '<a target=\"_blank\" href=https://colab.research.google.com/notebooks/data_table.ipynb>data table notebook</a>'\n",
              "            + ' to learn more about interactive tables.';\n",
              "          element.innerHTML = '';\n",
              "          dataTable['output_type'] = 'display_data';\n",
              "          await google.colab.output.renderOutput(dataTable, element);\n",
              "          const docLink = document.createElement('div');\n",
              "          docLink.innerHTML = docLinkHtml;\n",
              "          element.appendChild(docLink);\n",
              "        }\n",
              "      </script>\n",
              "    </div>\n",
              "  </div>\n",
              "  "
            ]
          },
          "metadata": {},
          "execution_count": 31
        }
      ]
    },
    {
      "cell_type": "code",
      "source": [
        "netflix_movies_df[(netflix_movies_df['type'] == 'TV Show') & (netflix_movies_df['country'] == 'United States')] ['title']\n"
      ],
      "metadata": {
        "id": "sYFxQ-KwQDYu",
        "colab": {
          "base_uri": "https://localhost:8080/"
        },
        "outputId": "6ae3d8a7-d9b8-4e52-be0a-63c72f30ff9c"
      },
      "execution_count": null,
      "outputs": [
        {
          "output_type": "execute_result",
          "data": {
            "text/plain": [
              "15                           Dear White People\n",
              "40      He-Man and the Masters of the Universe\n",
              "55                                   Nailed It\n",
              "67                           Saved by the Bell\n",
              "82                                     Lucifer\n",
              "                         ...                  \n",
              "8710                                     Weeds\n",
              "8726                      When Calls the Heart\n",
              "8747                                 Winsanity\n",
              "8755                         Women Behind Bars\n",
              "8780                              Yo-Kai Watch\n",
              "Name: title, Length: 760, dtype: object"
            ]
          },
          "metadata": {},
          "execution_count": 32
        }
      ]
    },
    {
      "cell_type": "code",
      "source": [
        "netflix_movies_df[(netflix_movies_df['type'] == 'TV Show') & (netflix_movies_df['listed_in'] == 'Documentaries') | (netflix_movies_df['country'] == 'United Kingdom')]\n"
      ],
      "metadata": {
        "colab": {
          "base_uri": "https://localhost:8080/",
          "height": 1000
        },
        "id": "kDHpqXtJZYqn",
        "outputId": "cd54f599-99d6-48df-d976-ae4be0f86b44"
      },
      "execution_count": null,
      "outputs": [
        {
          "output_type": "execute_result",
          "data": {
            "text/plain": [
              "     show_id     type                                   title  \\\n",
              "8         s9  TV Show           The Great British Baking Show   \n",
              "32       s33  TV Show                           Sex Education   \n",
              "65       s66  TV Show                            Numberblocks   \n",
              "72       s73  TV Show  Jack Whitehall: Travels with My Father   \n",
              "98       s99  TV Show               Octonauts: Above & Beyond   \n",
              "...      ...      ...                                     ...   \n",
              "8740   s8741  TV Show                             Wild Alaska   \n",
              "8741   s8742  TV Show                             Wild Arabia   \n",
              "8744   s8745    Movie                                Williams   \n",
              "8758   s8759  TV Show                  World's Busiest Cities   \n",
              "8786   s8787    Movie                            You Can Tutu   \n",
              "\n",
              "             director                                               cast  \\\n",
              "8     Andy Devonshire  Mel Giedroyc, Sue Perkins, Mary Berry, Paul Ho...   \n",
              "32                NaN  Asa Butterfield, Gillian Anderson, Ncuti Gatwa...   \n",
              "65                NaN  Beth Chalmers, David Holt, Marcel McCalla, Ter...   \n",
              "72                NaN                  Jack Whitehall, Michael Whitehall   \n",
              "98                NaN  Antonio Aakeel, Chipo Chung, Simon Foster, Ter...   \n",
              "...               ...                                                ...   \n",
              "8740              NaN                                      Dougray Scott   \n",
              "8741              NaN                                   Alexander Siddig   \n",
              "8744  Morgan Matthews                                                NaN   \n",
              "8758              NaN                 Anita Rani, Ade Adepitan, Dan Snow   \n",
              "8786      James Brown  Lily O'Regan, Jeannettsy Enriquez Borges, Joel...   \n",
              "\n",
              "             country          date_added  release_year rating   duration  \\\n",
              "8     United Kingdom  September 24, 2021          2021  TV-14  9 Seasons   \n",
              "32    United Kingdom  September 17, 2021          2020  TV-MA  3 Seasons   \n",
              "65    United Kingdom  September 15, 2021          2021   TV-Y  6 Seasons   \n",
              "72    United Kingdom  September 14, 2021          2021  TV-MA  5 Seasons   \n",
              "98    United Kingdom   September 7, 2021          2021   TV-Y   1 Season   \n",
              "...              ...                 ...           ...    ...        ...   \n",
              "8740  United Kingdom      March 31, 2017          2015  TV-PG   1 Season   \n",
              "8741  United Kingdom      March 31, 2017          2013  TV-PG   1 Season   \n",
              "8744  United Kingdom    November 4, 2017          2017  TV-MA    105 min   \n",
              "8758  United Kingdom    February 1, 2019          2017  TV-PG   1 Season   \n",
              "8786  United Kingdom   December 31, 2017          2017   TV-G     87 min   \n",
              "\n",
              "                                              listed_in  \\\n",
              "8                          British TV Shows, Reality TV   \n",
              "32    British TV Shows, International TV Shows, TV C...   \n",
              "65                                             Kids' TV   \n",
              "72    British TV Shows, Docuseries, International TV...   \n",
              "98                           British TV Shows, Kids' TV   \n",
              "...                                                 ...   \n",
              "8740  British TV Shows, Docuseries, Science & Nature TV   \n",
              "8741  British TV Shows, Docuseries, Science & Nature TV   \n",
              "8744  Documentaries, International Movies, Sports Mo...   \n",
              "8758                       British TV Shows, Docuseries   \n",
              "8786                           Children & Family Movies   \n",
              "\n",
              "                                            description  \n",
              "8     A talented batch of amateur bakers face off in...  \n",
              "32    Insecure Otis has all the answers when it come...  \n",
              "65    In a place called Numberland, math adds up to ...  \n",
              "72    Jovial comic Jack Whitehall invites his stuffy...  \n",
              "98    The Octonauts expand their exploration beyond ...  \n",
              "...                                                 ...  \n",
              "8740  The natural bounty of Alaska sustains its dive...  \n",
              "8741  The widely varied geology and dramatic landsca...  \n",
              "8744  This inspiring documentary charts the birth of...  \n",
              "8758  From Moscow to Mexico City, three BBC journali...  \n",
              "8786  A gifted young ballet dancer struggles to find...  \n",
              "\n",
              "[419 rows x 12 columns]"
            ],
            "text/html": [
              "\n",
              "  <div id=\"df-e19a83f9-a999-4d2e-a660-df2d286000e6\">\n",
              "    <div class=\"colab-df-container\">\n",
              "      <div>\n",
              "<style scoped>\n",
              "    .dataframe tbody tr th:only-of-type {\n",
              "        vertical-align: middle;\n",
              "    }\n",
              "\n",
              "    .dataframe tbody tr th {\n",
              "        vertical-align: top;\n",
              "    }\n",
              "\n",
              "    .dataframe thead th {\n",
              "        text-align: right;\n",
              "    }\n",
              "</style>\n",
              "<table border=\"1\" class=\"dataframe\">\n",
              "  <thead>\n",
              "    <tr style=\"text-align: right;\">\n",
              "      <th></th>\n",
              "      <th>show_id</th>\n",
              "      <th>type</th>\n",
              "      <th>title</th>\n",
              "      <th>director</th>\n",
              "      <th>cast</th>\n",
              "      <th>country</th>\n",
              "      <th>date_added</th>\n",
              "      <th>release_year</th>\n",
              "      <th>rating</th>\n",
              "      <th>duration</th>\n",
              "      <th>listed_in</th>\n",
              "      <th>description</th>\n",
              "    </tr>\n",
              "  </thead>\n",
              "  <tbody>\n",
              "    <tr>\n",
              "      <th>8</th>\n",
              "      <td>s9</td>\n",
              "      <td>TV Show</td>\n",
              "      <td>The Great British Baking Show</td>\n",
              "      <td>Andy Devonshire</td>\n",
              "      <td>Mel Giedroyc, Sue Perkins, Mary Berry, Paul Ho...</td>\n",
              "      <td>United Kingdom</td>\n",
              "      <td>September 24, 2021</td>\n",
              "      <td>2021</td>\n",
              "      <td>TV-14</td>\n",
              "      <td>9 Seasons</td>\n",
              "      <td>British TV Shows, Reality TV</td>\n",
              "      <td>A talented batch of amateur bakers face off in...</td>\n",
              "    </tr>\n",
              "    <tr>\n",
              "      <th>32</th>\n",
              "      <td>s33</td>\n",
              "      <td>TV Show</td>\n",
              "      <td>Sex Education</td>\n",
              "      <td>NaN</td>\n",
              "      <td>Asa Butterfield, Gillian Anderson, Ncuti Gatwa...</td>\n",
              "      <td>United Kingdom</td>\n",
              "      <td>September 17, 2021</td>\n",
              "      <td>2020</td>\n",
              "      <td>TV-MA</td>\n",
              "      <td>3 Seasons</td>\n",
              "      <td>British TV Shows, International TV Shows, TV C...</td>\n",
              "      <td>Insecure Otis has all the answers when it come...</td>\n",
              "    </tr>\n",
              "    <tr>\n",
              "      <th>65</th>\n",
              "      <td>s66</td>\n",
              "      <td>TV Show</td>\n",
              "      <td>Numberblocks</td>\n",
              "      <td>NaN</td>\n",
              "      <td>Beth Chalmers, David Holt, Marcel McCalla, Ter...</td>\n",
              "      <td>United Kingdom</td>\n",
              "      <td>September 15, 2021</td>\n",
              "      <td>2021</td>\n",
              "      <td>TV-Y</td>\n",
              "      <td>6 Seasons</td>\n",
              "      <td>Kids' TV</td>\n",
              "      <td>In a place called Numberland, math adds up to ...</td>\n",
              "    </tr>\n",
              "    <tr>\n",
              "      <th>72</th>\n",
              "      <td>s73</td>\n",
              "      <td>TV Show</td>\n",
              "      <td>Jack Whitehall: Travels with My Father</td>\n",
              "      <td>NaN</td>\n",
              "      <td>Jack Whitehall, Michael Whitehall</td>\n",
              "      <td>United Kingdom</td>\n",
              "      <td>September 14, 2021</td>\n",
              "      <td>2021</td>\n",
              "      <td>TV-MA</td>\n",
              "      <td>5 Seasons</td>\n",
              "      <td>British TV Shows, Docuseries, International TV...</td>\n",
              "      <td>Jovial comic Jack Whitehall invites his stuffy...</td>\n",
              "    </tr>\n",
              "    <tr>\n",
              "      <th>98</th>\n",
              "      <td>s99</td>\n",
              "      <td>TV Show</td>\n",
              "      <td>Octonauts: Above &amp; Beyond</td>\n",
              "      <td>NaN</td>\n",
              "      <td>Antonio Aakeel, Chipo Chung, Simon Foster, Ter...</td>\n",
              "      <td>United Kingdom</td>\n",
              "      <td>September 7, 2021</td>\n",
              "      <td>2021</td>\n",
              "      <td>TV-Y</td>\n",
              "      <td>1 Season</td>\n",
              "      <td>British TV Shows, Kids' TV</td>\n",
              "      <td>The Octonauts expand their exploration beyond ...</td>\n",
              "    </tr>\n",
              "    <tr>\n",
              "      <th>...</th>\n",
              "      <td>...</td>\n",
              "      <td>...</td>\n",
              "      <td>...</td>\n",
              "      <td>...</td>\n",
              "      <td>...</td>\n",
              "      <td>...</td>\n",
              "      <td>...</td>\n",
              "      <td>...</td>\n",
              "      <td>...</td>\n",
              "      <td>...</td>\n",
              "      <td>...</td>\n",
              "      <td>...</td>\n",
              "    </tr>\n",
              "    <tr>\n",
              "      <th>8740</th>\n",
              "      <td>s8741</td>\n",
              "      <td>TV Show</td>\n",
              "      <td>Wild Alaska</td>\n",
              "      <td>NaN</td>\n",
              "      <td>Dougray Scott</td>\n",
              "      <td>United Kingdom</td>\n",
              "      <td>March 31, 2017</td>\n",
              "      <td>2015</td>\n",
              "      <td>TV-PG</td>\n",
              "      <td>1 Season</td>\n",
              "      <td>British TV Shows, Docuseries, Science &amp; Nature TV</td>\n",
              "      <td>The natural bounty of Alaska sustains its dive...</td>\n",
              "    </tr>\n",
              "    <tr>\n",
              "      <th>8741</th>\n",
              "      <td>s8742</td>\n",
              "      <td>TV Show</td>\n",
              "      <td>Wild Arabia</td>\n",
              "      <td>NaN</td>\n",
              "      <td>Alexander Siddig</td>\n",
              "      <td>United Kingdom</td>\n",
              "      <td>March 31, 2017</td>\n",
              "      <td>2013</td>\n",
              "      <td>TV-PG</td>\n",
              "      <td>1 Season</td>\n",
              "      <td>British TV Shows, Docuseries, Science &amp; Nature TV</td>\n",
              "      <td>The widely varied geology and dramatic landsca...</td>\n",
              "    </tr>\n",
              "    <tr>\n",
              "      <th>8744</th>\n",
              "      <td>s8745</td>\n",
              "      <td>Movie</td>\n",
              "      <td>Williams</td>\n",
              "      <td>Morgan Matthews</td>\n",
              "      <td>NaN</td>\n",
              "      <td>United Kingdom</td>\n",
              "      <td>November 4, 2017</td>\n",
              "      <td>2017</td>\n",
              "      <td>TV-MA</td>\n",
              "      <td>105 min</td>\n",
              "      <td>Documentaries, International Movies, Sports Mo...</td>\n",
              "      <td>This inspiring documentary charts the birth of...</td>\n",
              "    </tr>\n",
              "    <tr>\n",
              "      <th>8758</th>\n",
              "      <td>s8759</td>\n",
              "      <td>TV Show</td>\n",
              "      <td>World's Busiest Cities</td>\n",
              "      <td>NaN</td>\n",
              "      <td>Anita Rani, Ade Adepitan, Dan Snow</td>\n",
              "      <td>United Kingdom</td>\n",
              "      <td>February 1, 2019</td>\n",
              "      <td>2017</td>\n",
              "      <td>TV-PG</td>\n",
              "      <td>1 Season</td>\n",
              "      <td>British TV Shows, Docuseries</td>\n",
              "      <td>From Moscow to Mexico City, three BBC journali...</td>\n",
              "    </tr>\n",
              "    <tr>\n",
              "      <th>8786</th>\n",
              "      <td>s8787</td>\n",
              "      <td>Movie</td>\n",
              "      <td>You Can Tutu</td>\n",
              "      <td>James Brown</td>\n",
              "      <td>Lily O'Regan, Jeannettsy Enriquez Borges, Joel...</td>\n",
              "      <td>United Kingdom</td>\n",
              "      <td>December 31, 2017</td>\n",
              "      <td>2017</td>\n",
              "      <td>TV-G</td>\n",
              "      <td>87 min</td>\n",
              "      <td>Children &amp; Family Movies</td>\n",
              "      <td>A gifted young ballet dancer struggles to find...</td>\n",
              "    </tr>\n",
              "  </tbody>\n",
              "</table>\n",
              "<p>419 rows × 12 columns</p>\n",
              "</div>\n",
              "      <button class=\"colab-df-convert\" onclick=\"convertToInteractive('df-e19a83f9-a999-4d2e-a660-df2d286000e6')\"\n",
              "              title=\"Convert this dataframe to an interactive table.\"\n",
              "              style=\"display:none;\">\n",
              "        \n",
              "  <svg xmlns=\"http://www.w3.org/2000/svg\" height=\"24px\"viewBox=\"0 0 24 24\"\n",
              "       width=\"24px\">\n",
              "    <path d=\"M0 0h24v24H0V0z\" fill=\"none\"/>\n",
              "    <path d=\"M18.56 5.44l.94 2.06.94-2.06 2.06-.94-2.06-.94-.94-2.06-.94 2.06-2.06.94zm-11 1L8.5 8.5l.94-2.06 2.06-.94-2.06-.94L8.5 2.5l-.94 2.06-2.06.94zm10 10l.94 2.06.94-2.06 2.06-.94-2.06-.94-.94-2.06-.94 2.06-2.06.94z\"/><path d=\"M17.41 7.96l-1.37-1.37c-.4-.4-.92-.59-1.43-.59-.52 0-1.04.2-1.43.59L10.3 9.45l-7.72 7.72c-.78.78-.78 2.05 0 2.83L4 21.41c.39.39.9.59 1.41.59.51 0 1.02-.2 1.41-.59l7.78-7.78 2.81-2.81c.8-.78.8-2.07 0-2.86zM5.41 20L4 18.59l7.72-7.72 1.47 1.35L5.41 20z\"/>\n",
              "  </svg>\n",
              "      </button>\n",
              "      \n",
              "  <style>\n",
              "    .colab-df-container {\n",
              "      display:flex;\n",
              "      flex-wrap:wrap;\n",
              "      gap: 12px;\n",
              "    }\n",
              "\n",
              "    .colab-df-convert {\n",
              "      background-color: #E8F0FE;\n",
              "      border: none;\n",
              "      border-radius: 50%;\n",
              "      cursor: pointer;\n",
              "      display: none;\n",
              "      fill: #1967D2;\n",
              "      height: 32px;\n",
              "      padding: 0 0 0 0;\n",
              "      width: 32px;\n",
              "    }\n",
              "\n",
              "    .colab-df-convert:hover {\n",
              "      background-color: #E2EBFA;\n",
              "      box-shadow: 0px 1px 2px rgba(60, 64, 67, 0.3), 0px 1px 3px 1px rgba(60, 64, 67, 0.15);\n",
              "      fill: #174EA6;\n",
              "    }\n",
              "\n",
              "    [theme=dark] .colab-df-convert {\n",
              "      background-color: #3B4455;\n",
              "      fill: #D2E3FC;\n",
              "    }\n",
              "\n",
              "    [theme=dark] .colab-df-convert:hover {\n",
              "      background-color: #434B5C;\n",
              "      box-shadow: 0px 1px 3px 1px rgba(0, 0, 0, 0.15);\n",
              "      filter: drop-shadow(0px 1px 2px rgba(0, 0, 0, 0.3));\n",
              "      fill: #FFFFFF;\n",
              "    }\n",
              "  </style>\n",
              "\n",
              "      <script>\n",
              "        const buttonEl =\n",
              "          document.querySelector('#df-e19a83f9-a999-4d2e-a660-df2d286000e6 button.colab-df-convert');\n",
              "        buttonEl.style.display =\n",
              "          google.colab.kernel.accessAllowed ? 'block' : 'none';\n",
              "\n",
              "        async function convertToInteractive(key) {\n",
              "          const element = document.querySelector('#df-e19a83f9-a999-4d2e-a660-df2d286000e6');\n",
              "          const dataTable =\n",
              "            await google.colab.kernel.invokeFunction('convertToInteractive',\n",
              "                                                     [key], {});\n",
              "          if (!dataTable) return;\n",
              "\n",
              "          const docLinkHtml = 'Like what you see? Visit the ' +\n",
              "            '<a target=\"_blank\" href=https://colab.research.google.com/notebooks/data_table.ipynb>data table notebook</a>'\n",
              "            + ' to learn more about interactive tables.';\n",
              "          element.innerHTML = '';\n",
              "          dataTable['output_type'] = 'display_data';\n",
              "          await google.colab.output.renderOutput(dataTable, element);\n",
              "          const docLink = document.createElement('div');\n",
              "          docLink.innerHTML = docLinkHtml;\n",
              "          element.appendChild(docLink);\n",
              "        }\n",
              "      </script>\n",
              "    </div>\n",
              "  </div>\n",
              "  "
            ]
          },
          "metadata": {},
          "execution_count": 33
        }
      ]
    },
    {
      "cell_type": "code",
      "source": [
        "netflix_movies_df[netflix_movies_df['cast'].str.contains('Tom Cruise')]"
      ],
      "metadata": {
        "colab": {
          "base_uri": "https://localhost:8080/",
          "height": 311
        },
        "id": "FqmHbPg9aS_o",
        "outputId": "81ebabd3-c55b-4469-f6a1-d86c8501d566"
      },
      "execution_count": null,
      "outputs": [
        {
          "output_type": "error",
          "ename": "ValueError",
          "evalue": "ignored",
          "traceback": [
            "\u001b[0;31m---------------------------------------------------------------------------\u001b[0m",
            "\u001b[0;31mValueError\u001b[0m                                Traceback (most recent call last)",
            "\u001b[0;32m<ipython-input-34-5f62f8bcd87c>\u001b[0m in \u001b[0;36m<module>\u001b[0;34m\u001b[0m\n\u001b[0;32m----> 1\u001b[0;31m \u001b[0mnetflix_movies_df\u001b[0m\u001b[0;34m[\u001b[0m\u001b[0mnetflix_movies_df\u001b[0m\u001b[0;34m[\u001b[0m\u001b[0;34m'cast'\u001b[0m\u001b[0;34m]\u001b[0m\u001b[0;34m.\u001b[0m\u001b[0mstr\u001b[0m\u001b[0;34m.\u001b[0m\u001b[0mcontains\u001b[0m\u001b[0;34m(\u001b[0m\u001b[0;34m'Tom Cruise'\u001b[0m\u001b[0;34m)\u001b[0m\u001b[0;34m]\u001b[0m\u001b[0;34m\u001b[0m\u001b[0;34m\u001b[0m\u001b[0m\n\u001b[0m",
            "\u001b[0;32m/usr/local/lib/python3.8/dist-packages/pandas/core/frame.py\u001b[0m in \u001b[0;36m__getitem__\u001b[0;34m(self, key)\u001b[0m\n\u001b[1;32m   3446\u001b[0m \u001b[0;34m\u001b[0m\u001b[0m\n\u001b[1;32m   3447\u001b[0m         \u001b[0;31m# Do we have a (boolean) 1d indexer?\u001b[0m\u001b[0;34m\u001b[0m\u001b[0;34m\u001b[0m\u001b[0;34m\u001b[0m\u001b[0m\n\u001b[0;32m-> 3448\u001b[0;31m         \u001b[0;32mif\u001b[0m \u001b[0mcom\u001b[0m\u001b[0;34m.\u001b[0m\u001b[0mis_bool_indexer\u001b[0m\u001b[0;34m(\u001b[0m\u001b[0mkey\u001b[0m\u001b[0;34m)\u001b[0m\u001b[0;34m:\u001b[0m\u001b[0;34m\u001b[0m\u001b[0;34m\u001b[0m\u001b[0m\n\u001b[0m\u001b[1;32m   3449\u001b[0m             \u001b[0;32mreturn\u001b[0m \u001b[0mself\u001b[0m\u001b[0;34m.\u001b[0m\u001b[0m_getitem_bool_array\u001b[0m\u001b[0;34m(\u001b[0m\u001b[0mkey\u001b[0m\u001b[0;34m)\u001b[0m\u001b[0;34m\u001b[0m\u001b[0;34m\u001b[0m\u001b[0m\n\u001b[1;32m   3450\u001b[0m \u001b[0;34m\u001b[0m\u001b[0m\n",
            "\u001b[0;32m/usr/local/lib/python3.8/dist-packages/pandas/core/common.py\u001b[0m in \u001b[0;36mis_bool_indexer\u001b[0;34m(key)\u001b[0m\n\u001b[1;32m    137\u001b[0m                     \u001b[0;31m# Don't raise on e.g. [\"A\", \"B\", np.nan], see\u001b[0m\u001b[0;34m\u001b[0m\u001b[0;34m\u001b[0m\u001b[0;34m\u001b[0m\u001b[0m\n\u001b[1;32m    138\u001b[0m                     \u001b[0;31m#  test_loc_getitem_list_of_labels_categoricalindex_with_na\u001b[0m\u001b[0;34m\u001b[0m\u001b[0;34m\u001b[0m\u001b[0;34m\u001b[0m\u001b[0m\n\u001b[0;32m--> 139\u001b[0;31m                     \u001b[0;32mraise\u001b[0m \u001b[0mValueError\u001b[0m\u001b[0;34m(\u001b[0m\u001b[0mna_msg\u001b[0m\u001b[0;34m)\u001b[0m\u001b[0;34m\u001b[0m\u001b[0;34m\u001b[0m\u001b[0m\n\u001b[0m\u001b[1;32m    140\u001b[0m                 \u001b[0;32mreturn\u001b[0m \u001b[0;32mFalse\u001b[0m\u001b[0;34m\u001b[0m\u001b[0;34m\u001b[0m\u001b[0m\n\u001b[1;32m    141\u001b[0m             \u001b[0;32mreturn\u001b[0m \u001b[0;32mTrue\u001b[0m\u001b[0;34m\u001b[0m\u001b[0;34m\u001b[0m\u001b[0m\n",
            "\u001b[0;31mValueError\u001b[0m: Cannot mask with non-boolean array containing NA / NaN values"
          ]
        }
      ]
    },
    {
      "cell_type": "code",
      "source": [
        "netflix_movies_df_new[netflix_movies_df_new['cast'].str.contains('Daniel Craig')]"
      ],
      "metadata": {
        "id": "vd790uIGbyhN"
      },
      "execution_count": null,
      "outputs": []
    },
    {
      "cell_type": "code",
      "source": [
        "netflix_movies_df_new[netflix_movies_df_new['cast'].str.contains('Jennifer Lawrence')]"
      ],
      "metadata": {
        "id": "JoDTEO4Uc7tZ"
      },
      "execution_count": null,
      "outputs": []
    },
    {
      "cell_type": "code",
      "source": [
        "netflix_movies_df[(netflix_movies_df['type'] == 'Movie') & (netflix_movies_df['rating'] == 'PG-13')]"
      ],
      "metadata": {
        "id": "MQH7fyaWeZkd"
      },
      "execution_count": null,
      "outputs": []
    },
    {
      "cell_type": "code",
      "source": [
        "netflix_movies_df[((netflix_movies_df['type'] == 'Movie') & (netflix_movies_df['rating'] == 'TV-G')) | ((netflix_movies_df['type'] == 'TV Show') & (netflix_movies_df['rating'] == 'TV-G'))]\n"
      ],
      "metadata": {
        "id": "n-ggPzr5EUEZ"
      },
      "execution_count": null,
      "outputs": []
    },
    {
      "cell_type": "code",
      "source": [
        "netflix_movies_df[(netflix_movies_df['type'] == 'Movie') & (netflix_movies_df['rating'] == 'PG-13') ].shape"
      ],
      "metadata": {
        "id": "3d3jGbkXgQlN"
      },
      "execution_count": null,
      "outputs": []
    },
    {
      "cell_type": "code",
      "source": [
        "netflix_movies_df[(netflix_movies_df['type'] == 'Movie') & (netflix_movies_df['rating'] == 'PG-13') & (netflix_movies_df['country']== 'Canada')]"
      ],
      "metadata": {
        "id": "8eg6OBccgrDf"
      },
      "execution_count": null,
      "outputs": []
    },
    {
      "cell_type": "code",
      "source": [
        "netflix_movies_df[(netflix_movies_df['type'] == 'Movie') & (netflix_movies_df['rating'] == 'PG-13') & (netflix_movies_df['country']== 'Canada')].shape"
      ],
      "metadata": {
        "id": "CsIWg-kKgdxN"
      },
      "execution_count": null,
      "outputs": []
    },
    {
      "cell_type": "code",
      "source": [
        "netflix_movies_df[(netflix_movies_df['type'] == 'TV Show') & (netflix_movies_df['rating'] == 'R')]"
      ],
      "metadata": {
        "id": "iJS5Hw3zgqUl"
      },
      "execution_count": null,
      "outputs": []
    },
    {
      "cell_type": "code",
      "source": [
        "netflix_movies_df[(netflix_movies_df['type'] == 'TV Show') & (netflix_movies_df['rating'] == 'R') & (netflix_movies_df['release_year'] > 2003)]"
      ],
      "metadata": {
        "id": "QgmX6jjGgqYN"
      },
      "execution_count": null,
      "outputs": []
    },
    {
      "cell_type": "code",
      "source": [
        "netflix_movies_df[['Duration_number', 'Unit']] = netflix_movies_df['duration'].str.split(' ', expand = True)\n"
      ],
      "metadata": {
        "id": "5cOx9YIuf5TK"
      },
      "execution_count": null,
      "outputs": []
    },
    {
      "cell_type": "code",
      "source": [
        "netflix_movies_df[['Duration_number', 'Unit']]"
      ],
      "metadata": {
        "id": "fhR5G30dnAhv"
      },
      "execution_count": null,
      "outputs": []
    },
    {
      "cell_type": "code",
      "source": [
        "netflix_movies_df['Duration_number'] = pd.to_numeric(netflix_movies_df['Duration_number'], errors='coerce')\n",
        "netflix_movies_df['Duration_number'].max()\n"
      ],
      "metadata": {
        "id": "bMVteIZRqxnW"
      },
      "execution_count": null,
      "outputs": []
    },
    {
      "cell_type": "code",
      "source": [
        "netflix_movies_df['Duration_number'].min()"
      ],
      "metadata": {
        "id": "kjWWA0-bneHP"
      },
      "execution_count": null,
      "outputs": []
    },
    {
      "cell_type": "code",
      "source": [
        "netflix_movies_df['Duration_number'].mean()"
      ],
      "metadata": {
        "id": "AD1o-cLKqZi6"
      },
      "execution_count": null,
      "outputs": []
    },
    {
      "cell_type": "code",
      "source": [
        "netflix_movies_df_only_TV_Show = netflix_movies_df[netflix_movies_df['type'] == 'TV Show']"
      ],
      "metadata": {
        "id": "As3RMrsbyPPO"
      },
      "execution_count": null,
      "outputs": []
    },
    {
      "cell_type": "code",
      "source": [
        "netflix_movies_df_only_TV_Show.head(5)"
      ],
      "metadata": {
        "id": "JiHkg3nQ1qu1"
      },
      "execution_count": null,
      "outputs": []
    },
    {
      "cell_type": "code",
      "source": [
        "netflix_movies_df_only_TV_Show.country.value_counts()"
      ],
      "metadata": {
        "id": "IQD6aqSf1xWz"
      },
      "execution_count": null,
      "outputs": []
    },
    {
      "cell_type": "code",
      "source": [
        "#country which has the highest number of TV Show\n",
        "netflix_movies_df_only_TV_Show.country.value_counts().head(1)"
      ],
      "metadata": {
        "id": "-kdGY8EO2qqk"
      },
      "execution_count": null,
      "outputs": []
    },
    {
      "cell_type": "code",
      "source": [
        "netflix_movies_df.sort_values(by='release_year')"
      ],
      "metadata": {
        "id": "x4F-qKIn3R_P"
      },
      "execution_count": null,
      "outputs": []
    },
    {
      "cell_type": "code",
      "source": [
        "#The newest movies and tv show are shown \n",
        "netflix_movies_df.sort_values(by='release_year', ascending=False)"
      ],
      "metadata": {
        "id": "Zish5_C_4bp-"
      },
      "execution_count": null,
      "outputs": []
    },
    {
      "cell_type": "code",
      "source": [
        "netflix_movies_df[netflix_movies_df['release_year'] > 2005]"
      ],
      "metadata": {
        "id": "f575eRNq1ItZ"
      },
      "execution_count": null,
      "outputs": []
    },
    {
      "cell_type": "code",
      "source": [
        "netflix_movies_df[netflix_movies_df['country'] == 'United States']\n"
      ],
      "metadata": {
        "id": "-Kh-WEwt1Ip2"
      },
      "execution_count": null,
      "outputs": []
    },
    {
      "cell_type": "code",
      "source": [
        "netflix_movies_df[(netflix_movies_df['country'] == 'United States') & (netflix_movies_df['rating'] == 'R') & \n",
        "                  (netflix_movies_df['listed_in'] == 'Comedies')]"
      ],
      "metadata": {
        "id": "epL5813K1Inp"
      },
      "execution_count": null,
      "outputs": []
    },
    {
      "cell_type": "code",
      "source": [
        "grouped_movies = netflix_movies_df.groupby('rating').get_group('PG-13')\n",
        "grouped_movies = grouped_movies[(grouped_movies['type'] == 'Movie') & (grouped_movies['release_year'] >= 2002)]\n",
        "grouped_movies"
      ],
      "metadata": {
        "id": "0_kdD0jX1Ijm",
        "colab": {
          "base_uri": "https://localhost:8080/",
          "height": 988
        },
        "outputId": "f6ea103d-4ef5-4dcb-c3f4-87344e3a071d"
      },
      "execution_count": null,
      "outputs": [
        {
          "output_type": "execute_result",
          "data": {
            "text/plain": [
              "     show_id   type                    title         director  \\\n",
              "0         s1  Movie     Dick Johnson Is Dead  Kirsten Johnson   \n",
              "9        s10  Movie             The Starling   Theodore Melfi   \n",
              "27       s28  Movie                Grown Ups     Dennis Dugan   \n",
              "28       s29  Movie               Dark Skies    Scott Stewart   \n",
              "29       s30  Movie                 Paranoia   Robert Luketic   \n",
              "...      ...    ...                      ...              ...   \n",
              "8743   s8744  Movie                 Wildlife        Paul Dano   \n",
              "8757   s8758  Movie       World Trade Center     Oliver Stone   \n",
              "8766   s8767  Movie                      XXx        Rob Cohen   \n",
              "8767   s8768  Movie  XXX: State of the Union     Lee Tamahori   \n",
              "8782   s8783  Movie              Yoga Hosers      Kevin Smith   \n",
              "\n",
              "                                                   cast  \\\n",
              "0                                                   NaN   \n",
              "9     Melissa McCarthy, Chris O'Dowd, Kevin Kline, T...   \n",
              "27    Adam Sandler, Kevin James, Chris Rock, David S...   \n",
              "28    Keri Russell, Josh Hamilton, J.K. Simmons, Dak...   \n",
              "29    Liam Hemsworth, Gary Oldman, Amber Heard, Harr...   \n",
              "...                                                 ...   \n",
              "8743  Carey Mulligan, Ed Oxenbould, Bill Camp, Jake ...   \n",
              "8757  Nicolas Cage, Michael Peña, Maggie Gyllenhaal,...   \n",
              "8766  Vin Diesel, Asia Argento, Marton Csokas, Samue...   \n",
              "8767  Ice Cube, Samuel L. Jackson, Willem Dafoe, Sco...   \n",
              "8782  Harley Quinn Smith, Lily-Rose Depp, Johnny Dep...   \n",
              "\n",
              "                           country          date_added  release_year rating  \\\n",
              "0                    United States  September 25, 2021          2020  PG-13   \n",
              "9                    United States  September 24, 2021          2021  PG-13   \n",
              "27                   United States  September 20, 2021          2010  PG-13   \n",
              "28                   United States  September 19, 2021          2013  PG-13   \n",
              "29    United States, India, France  September 19, 2021          2013  PG-13   \n",
              "...                            ...                 ...           ...    ...   \n",
              "8743                 United States   September 1, 2020          2018  PG-13   \n",
              "8757                 United States   November 20, 2019          2006  PG-13   \n",
              "8766                 United States     January 1, 2019          2002  PG-13   \n",
              "8767                 United States     January 1, 2019          2005  PG-13   \n",
              "8782                 United States    December 2, 2016          2016  PG-13   \n",
              "\n",
              "     duration                                    listed_in  \\\n",
              "0      90 min                                Documentaries   \n",
              "9     104 min                             Comedies, Dramas   \n",
              "27    103 min                                     Comedies   \n",
              "28     97 min              Horror Movies, Sci-Fi & Fantasy   \n",
              "29    106 min                                    Thrillers   \n",
              "...       ...                                          ...   \n",
              "8743  105 min                   Dramas, Independent Movies   \n",
              "8757  129 min                   Action & Adventure, Dramas   \n",
              "8766  124 min            Action & Adventure, Sports Movies   \n",
              "8767  101 min                           Action & Adventure   \n",
              "8782   88 min  Comedies, Horror Movies, Independent Movies   \n",
              "\n",
              "                                            description  \n",
              "0     As her father nears the end of his life, filmm...  \n",
              "9     A woman adjusting to life after a loss contend...  \n",
              "27    Mourning the loss of their beloved junior high...  \n",
              "28    A family’s idyllic suburban life shatters when...  \n",
              "29    Blackmailed by his company's CEO, a low-level ...  \n",
              "...                                                 ...  \n",
              "8743  A teen’s life in 1960 Montana grows complicate...  \n",
              "8757  Working under treacherous conditions, an army ...  \n",
              "8766  A notorious underground rush-seeker deemed unt...  \n",
              "8767  In this action-packed follow-up to XXX, U.S. i...  \n",
              "8782  With an all-important high school party at sta...  \n",
              "\n",
              "[403 rows x 12 columns]"
            ],
            "text/html": [
              "\n",
              "  <div id=\"df-4bebcdfd-94e1-4106-91f4-62184014d72f\">\n",
              "    <div class=\"colab-df-container\">\n",
              "      <div>\n",
              "<style scoped>\n",
              "    .dataframe tbody tr th:only-of-type {\n",
              "        vertical-align: middle;\n",
              "    }\n",
              "\n",
              "    .dataframe tbody tr th {\n",
              "        vertical-align: top;\n",
              "    }\n",
              "\n",
              "    .dataframe thead th {\n",
              "        text-align: right;\n",
              "    }\n",
              "</style>\n",
              "<table border=\"1\" class=\"dataframe\">\n",
              "  <thead>\n",
              "    <tr style=\"text-align: right;\">\n",
              "      <th></th>\n",
              "      <th>show_id</th>\n",
              "      <th>type</th>\n",
              "      <th>title</th>\n",
              "      <th>director</th>\n",
              "      <th>cast</th>\n",
              "      <th>country</th>\n",
              "      <th>date_added</th>\n",
              "      <th>release_year</th>\n",
              "      <th>rating</th>\n",
              "      <th>duration</th>\n",
              "      <th>listed_in</th>\n",
              "      <th>description</th>\n",
              "    </tr>\n",
              "  </thead>\n",
              "  <tbody>\n",
              "    <tr>\n",
              "      <th>0</th>\n",
              "      <td>s1</td>\n",
              "      <td>Movie</td>\n",
              "      <td>Dick Johnson Is Dead</td>\n",
              "      <td>Kirsten Johnson</td>\n",
              "      <td>NaN</td>\n",
              "      <td>United States</td>\n",
              "      <td>September 25, 2021</td>\n",
              "      <td>2020</td>\n",
              "      <td>PG-13</td>\n",
              "      <td>90 min</td>\n",
              "      <td>Documentaries</td>\n",
              "      <td>As her father nears the end of his life, filmm...</td>\n",
              "    </tr>\n",
              "    <tr>\n",
              "      <th>9</th>\n",
              "      <td>s10</td>\n",
              "      <td>Movie</td>\n",
              "      <td>The Starling</td>\n",
              "      <td>Theodore Melfi</td>\n",
              "      <td>Melissa McCarthy, Chris O'Dowd, Kevin Kline, T...</td>\n",
              "      <td>United States</td>\n",
              "      <td>September 24, 2021</td>\n",
              "      <td>2021</td>\n",
              "      <td>PG-13</td>\n",
              "      <td>104 min</td>\n",
              "      <td>Comedies, Dramas</td>\n",
              "      <td>A woman adjusting to life after a loss contend...</td>\n",
              "    </tr>\n",
              "    <tr>\n",
              "      <th>27</th>\n",
              "      <td>s28</td>\n",
              "      <td>Movie</td>\n",
              "      <td>Grown Ups</td>\n",
              "      <td>Dennis Dugan</td>\n",
              "      <td>Adam Sandler, Kevin James, Chris Rock, David S...</td>\n",
              "      <td>United States</td>\n",
              "      <td>September 20, 2021</td>\n",
              "      <td>2010</td>\n",
              "      <td>PG-13</td>\n",
              "      <td>103 min</td>\n",
              "      <td>Comedies</td>\n",
              "      <td>Mourning the loss of their beloved junior high...</td>\n",
              "    </tr>\n",
              "    <tr>\n",
              "      <th>28</th>\n",
              "      <td>s29</td>\n",
              "      <td>Movie</td>\n",
              "      <td>Dark Skies</td>\n",
              "      <td>Scott Stewart</td>\n",
              "      <td>Keri Russell, Josh Hamilton, J.K. Simmons, Dak...</td>\n",
              "      <td>United States</td>\n",
              "      <td>September 19, 2021</td>\n",
              "      <td>2013</td>\n",
              "      <td>PG-13</td>\n",
              "      <td>97 min</td>\n",
              "      <td>Horror Movies, Sci-Fi &amp; Fantasy</td>\n",
              "      <td>A family’s idyllic suburban life shatters when...</td>\n",
              "    </tr>\n",
              "    <tr>\n",
              "      <th>29</th>\n",
              "      <td>s30</td>\n",
              "      <td>Movie</td>\n",
              "      <td>Paranoia</td>\n",
              "      <td>Robert Luketic</td>\n",
              "      <td>Liam Hemsworth, Gary Oldman, Amber Heard, Harr...</td>\n",
              "      <td>United States, India, France</td>\n",
              "      <td>September 19, 2021</td>\n",
              "      <td>2013</td>\n",
              "      <td>PG-13</td>\n",
              "      <td>106 min</td>\n",
              "      <td>Thrillers</td>\n",
              "      <td>Blackmailed by his company's CEO, a low-level ...</td>\n",
              "    </tr>\n",
              "    <tr>\n",
              "      <th>...</th>\n",
              "      <td>...</td>\n",
              "      <td>...</td>\n",
              "      <td>...</td>\n",
              "      <td>...</td>\n",
              "      <td>...</td>\n",
              "      <td>...</td>\n",
              "      <td>...</td>\n",
              "      <td>...</td>\n",
              "      <td>...</td>\n",
              "      <td>...</td>\n",
              "      <td>...</td>\n",
              "      <td>...</td>\n",
              "    </tr>\n",
              "    <tr>\n",
              "      <th>8743</th>\n",
              "      <td>s8744</td>\n",
              "      <td>Movie</td>\n",
              "      <td>Wildlife</td>\n",
              "      <td>Paul Dano</td>\n",
              "      <td>Carey Mulligan, Ed Oxenbould, Bill Camp, Jake ...</td>\n",
              "      <td>United States</td>\n",
              "      <td>September 1, 2020</td>\n",
              "      <td>2018</td>\n",
              "      <td>PG-13</td>\n",
              "      <td>105 min</td>\n",
              "      <td>Dramas, Independent Movies</td>\n",
              "      <td>A teen’s life in 1960 Montana grows complicate...</td>\n",
              "    </tr>\n",
              "    <tr>\n",
              "      <th>8757</th>\n",
              "      <td>s8758</td>\n",
              "      <td>Movie</td>\n",
              "      <td>World Trade Center</td>\n",
              "      <td>Oliver Stone</td>\n",
              "      <td>Nicolas Cage, Michael Peña, Maggie Gyllenhaal,...</td>\n",
              "      <td>United States</td>\n",
              "      <td>November 20, 2019</td>\n",
              "      <td>2006</td>\n",
              "      <td>PG-13</td>\n",
              "      <td>129 min</td>\n",
              "      <td>Action &amp; Adventure, Dramas</td>\n",
              "      <td>Working under treacherous conditions, an army ...</td>\n",
              "    </tr>\n",
              "    <tr>\n",
              "      <th>8766</th>\n",
              "      <td>s8767</td>\n",
              "      <td>Movie</td>\n",
              "      <td>XXx</td>\n",
              "      <td>Rob Cohen</td>\n",
              "      <td>Vin Diesel, Asia Argento, Marton Csokas, Samue...</td>\n",
              "      <td>United States</td>\n",
              "      <td>January 1, 2019</td>\n",
              "      <td>2002</td>\n",
              "      <td>PG-13</td>\n",
              "      <td>124 min</td>\n",
              "      <td>Action &amp; Adventure, Sports Movies</td>\n",
              "      <td>A notorious underground rush-seeker deemed unt...</td>\n",
              "    </tr>\n",
              "    <tr>\n",
              "      <th>8767</th>\n",
              "      <td>s8768</td>\n",
              "      <td>Movie</td>\n",
              "      <td>XXX: State of the Union</td>\n",
              "      <td>Lee Tamahori</td>\n",
              "      <td>Ice Cube, Samuel L. Jackson, Willem Dafoe, Sco...</td>\n",
              "      <td>United States</td>\n",
              "      <td>January 1, 2019</td>\n",
              "      <td>2005</td>\n",
              "      <td>PG-13</td>\n",
              "      <td>101 min</td>\n",
              "      <td>Action &amp; Adventure</td>\n",
              "      <td>In this action-packed follow-up to XXX, U.S. i...</td>\n",
              "    </tr>\n",
              "    <tr>\n",
              "      <th>8782</th>\n",
              "      <td>s8783</td>\n",
              "      <td>Movie</td>\n",
              "      <td>Yoga Hosers</td>\n",
              "      <td>Kevin Smith</td>\n",
              "      <td>Harley Quinn Smith, Lily-Rose Depp, Johnny Dep...</td>\n",
              "      <td>United States</td>\n",
              "      <td>December 2, 2016</td>\n",
              "      <td>2016</td>\n",
              "      <td>PG-13</td>\n",
              "      <td>88 min</td>\n",
              "      <td>Comedies, Horror Movies, Independent Movies</td>\n",
              "      <td>With an all-important high school party at sta...</td>\n",
              "    </tr>\n",
              "  </tbody>\n",
              "</table>\n",
              "<p>403 rows × 12 columns</p>\n",
              "</div>\n",
              "      <button class=\"colab-df-convert\" onclick=\"convertToInteractive('df-4bebcdfd-94e1-4106-91f4-62184014d72f')\"\n",
              "              title=\"Convert this dataframe to an interactive table.\"\n",
              "              style=\"display:none;\">\n",
              "        \n",
              "  <svg xmlns=\"http://www.w3.org/2000/svg\" height=\"24px\"viewBox=\"0 0 24 24\"\n",
              "       width=\"24px\">\n",
              "    <path d=\"M0 0h24v24H0V0z\" fill=\"none\"/>\n",
              "    <path d=\"M18.56 5.44l.94 2.06.94-2.06 2.06-.94-2.06-.94-.94-2.06-.94 2.06-2.06.94zm-11 1L8.5 8.5l.94-2.06 2.06-.94-2.06-.94L8.5 2.5l-.94 2.06-2.06.94zm10 10l.94 2.06.94-2.06 2.06-.94-2.06-.94-.94-2.06-.94 2.06-2.06.94z\"/><path d=\"M17.41 7.96l-1.37-1.37c-.4-.4-.92-.59-1.43-.59-.52 0-1.04.2-1.43.59L10.3 9.45l-7.72 7.72c-.78.78-.78 2.05 0 2.83L4 21.41c.39.39.9.59 1.41.59.51 0 1.02-.2 1.41-.59l7.78-7.78 2.81-2.81c.8-.78.8-2.07 0-2.86zM5.41 20L4 18.59l7.72-7.72 1.47 1.35L5.41 20z\"/>\n",
              "  </svg>\n",
              "      </button>\n",
              "      \n",
              "  <style>\n",
              "    .colab-df-container {\n",
              "      display:flex;\n",
              "      flex-wrap:wrap;\n",
              "      gap: 12px;\n",
              "    }\n",
              "\n",
              "    .colab-df-convert {\n",
              "      background-color: #E8F0FE;\n",
              "      border: none;\n",
              "      border-radius: 50%;\n",
              "      cursor: pointer;\n",
              "      display: none;\n",
              "      fill: #1967D2;\n",
              "      height: 32px;\n",
              "      padding: 0 0 0 0;\n",
              "      width: 32px;\n",
              "    }\n",
              "\n",
              "    .colab-df-convert:hover {\n",
              "      background-color: #E2EBFA;\n",
              "      box-shadow: 0px 1px 2px rgba(60, 64, 67, 0.3), 0px 1px 3px 1px rgba(60, 64, 67, 0.15);\n",
              "      fill: #174EA6;\n",
              "    }\n",
              "\n",
              "    [theme=dark] .colab-df-convert {\n",
              "      background-color: #3B4455;\n",
              "      fill: #D2E3FC;\n",
              "    }\n",
              "\n",
              "    [theme=dark] .colab-df-convert:hover {\n",
              "      background-color: #434B5C;\n",
              "      box-shadow: 0px 1px 3px 1px rgba(0, 0, 0, 0.15);\n",
              "      filter: drop-shadow(0px 1px 2px rgba(0, 0, 0, 0.3));\n",
              "      fill: #FFFFFF;\n",
              "    }\n",
              "  </style>\n",
              "\n",
              "      <script>\n",
              "        const buttonEl =\n",
              "          document.querySelector('#df-4bebcdfd-94e1-4106-91f4-62184014d72f button.colab-df-convert');\n",
              "        buttonEl.style.display =\n",
              "          google.colab.kernel.accessAllowed ? 'block' : 'none';\n",
              "\n",
              "        async function convertToInteractive(key) {\n",
              "          const element = document.querySelector('#df-4bebcdfd-94e1-4106-91f4-62184014d72f');\n",
              "          const dataTable =\n",
              "            await google.colab.kernel.invokeFunction('convertToInteractive',\n",
              "                                                     [key], {});\n",
              "          if (!dataTable) return;\n",
              "\n",
              "          const docLinkHtml = 'Like what you see? Visit the ' +\n",
              "            '<a target=\"_blank\" href=https://colab.research.google.com/notebooks/data_table.ipynb>data table notebook</a>'\n",
              "            + ' to learn more about interactive tables.';\n",
              "          element.innerHTML = '';\n",
              "          dataTable['output_type'] = 'display_data';\n",
              "          await google.colab.output.renderOutput(dataTable, element);\n",
              "          const docLink = document.createElement('div');\n",
              "          docLink.innerHTML = docLinkHtml;\n",
              "          element.appendChild(docLink);\n",
              "        }\n",
              "      </script>\n",
              "    </div>\n",
              "  </div>\n",
              "  "
            ]
          },
          "metadata": {},
          "execution_count": 23
        }
      ]
    },
    {
      "cell_type": "code",
      "source": [
        "len(grouped_movies)\n",
        "Percentage_of_grouped_movies = 403/8807*100\n",
        "print(Percentage_of_grouped_movies)"
      ],
      "metadata": {
        "id": "we6OlbEvlngf",
        "colab": {
          "base_uri": "https://localhost:8080/"
        },
        "outputId": "42725451-b4ce-48ae-eb3a-7f0021fb0bb6"
      },
      "execution_count": null,
      "outputs": [
        {
          "output_type": "stream",
          "name": "stdout",
          "text": [
            "4.575905529692291\n"
          ]
        }
      ]
    },
    {
      "cell_type": "code",
      "source": [
        "Steven_Spielberg_movies = netflix_movies_df[netflix_movies_df['director']=='Steven Spielberg']\n",
        "martin_scorsese_movies = netflix_movies_df[netflix_movies_df['director']=='Martin Scorsese']\n",
        "Christopher_Nolan_movies = netflix_movies_df[netflix_movies_df['director']=='Christopher Nolan']\n"
      ],
      "metadata": {
        "id": "e86pZvkRn3Wn"
      },
      "execution_count": null,
      "outputs": []
    },
    {
      "cell_type": "code",
      "source": [
        "diCaprio_movies = netflix_movies_df[netflix_movies_df['cast']=='Leonardo DiCaprio']"
      ],
      "metadata": {
        "id": "nFl2arU3t0ir"
      },
      "execution_count": null,
      "outputs": []
    },
    {
      "cell_type": "code",
      "source": [
        "Christopher_Nolan_movies"
      ],
      "metadata": {
        "id": "OhxOy0iFtVbw"
      },
      "execution_count": null,
      "outputs": []
    },
    {
      "cell_type": "code",
      "source": [
        "martin_scorsese_movies"
      ],
      "metadata": {
        "id": "xD0_PUntp-0A"
      },
      "execution_count": null,
      "outputs": []
    },
    {
      "cell_type": "code",
      "source": [
        "len(martin_scorsese_movies)"
      ],
      "metadata": {
        "id": "fndeWgKZ5JH4"
      },
      "execution_count": null,
      "outputs": []
    },
    {
      "cell_type": "code",
      "source": [
        "Steven_Spielberg_movies"
      ],
      "metadata": {
        "id": "NjSlHsvbp96O"
      },
      "execution_count": null,
      "outputs": []
    },
    {
      "cell_type": "code",
      "source": [
        "#best movies contains movies directed by some outstandig directors\n",
        "best_movies = netflix_movies_df[(netflix_movies_df['director'].isin(['Martin Scorsese', 'Steven Spielberg', 'Christopher Nolan'])) &\n",
        "                                 (netflix_movies_df['title'].isin(['Shutter Island', 'Gangs of New York', 'Inception', \"Schindler's List\"]))]\n"
      ],
      "metadata": {
        "id": "K58sK1pTrbcQ"
      },
      "execution_count": null,
      "outputs": []
    },
    {
      "cell_type": "code",
      "source": [
        "best_movies"
      ],
      "metadata": {
        "id": "1QI7Nyhc2HY7"
      },
      "execution_count": null,
      "outputs": []
    },
    {
      "cell_type": "code",
      "source": [
        "best_movies['director'].value_counts().plot(kind='bar')\n"
      ],
      "metadata": {
        "id": "gz3xSaYc6mL6",
        "outputId": "81bdff0d-0631-476e-abb1-31af401942ee",
        "colab": {
          "base_uri": "https://localhost:8080/",
          "height": 363
        }
      },
      "execution_count": null,
      "outputs": [
        {
          "output_type": "execute_result",
          "data": {
            "text/plain": [
              "<matplotlib.axes._subplots.AxesSubplot at 0x7f5f1901ab50>"
            ]
          },
          "metadata": {},
          "execution_count": 39
        },
        {
          "output_type": "display_data",
          "data": {
            "text/plain": [
              "<Figure size 432x288 with 1 Axes>"
            ],
            "image/png": "[encoded data removed]"
          },
          "metadata": {
            "needs_background": "light"
          }
        }
      ]
    },
    {
      "cell_type": "code",
      "source": [
        "new_movies = netflix_movies_df[netflix_movies_df['date_added'] >= 'September 24, 2021']\n"
      ],
      "metadata": {
        "id": "7hqLYUb1qAnF"
      },
      "execution_count": null,
      "outputs": []
    },
    {
      "cell_type": "code",
      "source": [
        "new_movies"
      ],
      "metadata": {
        "id": "tDsMjhnwyiWm",
        "outputId": "2bcdda2d-ccc8-45bf-b623-f2384d956ea9",
        "colab": {
          "base_uri": "https://localhost:8080/",
          "height": 1000
        }
      },
      "execution_count": null,
      "outputs": [
        {
          "output_type": "execute_result",
          "data": {
            "text/plain": [
              "     show_id     type                             title           director  \\\n",
              "0         s1    Movie              Dick Johnson Is Dead    Kirsten Johnson   \n",
              "1         s2  TV Show                     Blood & Water                NaN   \n",
              "2         s3  TV Show                         Ganglands    Julien Leclercq   \n",
              "3         s4  TV Show             Jailbirds New Orleans                NaN   \n",
              "4         s5  TV Show                      Kota Factory                NaN   \n",
              "...      ...      ...                               ...                ...   \n",
              "8503   s8504  TV Show                     The Seventies                NaN   \n",
              "8509   s8510    Movie      The Sinking Of Van Der Wijck       Sunil Soraya   \n",
              "8667   s8668    Movie  USS Indianapolis: Men of Courage  Mario Van Peebles   \n",
              "8711   s8712    Movie                     Weeds on Fire       Chi Fat Chan   \n",
              "8733   s8734    Movie                      White Island    Benjamin Turner   \n",
              "\n",
              "                                                   cast         country  \\\n",
              "0                                                   NaN   United States   \n",
              "1     Ama Qamata, Khosi Ngema, Gail Mabalane, Thaban...    South Africa   \n",
              "2     Sami Bouajila, Tracy Gotoas, Samuel Jouy, Nabi...             NaN   \n",
              "3                                                   NaN             NaN   \n",
              "4     Mayur More, Jitendra Kumar, Ranjan Raj, Alam K...           India   \n",
              "...                                                 ...             ...   \n",
              "8503                                                NaN   United States   \n",
              "8509  Herjunot Ali, Pevita Pearce, Reza Rahadian, Ra...       Indonesia   \n",
              "8667  Nicolas Cage, Tom Sizemore, Thomas Jane, Matt ...   United States   \n",
              "8711  Liu Kai Chi, Lam Yiu-sing, Tony Tsz-Tung Wu, P...       Hong Kong   \n",
              "8733  Lyndon Ogbourne, Billy Zane, Billy Boyd, Joel ...  United Kingdom   \n",
              "\n",
              "              date_added  release_year rating   duration  \\\n",
              "0     September 25, 2021          2020  PG-13     90 min   \n",
              "1     September 24, 2021          2021  TV-MA  2 Seasons   \n",
              "2     September 24, 2021          2021  TV-MA   1 Season   \n",
              "3     September 24, 2021          2021  TV-MA   1 Season   \n",
              "4     September 24, 2021          2021  TV-MA  2 Seasons   \n",
              "...                  ...           ...    ...        ...   \n",
              "8503  September 30, 2018          2015  TV-PG   1 Season   \n",
              "8509  September 28, 2018          2013  TV-14    163 min   \n",
              "8667  September 25, 2019          2016      R    130 min   \n",
              "8711  September 27, 2018          2016  TV-MA     95 min   \n",
              "8733  September 25, 2017          2016  TV-MA     91 min   \n",
              "\n",
              "                                              listed_in  \\\n",
              "0                                         Documentaries   \n",
              "1       International TV Shows, TV Dramas, TV Mysteries   \n",
              "2     Crime TV Shows, International TV Shows, TV Act...   \n",
              "3                                Docuseries, Reality TV   \n",
              "4     International TV Shows, Romantic TV Shows, TV ...   \n",
              "...                                                 ...   \n",
              "8503                                         Docuseries   \n",
              "8509      Dramas, International Movies, Romantic Movies   \n",
              "8667                                 Action & Adventure   \n",
              "8711   Dramas, Independent Movies, International Movies   \n",
              "8733            Comedies, Independent Movies, Thrillers   \n",
              "\n",
              "                                            description  \n",
              "0     As her father nears the end of his life, filmm...  \n",
              "1     After crossing paths at a party, a Cape Town t...  \n",
              "2     To protect his family from a powerful drug lor...  \n",
              "3     Feuds, flirtations and toilet talk go down amo...  \n",
              "4     In a city of coaching centers known to train I...  \n",
              "...                                                 ...  \n",
              "8503  This series examines 1970s America, focusing o...  \n",
              "8509  When a young man leaves home to fulfill the wi...  \n",
              "8667  After becoming stranded in the Philippine Sea ...  \n",
              "8711  In 1980s Hong Kong, a school principal forms a...  \n",
              "8733  Returning to Ibiza after several years walking...  \n",
              "\n",
              "[228 rows x 12 columns]"
            ],
            "text/html": [
              "\n",
              "  <div id=\"df-b557f966-3cf2-42d4-8106-01fd7e052d42\">\n",
              "    <div class=\"colab-df-container\">\n",
              "      <div>\n",
              "<style scoped>\n",
              "    .dataframe tbody tr th:only-of-type {\n",
              "        vertical-align: middle;\n",
              "    }\n",
              "\n",
              "    .dataframe tbody tr th {\n",
              "        vertical-align: top;\n",
              "    }\n",
              "\n",
              "    .dataframe thead th {\n",
              "        text-align: right;\n",
              "    }\n",
              "</style>\n",
              "<table border=\"1\" class=\"dataframe\">\n",
              "  <thead>\n",
              "    <tr style=\"text-align: right;\">\n",
              "      <th></th>\n",
              "      <th>show_id</th>\n",
              "      <th>type</th>\n",
              "      <th>title</th>\n",
              "      <th>director</th>\n",
              "      <th>cast</th>\n",
              "      <th>country</th>\n",
              "      <th>date_added</th>\n",
              "      <th>release_year</th>\n",
              "      <th>rating</th>\n",
              "      <th>duration</th>\n",
              "      <th>listed_in</th>\n",
              "      <th>description</th>\n",
              "    </tr>\n",
              "  </thead>\n",
              "  <tbody>\n",
              "    <tr>\n",
              "      <th>0</th>\n",
              "      <td>s1</td>\n",
              "      <td>Movie</td>\n",
              "      <td>Dick Johnson Is Dead</td>\n",
              "      <td>Kirsten Johnson</td>\n",
              "      <td>NaN</td>\n",
              "      <td>United States</td>\n",
              "      <td>September 25, 2021</td>\n",
              "      <td>2020</td>\n",
              "      <td>PG-13</td>\n",
              "      <td>90 min</td>\n",
              "      <td>Documentaries</td>\n",
              "      <td>As her father nears the end of his life, filmm...</td>\n",
              "    </tr>\n",
              "    <tr>\n",
              "      <th>1</th>\n",
              "      <td>s2</td>\n",
              "      <td>TV Show</td>\n",
              "      <td>Blood &amp; Water</td>\n",
              "      <td>NaN</td>\n",
              "      <td>Ama Qamata, Khosi Ngema, Gail Mabalane, Thaban...</td>\n",
              "      <td>South Africa</td>\n",
              "      <td>September 24, 2021</td>\n",
              "      <td>2021</td>\n",
              "      <td>TV-MA</td>\n",
              "      <td>2 Seasons</td>\n",
              "      <td>International TV Shows, TV Dramas, TV Mysteries</td>\n",
              "      <td>After crossing paths at a party, a Cape Town t...</td>\n",
              "    </tr>\n",
              "    <tr>\n",
              "      <th>2</th>\n",
              "      <td>s3</td>\n",
              "      <td>TV Show</td>\n",
              "      <td>Ganglands</td>\n",
              "      <td>Julien Leclercq</td>\n",
              "      <td>Sami Bouajila, Tracy Gotoas, Samuel Jouy, Nabi...</td>\n",
              "      <td>NaN</td>\n",
              "      <td>September 24, 2021</td>\n",
              "      <td>2021</td>\n",
              "      <td>TV-MA</td>\n",
              "      <td>1 Season</td>\n",
              "      <td>Crime TV Shows, International TV Shows, TV Act...</td>\n",
              "      <td>To protect his family from a powerful drug lor...</td>\n",
              "    </tr>\n",
              "    <tr>\n",
              "      <th>3</th>\n",
              "      <td>s4</td>\n",
              "      <td>TV Show</td>\n",
              "      <td>Jailbirds New Orleans</td>\n",
              "      <td>NaN</td>\n",
              "      <td>NaN</td>\n",
              "      <td>NaN</td>\n",
              "      <td>September 24, 2021</td>\n",
              "      <td>2021</td>\n",
              "      <td>TV-MA</td>\n",
              "      <td>1 Season</td>\n",
              "      <td>Docuseries, Reality TV</td>\n",
              "      <td>Feuds, flirtations and toilet talk go down amo...</td>\n",
              "    </tr>\n",
              "    <tr>\n",
              "      <th>4</th>\n",
              "      <td>s5</td>\n",
              "      <td>TV Show</td>\n",
              "      <td>Kota Factory</td>\n",
              "      <td>NaN</td>\n",
              "      <td>Mayur More, Jitendra Kumar, Ranjan Raj, Alam K...</td>\n",
              "      <td>India</td>\n",
              "      <td>September 24, 2021</td>\n",
              "      <td>2021</td>\n",
              "      <td>TV-MA</td>\n",
              "      <td>2 Seasons</td>\n",
              "      <td>International TV Shows, Romantic TV Shows, TV ...</td>\n",
              "      <td>In a city of coaching centers known to train I...</td>\n",
              "    </tr>\n",
              "    <tr>\n",
              "      <th>...</th>\n",
              "      <td>...</td>\n",
              "      <td>...</td>\n",
              "      <td>...</td>\n",
              "      <td>...</td>\n",
              "      <td>...</td>\n",
              "      <td>...</td>\n",
              "      <td>...</td>\n",
              "      <td>...</td>\n",
              "      <td>...</td>\n",
              "      <td>...</td>\n",
              "      <td>...</td>\n",
              "      <td>...</td>\n",
              "    </tr>\n",
              "    <tr>\n",
              "      <th>8503</th>\n",
              "      <td>s8504</td>\n",
              "      <td>TV Show</td>\n",
              "      <td>The Seventies</td>\n",
              "      <td>NaN</td>\n",
              "      <td>NaN</td>\n",
              "      <td>United States</td>\n",
              "      <td>September 30, 2018</td>\n",
              "      <td>2015</td>\n",
              "      <td>TV-PG</td>\n",
              "      <td>1 Season</td>\n",
              "      <td>Docuseries</td>\n",
              "      <td>This series examines 1970s America, focusing o...</td>\n",
              "    </tr>\n",
              "    <tr>\n",
              "      <th>8509</th>\n",
              "      <td>s8510</td>\n",
              "      <td>Movie</td>\n",
              "      <td>The Sinking Of Van Der Wijck</td>\n",
              "      <td>Sunil Soraya</td>\n",
              "      <td>Herjunot Ali, Pevita Pearce, Reza Rahadian, Ra...</td>\n",
              "      <td>Indonesia</td>\n",
              "      <td>September 28, 2018</td>\n",
              "      <td>2013</td>\n",
              "      <td>TV-14</td>\n",
              "      <td>163 min</td>\n",
              "      <td>Dramas, International Movies, Romantic Movies</td>\n",
              "      <td>When a young man leaves home to fulfill the wi...</td>\n",
              "    </tr>\n",
              "    <tr>\n",
              "      <th>8667</th>\n",
              "      <td>s8668</td>\n",
              "      <td>Movie</td>\n",
              "      <td>USS Indianapolis: Men of Courage</td>\n",
              "      <td>Mario Van Peebles</td>\n",
              "      <td>Nicolas Cage, Tom Sizemore, Thomas Jane, Matt ...</td>\n",
              "      <td>United States</td>\n",
              "      <td>September 25, 2019</td>\n",
              "      <td>2016</td>\n",
              "      <td>R</td>\n",
              "      <td>130 min</td>\n",
              "      <td>Action &amp; Adventure</td>\n",
              "      <td>After becoming stranded in the Philippine Sea ...</td>\n",
              "    </tr>\n",
              "    <tr>\n",
              "      <th>8711</th>\n",
              "      <td>s8712</td>\n",
              "      <td>Movie</td>\n",
              "      <td>Weeds on Fire</td>\n",
              "      <td>Chi Fat Chan</td>\n",
              "      <td>Liu Kai Chi, Lam Yiu-sing, Tony Tsz-Tung Wu, P...</td>\n",
              "      <td>Hong Kong</td>\n",
              "      <td>September 27, 2018</td>\n",
              "      <td>2016</td>\n",
              "      <td>TV-MA</td>\n",
              "      <td>95 min</td>\n",
              "      <td>Dramas, Independent Movies, International Movies</td>\n",
              "      <td>In 1980s Hong Kong, a school principal forms a...</td>\n",
              "    </tr>\n",
              "    <tr>\n",
              "      <th>8733</th>\n",
              "      <td>s8734</td>\n",
              "      <td>Movie</td>\n",
              "      <td>White Island</td>\n",
              "      <td>Benjamin Turner</td>\n",
              "      <td>Lyndon Ogbourne, Billy Zane, Billy Boyd, Joel ...</td>\n",
              "      <td>United Kingdom</td>\n",
              "      <td>September 25, 2017</td>\n",
              "      <td>2016</td>\n",
              "      <td>TV-MA</td>\n",
              "      <td>91 min</td>\n",
              "      <td>Comedies, Independent Movies, Thrillers</td>\n",
              "      <td>Returning to Ibiza after several years walking...</td>\n",
              "    </tr>\n",
              "  </tbody>\n",
              "</table>\n",
              "<p>228 rows × 12 columns</p>\n",
              "</div>\n",
              "      <button class=\"colab-df-convert\" onclick=\"convertToInteractive('df-b557f966-3cf2-42d4-8106-01fd7e052d42')\"\n",
              "              title=\"Convert this dataframe to an interactive table.\"\n",
              "              style=\"display:none;\">\n",
              "        \n",
              "  <svg xmlns=\"http://www.w3.org/2000/svg\" height=\"24px\"viewBox=\"0 0 24 24\"\n",
              "       width=\"24px\">\n",
              "    <path d=\"M0 0h24v24H0V0z\" fill=\"none\"/>\n",
              "    <path d=\"M18.56 5.44l.94 2.06.94-2.06 2.06-.94-2.06-.94-.94-2.06-.94 2.06-2.06.94zm-11 1L8.5 8.5l.94-2.06 2.06-.94-2.06-.94L8.5 2.5l-.94 2.06-2.06.94zm10 10l.94 2.06.94-2.06 2.06-.94-2.06-.94-.94-2.06-.94 2.06-2.06.94z\"/><path d=\"M17.41 7.96l-1.37-1.37c-.4-.4-.92-.59-1.43-.59-.52 0-1.04.2-1.43.59L10.3 9.45l-7.72 7.72c-.78.78-.78 2.05 0 2.83L4 21.41c.39.39.9.59 1.41.59.51 0 1.02-.2 1.41-.59l7.78-7.78 2.81-2.81c.8-.78.8-2.07 0-2.86zM5.41 20L4 18.59l7.72-7.72 1.47 1.35L5.41 20z\"/>\n",
              "  </svg>\n",
              "      </button>\n",
              "      \n",
              "  <style>\n",
              "    .colab-df-container {\n",
              "      display:flex;\n",
              "      flex-wrap:wrap;\n",
              "      gap: 12px;\n",
              "    }\n",
              "\n",
              "    .colab-df-convert {\n",
              "      background-color: #E8F0FE;\n",
              "      border: none;\n",
              "      border-radius: 50%;\n",
              "      cursor: pointer;\n",
              "      display: none;\n",
              "      fill: #1967D2;\n",
              "      height: 32px;\n",
              "      padding: 0 0 0 0;\n",
              "      width: 32px;\n",
              "    }\n",
              "\n",
              "    .colab-df-convert:hover {\n",
              "      background-color: #E2EBFA;\n",
              "      box-shadow: 0px 1px 2px rgba(60, 64, 67, 0.3), 0px 1px 3px 1px rgba(60, 64, 67, 0.15);\n",
              "      fill: #174EA6;\n",
              "    }\n",
              "\n",
              "    [theme=dark] .colab-df-convert {\n",
              "      background-color: #3B4455;\n",
              "      fill: #D2E3FC;\n",
              "    }\n",
              "\n",
              "    [theme=dark] .colab-df-convert:hover {\n",
              "      background-color: #434B5C;\n",
              "      box-shadow: 0px 1px 3px 1px rgba(0, 0, 0, 0.15);\n",
              "      filter: drop-shadow(0px 1px 2px rgba(0, 0, 0, 0.3));\n",
              "      fill: #FFFFFF;\n",
              "    }\n",
              "  </style>\n",
              "\n",
              "      <script>\n",
              "        const buttonEl =\n",
              "          document.querySelector('#df-b557f966-3cf2-42d4-8106-01fd7e052d42 button.colab-df-convert');\n",
              "        buttonEl.style.display =\n",
              "          google.colab.kernel.accessAllowed ? 'block' : 'none';\n",
              "\n",
              "        async function convertToInteractive(key) {\n",
              "          const element = document.querySelector('#df-b557f966-3cf2-42d4-8106-01fd7e052d42');\n",
              "          const dataTable =\n",
              "            await google.colab.kernel.invokeFunction('convertToInteractive',\n",
              "                                                     [key], {});\n",
              "          if (!dataTable) return;\n",
              "\n",
              "          const docLinkHtml = 'Like what you see? Visit the ' +\n",
              "            '<a target=\"_blank\" href=https://colab.research.google.com/notebooks/data_table.ipynb>data table notebook</a>'\n",
              "            + ' to learn more about interactive tables.';\n",
              "          element.innerHTML = '';\n",
              "          dataTable['output_type'] = 'display_data';\n",
              "          await google.colab.output.renderOutput(dataTable, element);\n",
              "          const docLink = document.createElement('div');\n",
              "          docLink.innerHTML = docLinkHtml;\n",
              "          element.appendChild(docLink);\n",
              "        }\n",
              "      </script>\n",
              "    </div>\n",
              "  </div>\n",
              "  "
            ]
          },
          "metadata": {},
          "execution_count": 102
        }
      ]
    },
    {
      "cell_type": "markdown",
      "source": [
        "# **Predictions**"
      ],
      "metadata": {
        "id": "rHAoKBWrXuj6"
      }
    },
    {
      "cell_type": "code",
      "source": [],
      "metadata": {
        "id": "kw0IhquCXzFn"
      },
      "execution_count": null,
      "outputs": []
    },
    {
      "cell_type": "code",
      "source": [],
      "metadata": {
        "id": "ScI6YAvAXzLh"
      },
      "execution_count": null,
      "outputs": []
    },
    {
      "cell_type": "code",
      "source": [],
      "metadata": {
        "id": "mupn6y4RXzN-"
      },
      "execution_count": null,
      "outputs": []
    },
    {
      "cell_type": "code",
      "source": [],
      "metadata": {
        "id": "dkLre5dwXzQo"
      },
      "execution_count": null,
      "outputs": []
    },
    {
      "cell_type": "code",
      "source": [],
      "metadata": {
        "id": "TjeeWnvKXzTH"
      },
      "execution_count": null,
      "outputs": []
    },
    {
      "cell_type": "code",
      "source": [],
      "metadata": {
        "id": "qr-dtGIPXtRg"
      },
      "execution_count": null,
      "outputs": []
    },
    {
      "cell_type": "markdown",
      "source": [
        "# Data Visualizaton"
      ],
      "metadata": {
        "id": "RKqKPTYKiJWO"
      }
    },
    {
      "cell_type": "code",
      "source": [
        "sns.boxplot(x=netflix_movies_df['release_year'])\n"
      ],
      "metadata": {
        "colab": {
          "base_uri": "https://localhost:8080/",
          "height": 297
        },
        "id": "VLUn2PzwiOZF",
        "outputId": "e2ed5b98-6d1f-4b9e-d35c-08669c5bfc00"
      },
      "execution_count": null,
      "outputs": [
        {
          "output_type": "execute_result",
          "data": {
            "text/plain": [
              "<matplotlib.axes._subplots.AxesSubplot at 0x7f5f155e6730>"
            ]
          },
          "metadata": {},
          "execution_count": 42
        },
        {
          "output_type": "display_data",
          "data": {
            "text/plain": [
              "<Figure size 432x288 with 1 Axes>"
            ],
            "image/png": "[encoded data removed]"
          },
          "metadata": {
            "needs_background": "light"
          }
        }
      ]
    },
    {
      "cell_type": "code",
      "source": [
        "netflix_movies_df.hist(figsize=(8,6), bins=30)"
      ],
      "metadata": {
        "id": "h7i6JmRVk26O",
        "outputId": "6bea9a3c-bf35-4d9e-f97f-9b5270175801",
        "colab": {
          "base_uri": "https://localhost:8080/",
          "height": 425
        }
      },
      "execution_count": null,
      "outputs": [
        {
          "output_type": "execute_result",
          "data": {
            "text/plain": [
              "array([[<matplotlib.axes._subplots.AxesSubplot object at 0x7f5f1900a8b0>]],\n",
              "      dtype=object)"
            ]
          },
          "metadata": {},
          "execution_count": 25
        },
        {
          "output_type": "display_data",
          "data": {
            "text/plain": [
              "<Figure size 576x432 with 1 Axes>"
            ],
            "image/png": "[encoded data removed]"
          },
          "metadata": {
            "needs_background": "light"
          }
        }
      ]
    },
    {
      "cell_type": "code",
      "source": [
        "# Group the data by director and count the number of movies for each director\n",
        "director_counts = netflix_movies_df.groupby('director').size().sort_values(ascending=False)[:5]\n",
        "\n",
        "# Pivot the data to create a table with directors as rows and release year as columns\n",
        "table = pd.pivot_table(netflix_movies_df[netflix_movies_df['director'].isin(director_counts.index)],\n",
        "                       index='director', columns='release_year', values='title', aggfunc='count', fill_value=0)\n",
        "\n",
        "# Create a heatmap of the table\n",
        "sns.heatmap(table, cmap='Blues')\n",
        "\n",
        "# Set the title and axis labels\n",
        "plt.title('Top 5 Directors by Number of Movies')\n",
        "plt.xlabel('Release Year')\n",
        "plt.ylabel('Director')\n",
        "\n",
        "# Display the heatmap\n",
        "plt.show()\n"
      ],
      "metadata": {
        "id": "UVjikuEnk28w",
        "outputId": "8c28a8c0-b7b3-4de3-b60d-fa11774e2c4f",
        "colab": {
          "base_uri": "https://localhost:8080/",
          "height": 311
        }
      },
      "execution_count": null,
      "outputs": [
        {
          "output_type": "display_data",
          "data": {
            "text/plain": [
              "<Figure size 432x288 with 2 Axes>"
            ],
            "image/png": "[encoded data removed]"
          },
          "metadata": {
            "needs_background": "light"
          }
        }
      ]
    },
    {
      "cell_type": "code",
      "source": [
        "# Create a pivot table with release year as rows, country as columns, and count of movies with duration greater than 120 minutes\n",
        "table = pd.pivot_table(netflix_movies_df[netflix_movies_df['listed_in'] =='Action & Adventure'],\n",
        "                       index='release_year', columns='country', values='title', aggfunc='count', fill_value=0)\n",
        "\n",
        "# Create a heatmap of the pivot table\n",
        "sns.heatmap(table, cmap='Greens')\n",
        "\n",
        "# Set the title and axis labels\n",
        "plt.title('Movies Category by Release Year and Country')\n",
        "plt.xlabel('Country')\n",
        "plt.ylabel('Release Year')\n",
        "\n",
        "# Display the heatmap\n",
        "plt.show()\n"
      ],
      "metadata": {
        "id": "ivNw6DHdk2_D",
        "outputId": "2f578531-b557-46f9-9150-31b5113caadc",
        "colab": {
          "base_uri": "https://localhost:8080/",
          "height": 531
        }
      },
      "execution_count": null,
      "outputs": [
        {
          "output_type": "display_data",
          "data": {
            "text/plain": [
              "<Figure size 432x288 with 2 Axes>"
            ],
            "image/png": "[encoded data removed]"
          },
          "metadata": {
            "needs_background": "light"
          }
        }
      ]
    },
    {
      "cell_type": "code",
      "source": [
        "from matplotlib.pyplot import figure\n",
        "\n",
        "figure(figsize=(12, 8), dpi=80)\n",
        "sns.countplot(netflix_movies_df['rating'])"
      ],
      "metadata": {
        "id": "brggK7qQk3Bx",
        "outputId": "8e192810-88d2-48c0-d3d2-92014cd199bb",
        "colab": {
          "base_uri": "https://localhost:8080/",
          "height": 620
        }
      },
      "execution_count": null,
      "outputs": [
        {
          "output_type": "stream",
          "name": "stderr",
          "text": [
            "/usr/local/lib/python3.8/dist-packages/seaborn/_decorators.py:36: FutureWarning: Pass the following variable as a keyword arg: x. From version 0.12, the only valid positional argument will be `data`, and passing other arguments without an explicit keyword will result in an error or misinterpretation.\n",
            "  warnings.warn(\n"
          ]
        },
        {
          "output_type": "execute_result",
          "data": {
            "text/plain": [
              "<matplotlib.axes._subplots.AxesSubplot at 0x7f5f163d6310>"
            ]
          },
          "metadata": {},
          "execution_count": 30
        },
        {
          "output_type": "display_data",
          "data": {
            "text/plain": [
              "<Figure size 960x640 with 1 Axes>"
            ],
            "image/png": "[encoded data removed]"
          },
          "metadata": {
            "needs_background": "light"
          }
        }
      ]
    },
    {
      "cell_type": "code",
      "source": [
        "# First, we need to group the data by director and count the number of movies each director has directed\n",
        "director_counts = netflix_movies_df.groupby('director').count()['title'].sort_values(ascending=False)\n",
        "\n",
        "# Get the top 10 directors by count\n",
        "top_10_directors = director_counts[:10]\n",
        "\n",
        "# Plot the bar graph\n",
        "plt.figure(figsize=(12, 8), dpi=80)\n",
        "sns.barplot(x=top_10_directors.values, y=top_10_directors.index)\n",
        "\n",
        "# Add labels and titles to the plot\n",
        "plt.xlabel('Number of Movies Directed')\n",
        "plt.ylabel('Director')\n",
        "plt.title('Top 10 Directors by Number of Movies Directed')\n",
        "\n",
        "# Show the plot\n",
        "plt.show()\n"
      ],
      "metadata": {
        "id": "MywqwUgik3EF",
        "outputId": "b8d67752-c258-464d-9635-569897b97785",
        "colab": {
          "base_uri": "https://localhost:8080/",
          "height": 565
        }
      },
      "execution_count": null,
      "outputs": [
        {
          "output_type": "display_data",
          "data": {
            "text/plain": [
              "<Figure size 960x640 with 1 Axes>"
            ],
            "image/png": "[encoded data removed]"
          },
          "metadata": {
            "needs_background": "light"
          }
        }
      ]
    },
    {
      "cell_type": "code",
      "source": [
        "# First, we need to group the data by country and count the number of movies each country has produced\n",
        "country_counts = netflix_movies_df.groupby('country').count()['title'].sort_values(ascending=False)\n",
        "\n",
        "# Get the top 5 countries by count\n",
        "top_5_countries = country_counts[:5]\n",
        "\n",
        "# Plot the bar graph\n",
        "plt.figure(figsize=(8, 6), dpi=80)\n",
        "sns.barplot(x=top_5_countries.index, y=top_5_countries.values)\n",
        "\n",
        "# Add labels and titles to the plot\n",
        "plt.xlabel('Country')\n",
        "plt.ylabel('Number of Movies Produced')\n",
        "plt.title('Top 5 Countries by Number of Movies Produced')\n",
        "\n",
        "# Show the plot\n",
        "plt.show()\n"
      ],
      "metadata": {
        "id": "lmt-vIjclujl",
        "outputId": "9b4976c0-6ddb-42cf-8caa-14828d8326c0",
        "colab": {
          "base_uri": "https://localhost:8080/",
          "height": 444
        }
      },
      "execution_count": null,
      "outputs": [
        {
          "output_type": "display_data",
          "data": {
            "text/plain": [
              "<Figure size 640x480 with 1 Axes>"
            ],
            "image/png": "[encoded data removed]"
          },
          "metadata": {
            "needs_background": "light"
          }
        }
      ]
    },
    {
      "cell_type": "code",
      "source": [
        "plt.figure(figsize=(12, 8), dpi=80)\n",
        "sns.countplot(x='release_year', data=netflix_movies_df[netflix_movies_df['release_year'] > 1998])\n"
      ],
      "metadata": {
        "id": "bfdLZ0I5lumz",
        "outputId": "14907899-c31a-4ac8-d9d9-3b6c2a08b458",
        "colab": {
          "base_uri": "https://localhost:8080/",
          "height": 568
        }
      },
      "execution_count": null,
      "outputs": [
        {
          "output_type": "execute_result",
          "data": {
            "text/plain": [
              "<matplotlib.axes._subplots.AxesSubplot at 0x7f5f15510b20>"
            ]
          },
          "metadata": {},
          "execution_count": 41
        },
        {
          "output_type": "display_data",
          "data": {
            "text/plain": [
              "<Figure size 960x640 with 1 Axes>"
            ],
            "image/png": "[encoded data removed]"
          },
          "metadata": {
            "needs_background": "light"
          }
        }
      ]
    },
    {
      "cell_type": "code",
      "source": [],
      "metadata": {
        "id": "pWpCL4zElupu"
      },
      "execution_count": null,
      "outputs": []
    },
    {
      "cell_type": "code",
      "source": [],
      "metadata": {
        "id": "Ih7IQ5EKluri"
      },
      "execution_count": null,
      "outputs": []
    }
  ]
}