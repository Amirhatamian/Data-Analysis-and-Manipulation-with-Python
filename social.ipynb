{
  "nbformat": 4,
  "nbformat_minor": 0,
  "metadata": {
    "colab": {
      "provenance": [],
      "authorship_tag": "ABX9TyNX+zkMNExiIJuwFvq7RIqq",
      "include_colab_link": true
    },
    "kernelspec": {
      "name": "python3",
      "display_name": "Python 3"
    },
    "language_info": {
      "name": "python"
    }
  },
  "cells": [
    {
      "cell_type": "markdown",
      "metadata": {
        "id": "view-in-github",
        "colab_type": "text"
      },
      "source": [
        "<a href=\"https://colab.research.google.com/github/Amirhatamian/PY/blob/main/social.ipynb\" target=\"_parent\"><img src=\"https://colab.research.google.com/assets/colab-badge.svg\" alt=\"Open In Colab\"/></a>"
      ]
    },
    {
      "cell_type": "code",
      "execution_count": null,
      "metadata": {
        "id": "0RO6QG-iq29k"
      },
      "outputs": [],
      "source": [
        "# importing required libraries\n",
        "import pandas as pd\n",
        "import numpy as np\n",
        "import matplotlib.pyplot as plt\n",
        "import seaborn as sns\n"
      ]
    },
    {
      "cell_type": "code",
      "source": [
        "us_df = pd.read_csv('US Police shootings in from 2015-22.csv')"
      ],
      "metadata": {
        "id": "-XozF1YguOnk"
      },
      "execution_count": null,
      "outputs": []
    },
    {
      "cell_type": "code",
      "source": [
        "us_df.head()"
      ],
      "metadata": {
        "id": "23NxoYAUv5Vm"
      },
      "execution_count": null,
      "outputs": []
    },
    {
      "cell_type": "markdown",
      "source": [
        "**Dataset Items:**\n",
        "\n",
        "* **id:** Serial No\n",
        "* **name:** Name of the victim\n",
        "* **date:** Date of the occurance\n",
        "* **manner_of_death:** In which way the victim died\n",
        "* **armed:** Used weapon of the victim\n",
        "* **age:** Age of the victim\n",
        "* **gender:** Gender of the victim\n",
        "* **race:** Race of the victim\n",
        "* **city:** City of the occurance\n",
        "* **state:** State of the occurance\n",
        "* **signs_of_mental_illness:** Either victim shows sign of mental illness or not\n",
        "* **threat_level:** Threat level from the victim\n",
        "* **flee:** Either victim fleed or not, if fleed then used vehicle\n",
        "* **body_camera:** Either the occurance is recorded using camera or not\n",
        "* **longitude:** Longitude of the place of occurance\n",
        "* **latitude:** Latitude of the place of occurance\n",
        "* **is_geocoding_exact:** Either the place of occurance is exactly available or not\n",
        "\n"
      ],
      "metadata": {
        "id": "pPD5flDmhski"
      }
    },
    {
      "cell_type": "code",
      "source": [
        "us_df.tail()"
      ],
      "metadata": {
        "id": "Nh2RVp_EwLgZ"
      },
      "execution_count": null,
      "outputs": []
    },
    {
      "cell_type": "code",
      "source": [
        "us_df.shape"
      ],
      "metadata": {
        "id": "J9m5a52YwYQ5"
      },
      "execution_count": null,
      "outputs": []
    },
    {
      "cell_type": "code",
      "source": [
        "print(f\"\\nGlimpse Of The Dataset :\")\n",
        "us_df.head().style.set_properties(**{\"background-color\": \"aqua \",\"color\":\"#092434\",\"border\": \"1.5px #ddab46\"})"
      ],
      "metadata": {
        "id": "qNgSRlQSqw_P"
      },
      "execution_count": null,
      "outputs": []
    },
    {
      "cell_type": "code",
      "source": [
        "us_df.describe(include=\"object\").T.style.set_properties(**{\"background-color\": \"#ddab46\",\"color\":\"#452912\",\"border\": \"1.5px #ddab46\"})"
      ],
      "metadata": {
        "id": "wN8GBZOpsC-7"
      },
      "execution_count": null,
      "outputs": []
    },
    {
      "cell_type": "code",
      "source": [
        "us_df.describe(include=\"object\").T.style.set_properties(**{\"background-color\": \"#ddab46\",\"color\":\"#452912\",\"border\": \"1.5px #ddab46\"})"
      ],
      "metadata": {
        "id": "-ZwYg5tgwePb"
      },
      "execution_count": null,
      "outputs": []
    },
    {
      "cell_type": "code",
      "source": [
        "us_df.duplicated().sum()"
      ],
      "metadata": {
        "id": "pKlbVLWAkbbk"
      },
      "execution_count": null,
      "outputs": []
    },
    {
      "cell_type": "code",
      "source": [
        "us_df.info()\n"
      ],
      "metadata": {
        "id": "hrqfNlaOyZ9M"
      },
      "execution_count": null,
      "outputs": []
    },
    {
      "cell_type": "code",
      "source": [
        "us_df.dtypes"
      ],
      "metadata": {
        "id": "TjH2qpVY0FIB"
      },
      "execution_count": null,
      "outputs": []
    },
    {
      "cell_type": "code",
      "source": [
        "us_df.corr()"
      ],
      "metadata": {
        "id": "Ejqt4VMv0NZs"
      },
      "execution_count": null,
      "outputs": []
    },
    {
      "cell_type": "code",
      "source": [
        "us_df.isnull()"
      ],
      "metadata": {
        "id": "VYhicAD92juX"
      },
      "execution_count": null,
      "outputs": []
    },
    {
      "cell_type": "code",
      "source": [
        "print(f\"Null values of the Dataset :\")\n",
        "us_df.isna().sum().to_frame().T.style.set_properties(**{\"background-color\": \"#ddab46\",\"color\":\"#452912\",\"border\": \"1.5px #ddab46\"})"
      ],
      "metadata": {
        "id": "ZqZE-0TDlO4g"
      },
      "execution_count": null,
      "outputs": []
    },
    {
      "cell_type": "code",
      "source": [
        "# Check for null values.\n",
        "for col in us_df.columns:\n",
        "  null_rate = us_df[col].isnull().sum() / len(us_df) * 100\n",
        "  if null_rate > 0:\n",
        "    print(f'Percentage of null values in {col} : {null_rate}%')"
      ],
      "metadata": {
        "id": "Q70IRlDg2029"
      },
      "execution_count": null,
      "outputs": []
    },
    {
      "cell_type": "code",
      "source": [
        "null_percent = us_df.isnull().sum()/us_df.shape[0]*100\n",
        "null_percent.plot(kind='bar')\n",
        "plt.title(\"Percentage of null values in each Column\")\n",
        "plt.show()"
      ],
      "metadata": {
        "id": "tq0E8-8Q3CPO"
      },
      "execution_count": null,
      "outputs": []
    },
    {
      "cell_type": "code",
      "source": [
        "us_df.dropna(axis = 0, inplace = True)\n",
        "print(f\"After dropping null values, the shape of the Dataset is {us_df.shape}\")\n",
        "print(f\"After dropping null values, null values of the Dataset :\")\n",
        "us_df.isna().sum().to_frame().T.style.set_properties(**{\"background-color\": \"#ddab46\",\"color\":\"#452912\",\"border\": \"1.5px #ddab46\"})"
      ],
      "metadata": {
        "id": "Vt61hnCxl8TK"
      },
      "execution_count": null,
      "outputs": []
    },
    {
      "cell_type": "markdown",
      "source": [
        "**Data Preprocessing**"
      ],
      "metadata": {
        "id": "Xjz5B2ixuRh9"
      }
    },
    {
      "cell_type": "code",
      "source": [
        "us_df[\"State\"] = us_df[\"state\"].replace(states)\n",
        "us_df[\"manner_of_death\"].replace({\"shot\":\"Shot\", \"shot and Tasered\":\"Shot and Tasered\"}, inplace = True)\n",
        "us_df[\"armed\"].replace({\"gun\":\"Gun\", \"knife\":\"Knife\", \"unarmed\":\"Unarmed\", \"undetermined\":\"Undetermined\", \"vehicle\":\"Vehicle\", \"toy weapon\":\"Toy Weapon\", \"unknown weapon\":\"Unknown Weapon\", \"machete\":\"Machete\"}, inplace = True)\n",
        "us_df[\"gender\"].replace({\"M\":\"Male\", \"F\":\"Female\"}, inplace = True)\n",
        "us_df = us_df.rename(columns={'year': 'Year'})\n",
        "us_df = us_df.rename(columns={'month': 'Month'})\n",
        "us_df = us_df.rename(columns={'day': 'Day'})\n"
      ],
      "metadata": {
        "id": "fQ9l8mLNtpKG"
      },
      "execution_count": null,
      "outputs": []
    },
    {
      "cell_type": "code",
      "source": [
        "us_df.head()"
      ],
      "metadata": {
        "id": "SB4CAObpzCiO"
      },
      "execution_count": null,
      "outputs": []
    },
    {
      "cell_type": "code",
      "source": [
        "us_df[\"signs_of_mental_illness\"].replace({True:\"Abnormal\", False:\"Normal\"}, inplace = True)\n",
        "us_df[\"body_camera\"].replace({True:\"Available\", False:\"Not Available\"}, inplace = True)\n",
        "us_df[\"race\"].replace({\"W\":\"White\", \"B\":\"Black\", \"H\":\"Hispanic\", \"A\":\"Asian\", \"N\":\"Native\", \"O\":\"Other\"}, inplace = True)\n",
        "us_df[\"threat_level\"].replace({\"attack\":\"Attack\", \"other\":\"Not Attack\", \"undetermined\":\"Unknown\"}, inplace = True)\n",
        "us_df[\"flee\"].replace({\"Not fleeing\":\"Not Fleeing\", \"Other\":\"Unknown\"}, inplace = True)\n",
        "us_df.rename(columns={\"name\": \"Name\",\"date\": \"Date\",\"manner_of_death\": \"Manner Of Death\",\"armed\":\"Armed\",\"age\":\"Age\",\"gender\":\"Gender\",\"race\":\"Race\",\"city\":\"City\",\"state\": \"State Code\",\"signs_of_mental_illness\":\"Mental Illness\",\"threat_level\":\"Threat Level\",\"flee\":\"Flee\",\"body_camera\":\"Footage\"}, inplace = True)\n",
        "us_df = us_df[[\"Year\",\"City\",\"State\", \"State Code\",\"Name\",\"Age\",\"Gender\",\"Race\",\"Mental Illness\",\"Armed\",\"Threat Level\",\"Manner Of Death\",\"Flee\",\"Footage\"]]\n"
      ],
      "metadata": {
        "id": "OD35Is0uu4lA"
      },
      "execution_count": null,
      "outputs": []
    },
    {
      "cell_type": "code",
      "source": [],
      "metadata": {
        "id": "QDD3YI2vuP_V"
      },
      "execution_count": null,
      "outputs": []
    },
    {
      "cell_type": "code",
      "source": [
        "us_df.head()"
      ],
      "metadata": {
        "id": "BYHqCHmI3MW5"
      },
      "execution_count": null,
      "outputs": []
    },
    {
      "cell_type": "code",
      "source": [
        "#Drop extra columns\n",
        "us_df.drop(['id'], inplace = True , axis =1)"
      ],
      "metadata": {
        "id": "9vbdafJs3edC"
      },
      "execution_count": null,
      "outputs": []
    },
    {
      "cell_type": "code",
      "source": [
        "#creating 3 new columns(year, month, day) from Date column \n",
        "us_df['date'] = pd.to_datetime(us_df['date'])\n",
        "us_df['year'] = us_df['date'].dt.year\n",
        "us_df['month'] = us_df['date'].dt.month\n",
        "us_df['day'] = us_df['date'].dt.day\n",
        "us_df.head()"
      ],
      "metadata": {
        "id": "rlPhDMRd34mH"
      },
      "execution_count": null,
      "outputs": []
    }
  ]
}